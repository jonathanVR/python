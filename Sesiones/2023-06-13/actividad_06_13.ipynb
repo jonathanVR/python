{
 "cells": [
  {
   "attachments": {},
   "cell_type": "markdown",
   "metadata": {},
   "source": [
    "# <img style=\"float: left; padding-right: 20px; height: 70px\" src=\"https://scontent.flpb2-1.fna.fbcdn.net/v/t39.30808-6/333037578_535368228681036_1718744419186811485_n.jpg?_nc_cat=101&ccb=1-7&_nc_sid=09cbfe&_nc_ohc=Y0wrgOHt3UIAX_CTUKQ&_nc_ht=scontent.flpb2-1.fna&oh=00_AfBfGzpo0-x8gU11VFnWwNRJ-1tOK9hv1D7JAHfZhFfzOw&oe=648C289F\"> Herramientas Básicas de Visualización de Datos\n",
    "\n",
    "## Actividad 13 de Junio: Manejo de variables en python\n",
    "\n",
    "**Universidad Privada Boliviana**<br/>\n",
    "**Diplomado en Machine Learning y Ciencia de Datos 2-2023**<br/>\n",
    "**Junio 2023**<br/>"
   ]
  },
  {
   "attachments": {},
   "cell_type": "markdown",
   "metadata": {},
   "source": [
    "## Ejercicio: Planificador Pizzas 🍕\n",
    "\n",
    "Estás organizando una fiesta y quieres calcular cuántas pizzas necesitas pedir en función del número de invitados, su apetito y los tamaños de pizza disponibles. Construyamos un programa en Python para ayudarte con esta tarea.\n",
    "\n",
    "## Instrucciones:\n",
    "\n",
    "1.  Define una variable `num_invitados` y asígnale un valor apropiado basado en el número de invitados que esperas. Utiliza un número entero para esta variable.\n"
   ]
  },
  {
   "cell_type": "code",
   "execution_count": 22,
   "metadata": {},
   "outputs": [],
   "source": [
    "# tu codigo aca...\n",
    "num_invitados=45"
   ]
  },
  {
   "attachments": {},
   "cell_type": "markdown",
   "metadata": {},
   "source": [
    "    \n",
    "2.  Define una variable `rebanadas_por_invitado` y asígnale un valor apropiado basado en la cantidad promedio de rebanadas que cada invitado podría consumir. Esto puede ser un número decimal o entero."
   ]
  },
  {
   "cell_type": "code",
   "execution_count": 23,
   "metadata": {},
   "outputs": [],
   "source": [
    "# Tu codigo aca\n",
    "rebanadas_por_invitado=2"
   ]
  },
  {
   "attachments": {},
   "cell_type": "markdown",
   "metadata": {},
   "source": [
    "3.  Calcula el total de rebanadas de pizza necesarias utilizando la fórmula:\n",
    "    \n",
    "    ```\n",
    "    total_rebanadas = num_invitados * rebanadas_por_invitado\n",
    "    \n",
    "    ```\n",
    "\n",
    "    \n"
   ]
  },
  {
   "cell_type": "code",
   "execution_count": 24,
   "metadata": {},
   "outputs": [],
   "source": [
    "# Tu codigo aca\n",
    "total_rebanadas = num_invitados * rebanadas_por_invitado"
   ]
  },
  {
   "attachments": {},
   "cell_type": "markdown",
   "metadata": {},
   "source": [
    "    \n",
    "4.  Ahora, necesitas determinar la cantidad de pizzas requeridas para satisfacer a todos. Cada pizza tiene un número fijo de rebanadas, que definirás en una variable `rebanadas_por_pizza`. Elige un valor adecuado para esta variable por ejemplo 12 rebanadas en un pizza."
   ]
  },
  {
   "cell_type": "code",
   "execution_count": 25,
   "metadata": {},
   "outputs": [],
   "source": [
    "# Tu codigo aca\n",
    "rebanadas_por_pizza=12"
   ]
  },
  {
   "attachments": {},
   "cell_type": "markdown",
   "metadata": {},
   "source": [
    "5.  Calcula la cantidad de pizzas necesarias utilizando la fórmula:\n",
    "    \n",
    "    ```\n",
    "    num_pizzas = total_rebanadas // rebanadas_por_pizza + 1\n",
    "    \n",
    "    ```\n",
    "    \n",
    "    Nota: El operador `//` realiza una división entera, descartando el residuo.\n",
    "    \n"
   ]
  },
  {
   "cell_type": "code",
   "execution_count": 26,
   "metadata": {},
   "outputs": [],
   "source": [
    "# Tu codigo aca\n",
    "num_pizzas=total_rebanadas//rebanadas_por_pizza+1"
   ]
  },
  {
   "attachments": {},
   "cell_type": "markdown",
   "metadata": {},
   "source": [
    "6.  Para hacer la fiesta de pizza más interesante, decides ofrecer una variedad de sabores. Define tres variables `sabor1`, `sabor2` y `sabor3`, y asígnales tus tres sabores de pizza favoritos como cadenas de texto. Por ejemplo `sabor1 = 'pepperoni'`\n"
   ]
  },
  {
   "cell_type": "code",
   "execution_count": 27,
   "metadata": {},
   "outputs": [],
   "source": [
    "# tu codigo aca\n",
    "sabor1 = \"carnivora\"\n",
    "sabor2 = \"jamon con queso\"\n",
    "sabor3 = \"pepperoni\"\n",
    "\n"
   ]
  },
  {
   "attachments": {},
   "cell_type": "markdown",
   "metadata": {},
   "source": [
    "    \n",
    "7.  Crea otra variable `num_sabores` y asígnale el valor 3.\n"
   ]
  },
  {
   "cell_type": "code",
   "execution_count": 28,
   "metadata": {},
   "outputs": [],
   "source": [
    "# tu codigo aca\n",
    "num_sabores=3"
   ]
  },
  {
   "attachments": {},
   "cell_type": "markdown",
   "metadata": {},
   "source": [
    "\n",
    "    \n",
    "8.  Ahora, calcula el número promedio de pizzas por sabor dividiendo el total de pizzas entre la cantidad de sabores disponibles. Asigna este valor a la variable `pizzas_por_sabor` utilizando el operador `/`.\n"
   ]
  },
  {
   "cell_type": "code",
   "execution_count": 29,
   "metadata": {},
   "outputs": [],
   "source": [
    "# tu codigo aca\n",
    "pizzas_por_sabor=num_pizzas/num_sabores"
   ]
  },
  {
   "attachments": {},
   "cell_type": "markdown",
   "metadata": {},
   "source": [
    "\n",
    "    \n",
    "9.  Finalmente, imprime los resultados finales utilizando mensajes apropiados. Muestra los valores de `num_invitados`, `rebanadas_por_invitado`, `total_rebanadas`, `num_pizzas`, `sabor1`, `sabor2`, `sabor3`, `num_sabores` y `pizzas_por_sabor`.\n",
    "    \n"
   ]
  },
  {
   "cell_type": "code",
   "execution_count": 30,
   "metadata": {},
   "outputs": [
    {
     "name": "stdout",
     "output_type": "stream",
     "text": [
      "Si deseas planificar una fiesta para 45 invitados, este programa te sugiere:\n",
      "Los sabores de pizza más populares son carnivora , jamon con queso o pepperoni compra una variedad de estas\n",
      "El promedio que cada persona come es de 2 rebanadas\n",
      "De acuerdo a esto deberás tener minimamente un total de 90 rebanadas en tu fiesta\n",
      "Por lo tanto debes comprar 8 pizzas, ya que cada pizza tiene 12 rebanadas, y te sobrarán 6 rebanadas por si alguien se antoja una más.\n"
     ]
    }
   ],
   "source": [
    "# tu codigo aca\n",
    "print(f'Si deseas planificar una fiesta para {(num_invitados)} invitados, este programa te sugiere:')\n",
    "print(f'Los sabores de pizza más populares son {(sabor1)} , {(sabor2)} o {(sabor3)} compra una variedad de estas')\n",
    "print(f'El promedio que cada persona come es de {(rebanadas_por_invitado)} rebanadas')\n",
    "print(f'De acuerdo a esto deberás tener minimamente un total de {(total_rebanadas)} rebanadas en tu fiesta')\n",
    "print(f'Por lo tanto debes comprar {(num_pizzas)} pizzas, ya que cada pizza tiene {(rebanadas_por_pizza)} rebanadas, y te sobrarán {((num_pizzas*rebanadas_por_pizza)-total_rebanadas)} rebanadas por si alguien se antoja una más.')\n"
   ]
  },
  {
   "attachments": {},
   "cell_type": "markdown",
   "metadata": {},
   "source": [
    "\n",
    "## Sugerencias:\n",
    "\n",
    "-   Recuerda utilizar nombres de variables apropiados y proporcionar mensajes de salida claros.\n",
    "-   El número de invitados y la cantidad promedio de rebanadas por invitado pueden ser números enteros o decimales, según tu preferencia.\n",
    "\n",
    "Tu tarea es completar los espacios en blanco y finalizar el programa de acuerdo con las instrucciones. ¡Disfruta planificando tu fiesta ! 🎉🍕"
   ]
  }
 ],
 "metadata": {
  "kernelspec": {
   "display_name": "Python 3.10.4 64-bit",
   "language": "python",
   "name": "python3"
  },
  "language_info": {
   "codemirror_mode": {
    "name": "ipython",
    "version": 3
   },
   "file_extension": ".py",
   "mimetype": "text/x-python",
   "name": "python",
   "nbconvert_exporter": "python",
   "pygments_lexer": "ipython3",
   "version": "3.11.4"
  },
  "orig_nbformat": 4,
  "vscode": {
   "interpreter": {
    "hash": "f66e3edf856e3e4a3652763ddb6c2ab1c25665e5b9e1fed087bb1a040433f3bb"
   }
  }
 },
 "nbformat": 4,
 "nbformat_minor": 2
}

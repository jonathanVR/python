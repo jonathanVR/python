{
    "cells": [
        {
            "attachments": {},
            "cell_type": "markdown",
            "metadata": {},
            "source": [
                "# <img style=\"float: left; padding-right: 20px; height: 70px\" src=\"https://scontent.flpb2-1.fna.fbcdn.net/v/t39.30808-6/333037578_535368228681036_1718744419186811485_n.jpg?_nc_cat=101&ccb=1-7&_nc_sid=09cbfe&_nc_ohc=Y0wrgOHt3UIAX_CTUKQ&_nc_ht=scontent.flpb2-1.fna&oh=00_AfBfGzpo0-x8gU11VFnWwNRJ-1tOK9hv1D7JAHfZhFfzOw&oe=648C289F\"> Herramientas Básicas de Visualización de Datos\n",
                "\n",
                "## Actividad 15 de Junio\n",
                "\n",
                "**Universidad Privada Boliviana**<br/>\n",
                "**Diplomado en Machine Learning y Ciencia de Datos 2-2023**<br/>\n",
                "**Junio 2023**<br/>\n",
                "\n",
                "\n",
                "## 🤹🏻‍♀️ List manipulation\n",
                "\n",
                "La manipulación de listas será una gran parte de su viaje de ciencia de datos.\n",
                "Comenzaremos con algunas operaciones simples aquí."
            ]
        },
        {
            "cell_type": "code",
            "execution_count": 7,
            "metadata": {},
            "outputs": [],
            "source": [
                "# Esto importa una lista de prueba que le proporcionamos\n",
                "test_list = [625, 584, 86, 596, 445, 143, 181, 310, 644, 919, 215, 682, 860, 904, 391, 281, 282, 920, 451, 626, 543, 591, 594, 656, 471, 223, 36, 805, 39, 803, 933, 887, 14, 19, 734, 101, 930, 800, 397, 431, 488, 347, 151, 756, 829, 892, 288, 157, 345, 636, 247, 612, 618, 918, 11, 15, 466, 857, 351, 858, 385, 718, 720, 671, 284, 411, 998, 813, 421, 698, 346, 554, 801, 738, 859, 114, 928, 551, 28, 462, 91, 511, 820, 621, 603, 457, 831, 898, 3, 17, 213, 707, 447, 907, 311, 173, 9, 999, 296, 635, 787, 963, 229, 944, 958, 506, 736, 42, 122, 238, 504, 840, 983, 926, 201, 978, 657, 703, 583, 774, 567, 379, 210, 745, 54, 209, 439, 922, 980, 8, 490, 872, 869, 257, 467, 26, 134, 317, 111, 285, 349, 96, 598, 848, 535, 507, 400, 962, 475, 876, 162, 733, 410, 453, 221, 367, 305, 655, 119, 343, 413, 810, 768, 458, 130, 450, 713, 160, 472, 537, 481, 894, 628, 534, 251, 125, 780, 293, 193, 192, 50, 509, 708, 913, 426, 154, 711, 599, 846, 83, 98, 642, 779, 290, 376, 743, 767, 770, 934, 465, 27, 378, 18, 256, 436, 57, 262, 94, 418, 62, 897, 100, 258, 646, 51, 637, 893, 937, 912, 297, 246, 484, 25, 498, 771, 286, 212, 602, 754, 825, 959, 765, 77, 909, 536, 90, 416, 73, 195, 607, 608, 877, 180, 568, 781, 0, 654, 836, 830, 196, 601, 441, 185, 301, 407, 562, 676, 985, 179, 819, 555, 592, 414, 308, 172, 314, 404, 153, 298, 867, 874, 569, 47, 220, 716, 582, 55, 927, 783, 126, 793, 647, 369, 557, 383, 265, 433, 45, 116, 61, 651, 455, 227, 815, 953, 76, 975, 643, 648, 168, 520, 519, 631, 905, 33, 547, 60, 946, 942, 799, 92, 232, 208, 304, 64, 152, 588, 503, 423, 979, 279, 832, 981, 478, 38, 403, 828, 37, 886, 386, 190, 48, 553, 970, 417, 670, 69, 189, 402, 686, 679, 932, 239, 512, 762, 292, 313, 95, 146, 971, 75, 120, 889, 156, 696, 326, 693, 772, 760, 546, 880, 917, 773, 442, 908, 464, 354, 393, 245, 435, 501, 990, 4, 575, 330, 816, 653, 725, 910, 752, 361, 155, 188, 303, 211, 526, 104, 129, 355, 166, 866, 921, 449, 502, 66, 749, 727, 994, 469, 476, 759, 110, 879, 681, 632, 499, 275, 902, 804, 178, 29, 300, 952, 496, 93, 540, 315, 563, 299, 226, 764, 329, 982, 394, 248, 821, 438, 266, 140, 641, 276, 184, 56, 218, 719, 524, 987, 617, 717, 59, 360, 408, 480, 336, 364, 388, 638, 374, 31, 320, 685, 634, 841, 560, 923, 735, 78, 115, 986, 186, 272, 702, 782, 342, 214, 240, 135, 260, 875, 903, 585, 833, 684, 842, 724, 12, 753, 87, 758, 604, 777, 124, 358, 7, 732, 807, 664, 150, 249, 790, 370, 243, 216, 523, 306, 704, 375, 624, 613, 440, 662, 271, 362, 956, 645, 650, 344, 479, 901, 446, 741, 680, 853, 20, 579, 171, 302, 663, 500, 870, 68, 610, 849, 940, 144, 112, 505, 559, 668, 949, 996, 350, 687, 578, 838, 775, 356, 141, 437, 888, 85, 850, 46, 948, 44, 785, 16, 929, 549, 65, 606, 222, 544, 339, 145, 576, 72, 835, 409, 854, 868, 177, 487, 712, 652, 366, 997, 169, 291, 609, 331, 427, 58, 332, 517, 811, 382, 802, 461, 960, 371, 252, 615, 335, 137, 415, 742, 89, 492, 307, 327, 587, 470, 497, 268, 616, 309, 516, 951, 259, 197, 207, 630, 925, 873, 675, 412, 834, 348, 619, 206, 518, 118, 99, 401, 600, 852, 1, 255, 231, 683, 845, 731, 253, 521, 589, 395, 769, 205, 109, 5, 677, 278, 32, 390, 541, 432, 896, 139, 202, 71, 237, 690, 21, 312, 384, 525, 883, 35, 158, 22, 399, 274, 881, 482, 53, 809, 456, 460, 463, 571, 740, 784, 611, 649, 452, 766, 267, 203, 228, 818, 352, 250, 359, 967, 322, 797, 961, 786, 333, 826, 697, 49, 660, 669, 855, 52, 590, 730, 666, 219, 620, 729, 659, 808, 515, 108, 954, 321, 899, 121, 938, 224, 199, 103, 988, 147, 323, 906, 605, 542, 6, 491, 722, 448, 527, 528, 885, 965, 847, 629, 991, 532, 812, 324, 763, 191, 941, 548, 623, 935, 34, 739, 493, 105, 794, 337, 968, 510, 865, 163, 406, 709, 622, 183, 40, 316, 545, 357, 485, 200, 593, 627, 508, 170, 552, 164, 398, 495, 127, 334, 751, 88, 261, 368, 483, 263, 973, 550, 993, 225, 573, 136, 287, 924, 474, 539, 640, 692, 325, 531, 294, 372, 556, 363, 106, 789, 234, 269, 149, 131, 757, 984, 950, 468, 776, 747, 673, 107, 341, 750, 565, 97, 581, 128, 82, 570, 839, 633, 945, 123, 915, 529, 778, 486, 113, 236, 791, 295, 884, 995, 823, 132, 796, 319, 70, 851, 264, 41, 63, 167, 561, 827, 863, 862, 392, 814, 24, 280, 102, 387, 955, 574, 989, 755, 477, 761, 558, 454, 194, 10, 972, 689, 283, 513, 389, 890, 198, 538, 597, 396, 204, 822, 338, 992, 744, 161, 533, 473, 974, 328, 365, 966, 242, 289, 530, 430, 911, 667, 489, 788, 737, 270, 878, 714, 699, 148, 931, 728, 726, 795, 74, 700, 639, 806, 969, 233, 658, 459, 377, 721, 864, 373, 13, 422, 381, 43, 318, 434, 665, 564, 837, 916, 424, 165, 133, 694, 861, 891, 2, 353, 723, 672, 23, 882, 856, 117, 914, 701, 977, 900, 429, 420, 159, 614, 688, 817, 138, 661, 380, 494, 175, 174, 792, 30, 273, 964, 895, 710, 425, 824, 340, 277, 678, 947, 748, 674, 843, 254, 419, 81, 706, 586, 514, 844, 691, 695, 79, 566, 405, 522, 746, 217, 943, 235, 798, 580, 572, 936, 976, 871, 715, 80, 142, 230, 187, 577, 595, 244, 67, 241, 84, 443, 176, 444, 182, 428, 957, 705, 939]"
            ]
        },
        {
            "cell_type": "code",
            "execution_count": 6,
            "metadata": {},
            "outputs": [
                {
                    "data": {
                        "text/plain": [
                            "[625, 584, 86, 596, 445, 143, 181, 310, 644, 919]"
                        ]
                    },
                    "execution_count": 6,
                    "metadata": {},
                    "output_type": "execute_result"
                }
            ],
            "source": [
                "# Ejecute esta celda para ver los primeros 10 elemenots de test_list\n",
                "test_list[:10]"
            ]
        },
        {
            "cell_type": "code",
            "execution_count": 22,
            "metadata": {},
            "outputs": [
                {
                    "name": "stdout",
                    "output_type": "stream",
                    "text": [
                        "[625, 584, 86, 596, 445]\n"
                    ]
                }
            ],
            "source": [
                "## ver los primeros 5 elementos de `test_list`\n",
                "mini_list = test_list[0:5]\n",
                "print(mini_list)"
            ]
        },
        {
            "cell_type": "code",
            "execution_count": 26,
            "metadata": {},
            "outputs": [
                {
                    "name": "stdout",
                    "output_type": "stream",
                    "text": [
                        "499500\n"
                    ]
                }
            ],
            "source": [
                "# Encuentra la suma de la lista\n",
                "sum_of_list = sum(test_list)\n",
                "print(sum_of_list)"
            ]
        },
        {
            "attachments": {},
            "cell_type": "markdown",
            "metadata": {},
            "source": [
                "### ⏸ Para una lista de números `num_list`, ¿qué expresión dará el promedio?\n",
                "\n",
                "#### A. `num_list.mean()`\n",
                "#### B. `num_list.sum()/num_list.len()`\n",
                "#### C. `len(num_list)/sum(num_list)`\n",
                "#### D. `sum(num_list)/len(num_list)`\n"
            ]
        },
        {
            "attachments": {},
            "cell_type": "markdown",
            "metadata": {},
            "source": []
        },
        {
            "cell_type": "code",
            "execution_count": 24,
            "metadata": {},
            "outputs": [],
            "source": [
                "# Envíe una opción de respuesta como una cadena a continuación\n",
                "#(ej. si elige la opción A ponga 'A')\n",
                "answer1 = 'D'"
            ]
        },
        {
            "cell_type": "code",
            "execution_count": 32,
            "metadata": {},
            "outputs": [
                {
                    "name": "stdout",
                    "output_type": "stream",
                    "text": [
                        "499.5\n"
                    ]
                }
            ],
            "source": [
                "\n",
                "# Encuentra el promedio de test_list\n",
                "sum_of_list = sum(test_list)\n",
                "length_of_list = len(test_list)\n",
                "average = sum_of_list/length_of_list\n",
                "print(average)"
            ]
        },
        {
            "cell_type": "code",
            "execution_count": 53,
            "metadata": {},
            "outputs": [
                {
                    "name": "stdout",
                    "output_type": "stream",
                    "text": [
                        "[1, 3, 5, 6, 9, 14, 20, 21, 40, 41, 50, 54, 60, 70, 78, 99, 100]\n"
                    ]
                }
            ],
            "source": [
                "# Hacer una nueva lista, `lista_ordenada` para ordenar la lista dada\n",
                "sorted_list = [99,6,100,1,3,50,40,5,41,60,21,20,54,78,9,14,70]\n",
                "# imprimir los primeros diez elementos de la lista\n",
                "print(sorted(sorted_list))"
            ]
        },
        {
            "cell_type": "code",
            "execution_count": 39,
            "metadata": {},
            "outputs": [
                {
                    "name": "stdout",
                    "output_type": "stream",
                    "text": [
                        "[6, 100, 50, 40, 60, 20, 54, 78, 14, 70]\n"
                    ]
                }
            ],
            "source": [
                "# Usando la sorted_list creada arriba\n",
                "# Hacer una nueva lista llamada `even_list`,\n",
                "# que consta solo de los números pares en la lista\n",
                "even_list = []\n",
                "for valor in sorted_list:\n",
                "    # checking condition\n",
                "    if valor % 2 == 0:\n",
                "        even_list.append(valor)\n",
                "# imprimir los primeros diez elementos de la nueva lista\n",
                "print(even_list[:10])"
            ]
        },
        {
            "cell_type": "code",
            "execution_count": 40,
            "metadata": {},
            "outputs": [
                {
                    "name": "stdout",
                    "output_type": "stream",
                    "text": [
                        "[99, 1, 3, 5, 41, 21, 9]\n"
                    ]
                }
            ],
            "source": [
                "# Usando sorted_list de nuevo\n",
                "# Hacer una nueva lista, `odd_list`,\n",
                "# que consta solo de los números impares en la lista\n",
                "odd_list = []\n",
                "for valor in sorted_list:\n",
                "    # checking condition\n",
                "    if valor % 2 != 0:\n",
                "        odd_list.append(valor)\n",
                "\n",
                "##odd_list = ___\n",
                "# imprimir los primeros diez elementos de la nueva lista\n",
                "print(odd_list[:10])"
            ]
        },
        {
            "cell_type": "code",
            "execution_count": 54,
            "metadata": {},
            "outputs": [
                {
                    "name": "stdout",
                    "output_type": "stream",
                    "text": [
                        "[70, 14, 9, 78, 54, 20, 21, 60, 41, 5]\n"
                    ]
                }
            ],
            "source": [
                "# Usar la indexación para invertir la lista ordenada e imprimir los primeros diez elementos\n",
                "reverse_list = list(reversed(sorted_list))\n",
                "print(reverse_list[:10])"
            ]
        },
        {
            "cell_type": "code",
            "execution_count": 47,
            "metadata": {},
            "outputs": [
                {
                    "data": {
                        "text/plain": [
                            "False"
                        ]
                    },
                    "execution_count": 47,
                    "metadata": {},
                    "output_type": "execute_result"
                }
            ],
            "source": [
                "# Combina `even_list` y `odd_list`\n",
                "# usando el operador `+` y compárelo con el\n",
                "# `sorted_list` para verificar si son idénticos\n",
                "\n",
                "combined_list = even_list + odd_list\n",
                "combined_list == sorted_list"
            ]
        },
        {
            "attachments": {},
            "cell_type": "markdown",
            "metadata": {},
            "source": [
                "### ⏸ ¿Cuál de las siguientes expresiones hará que `new_list == sorted_list` sea `True`?\n",
                "\n",
                "#### A. `new_list = combined_list.sort()`\n",
                "#### B. `new_list = sorted(combined_list)`\n",
                "#### C. `new_list = sorted(combined_list)`\n",
                "#### D. Todo lo anterior"
            ]
        },
        {
            "cell_type": "code",
            "execution_count": 48,
            "metadata": {},
            "outputs": [],
            "source": [
                "\n",
                "# Envíe una opción de respuesta como una cadena a continuación\n",
                "#(ej. si elige la opción A,B,C ponga 'A,B,C')\n",
                "answer2 = 'B,C'"
            ]
        }
    ],
    "metadata": {
        "kernelspec": {
            "display_name": "Python 3.10.4 64-bit",
            "language": "python",
            "name": "python3"
        },
        "language_info": {
            "codemirror_mode": {
                "name": "ipython",
                "version": 3
            },
            "file_extension": ".py",
            "mimetype": "text/x-python",
            "name": "python",
            "nbconvert_exporter": "python",
            "pygments_lexer": "ipython3",
            "version": "3.11.4"
        },
        "vscode": {
            "interpreter": {
                "hash": "f66e3edf856e3e4a3652763ddb6c2ab1c25665e5b9e1fed087bb1a040433f3bb"
            }
        }
    },
    "nbformat": 4,
    "nbformat_minor": 4
}

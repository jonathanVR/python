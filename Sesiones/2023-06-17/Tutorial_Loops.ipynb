{
    "cells": [
        {
            "attachments": {},
            "cell_type": "markdown",
            "metadata": {},
            "source": [
                "## Python Loops\n",
                "\n",
                "Los bucles son construcciones poderosas para realizar tareas repetidas."
            ]
        },
        {
            "attachments": {},
            "cell_type": "markdown",
            "metadata": {},
            "source": [
                "## Iterando sobre listas\n",
                "\n",
                "Usar un bucle for para hacer una iteración es bastante simple."
            ]
        },
        {
            "cell_type": "code",
            "execution_count": 2,
            "metadata": {},
            "outputs": [
                {
                    "name": "stdout",
                    "output_type": "stream",
                    "text": [
                        "4\n",
                        "7\n",
                        "2\n",
                        "6\n",
                        "3\n",
                        "9\n"
                    ]
                }
            ],
            "source": [
                "numbers_list = [4, 7, 2, 6, 3, 9]\n",
                "for i in numbers_list:\n",
                "    print(i)"
            ]
        },
        {
            "attachments": {},
            "cell_type": "markdown",
            "metadata": {},
            "source": [
                "Verá que la variable `i` se usa con frecuencia como variable.\n",
                "\n",
                "Es una práctica común pero no necesaria para ejecutar su bucle."
            ]
        },
        {
            "cell_type": "code",
            "execution_count": 3,
            "metadata": {},
            "outputs": [
                {
                    "name": "stdout",
                    "output_type": "stream",
                    "text": [
                        "4\n",
                        "7\n",
                        "2\n",
                        "6\n",
                        "3\n",
                        "9\n"
                    ]
                }
            ],
            "source": [
                "numbers_list = [4, 7, 2, 6, 3, 9]\n",
                "for element in numbers_list:\n",
                "    print(element)"
            ]
        },
        {
            "attachments": {},
            "cell_type": "markdown",
            "metadata": {},
            "source": [
                "## Condicionales\n",
                "Ahora puede mezclar condicionales para filtrar su iteración:"
            ]
        },
        {
            "cell_type": "code",
            "execution_count": 4,
            "metadata": {},
            "outputs": [
                {
                    "name": "stdout",
                    "output_type": "stream",
                    "text": [
                        "4\n",
                        "2\n",
                        "6\n"
                    ]
                }
            ],
            "source": [
                "# Ejecute el bucle para imprimir solo números pares\n",
                "for element in numbers_list:\n",
                "    if element % 2 == 0: #solo numeros pares\n",
                "        print(element)"
            ]
        },
        {
            "cell_type": "code",
            "execution_count": 5,
            "metadata": {},
            "outputs": [
                {
                    "name": "stdout",
                    "output_type": "stream",
                    "text": [
                        "4\n",
                        "7\n",
                        "2\n",
                        "6\n"
                    ]
                }
            ],
            "source": [
                "# Ejecute el bucle para imprimir números pares solo junto con el número 7\n",
                "for element in numbers_list:\n",
                "    if (element % 2 == 0) or (element == 7):\n",
                "        print(element)"
            ]
        },
        {
            "attachments": {},
            "cell_type": "markdown",
            "metadata": {},
            "source": [
                "## Declaracion `break` \n",
                "\n",
                "Esta declaración puede detener la iteración.\n",
                "Por lo general, se usa junto con un condicional.\n",
                "\n",
                "```python\n",
                "for i in range(10):\n",
                "    if i == 5:\n",
                "        break\n",
                "    print(f'el numero actual es {i}')\n",
                "```"
            ]
        },
        {
            "cell_type": "code",
            "execution_count": 6,
            "metadata": {},
            "outputs": [
                {
                    "name": "stdout",
                    "output_type": "stream",
                    "text": [
                        "el numero actual es 0\n",
                        "el numero actual es 1\n",
                        "el numero actual es 2\n",
                        "el numero actual es 3\n",
                        "el numero actual es 4\n"
                    ]
                }
            ],
            "source": [
                "for i in range(10):\n",
                "    if i == 5:\n",
                "        break\n",
                "    print(f'el numero actual es {i}')"
            ]
        },
        {
            "attachments": {},
            "cell_type": "markdown",
            "metadata": {},
            "source": [
                "## Declaracion `continue` \n",
                "\n",
                "Esta instrucción puede omitir un paso en la iteración. También se usa junto con un condicional.\n",
                "\n",
                "```python\n",
                "for i in range(10):\n",
                "    if i == 5:\n",
                "        continue    \n",
                "    print(f'el numero actual es {i}')        \n",
                "```"
            ]
        },
        {
            "cell_type": "code",
            "execution_count": 7,
            "metadata": {},
            "outputs": [
                {
                    "name": "stdout",
                    "output_type": "stream",
                    "text": [
                        "el numero actual es 0\n",
                        "el numero actual es 1\n",
                        "el numero actual es 2\n",
                        "el numero actual es 3\n",
                        "el numero actual es 4\n",
                        "el numero actual es 6\n",
                        "el numero actual es 7\n",
                        "el numero actual es 8\n",
                        "el numero actual es 9\n"
                    ]
                }
            ],
            "source": [
                "for i in range(10):\n",
                "    if i == 5:\n",
                "        continue    \n",
                "    print(f'el numero actual es {i}')      "
            ]
        },
        {
            "attachments": {},
            "cell_type": "markdown",
            "metadata": {},
            "source": [
                "## While loop\n",
                "\n",
                "Hay un segundo tipo de bucle de python llamado bucle `While`.\n",
                "\n",
                "Se puede usar para hacer un bucle hasta que se cumpla una condición."
            ]
        },
        {
            "cell_type": "code",
            "execution_count": 8,
            "metadata": {},
            "outputs": [
                {
                    "name": "stdout",
                    "output_type": "stream",
                    "text": [
                        "el numero actual es 0\n",
                        "el numero actual es 1\n",
                        "el numero actual es 2\n",
                        "el numero actual es 3\n",
                        "el numero actual es 4\n",
                        "el numero actual es 5\n",
                        "el numero actual es 6\n",
                        "el numero actual es 7\n",
                        "el numero actual es 8\n",
                        "el numero actual es 9\n"
                    ]
                }
            ],
            "source": [
                "val = 0 \n",
                "\n",
                "while val < 10:\n",
                "    print(f'el numero actual es {val}')\n",
                "    val += 1"
            ]
        },
        {
            "attachments": {},
            "cell_type": "markdown",
            "metadata": {},
            "source": [
                "## `For` v/s `While`\n",
                "\n",
                "Los bucles `for` son más populares que los bucles `while` en Python.\n",
                "Esto se debe a que la mayoría de los datos para iterar están en listas u otras estructuras de datos *similares a listas*.\n",
                "\n",
                "```\n",
                "for i in range(11):\n",
                "    print i\n",
                "```\n",
                "\n",
                "```\n",
                "i = 0\n",
                "while i <= 10:\n",
                "    print i\n",
                "    i = i + 1\n",
                "```\n"
            ]
        },
        {
            "cell_type": "code",
            "execution_count": 9,
            "metadata": {},
            "outputs": [
                {
                    "name": "stdout",
                    "output_type": "stream",
                    "text": [
                        "Blucle for, valor de i:  0\n",
                        "Blucle for, valor de i:  1\n",
                        "Blucle for, valor de i:  2\n",
                        "Blucle for, valor de i:  3\n",
                        "Blucle for, valor de i:  4\n",
                        "Blucle for, valor de i:  5\n",
                        "Blucle for, valor de i:  6\n",
                        "Blucle for, valor de i:  7\n",
                        "Blucle for, valor de i:  8\n",
                        "Blucle for, valor de i:  9\n",
                        "Blucle for, valor de i:  10\n",
                        "Blucle while, valor de i:  0\n",
                        "Blucle while, valor de i:  1\n",
                        "Blucle while, valor de i:  2\n",
                        "Blucle while, valor de i:  3\n",
                        "Blucle while, valor de i:  4\n",
                        "Blucle while, valor de i:  5\n",
                        "Blucle while, valor de i:  6\n",
                        "Blucle while, valor de i:  7\n",
                        "Blucle while, valor de i:  8\n",
                        "Blucle while, valor de i:  9\n",
                        "Blucle while, valor de i:  10\n"
                    ]
                }
            ],
            "source": [
                "for i in range(11):\n",
                "    print(\"Blucle for, valor de i: \",i)\n",
                "    \n",
                "\n",
                "i = 0\n",
                "while i <= 10:\n",
                "    print(\"Blucle while, valor de i: \",i)\n",
                "    i = i + 1"
            ]
        },
        {
            "cell_type": "code",
            "execution_count": null,
            "metadata": {},
            "outputs": [],
            "source": []
        }
    ],
    "metadata": {
        "kernelspec": {
            "display_name": "Python 3.10.4 64-bit",
            "language": "python",
            "name": "python3"
        },
        "language_info": {
            "codemirror_mode": {
                "name": "ipython",
                "version": 3
            },
            "file_extension": ".py",
            "mimetype": "text/x-python",
            "name": "python",
            "nbconvert_exporter": "python",
            "pygments_lexer": "ipython3",
            "version": "3.11.4"
        },
        "vscode": {
            "interpreter": {
                "hash": "f66e3edf856e3e4a3652763ddb6c2ab1c25665e5b9e1fed087bb1a040433f3bb"
            }
        }
    },
    "nbformat": 4,
    "nbformat_minor": 4
}

{
    "cells": [
        {
            "attachments": {},
            "cell_type": "markdown",
            "metadata": {},
            "source": [
                "# <img style=\"float: left; padding-right: 20px; height: 70px\" src=\"https://scontent.flpb2-1.fna.fbcdn.net/v/t39.30808-6/333037578_535368228681036_1718744419186811485_n.jpg?_nc_cat=101&ccb=1-7&_nc_sid=09cbfe&_nc_ohc=Y0wrgOHt3UIAX_CTUKQ&_nc_ht=scontent.flpb2-1.fna&oh=00_AfBfGzpo0-x8gU11VFnWwNRJ-1tOK9hv1D7JAHfZhFfzOw&oe=648C289F\"> Herramientas Básicas de Visualización de Datos\n",
                "\n",
                "## Actividad `II` 17 de Junio\n",
                "\n",
                "**Universidad Privada Boliviana**<br/>\n",
                "**Diplomado en Machine Learning y Ciencia de Datos 2-2023**<br/>\n",
                "**Junio 2023**<br/>"
            ]
        },
        {
            "attachments": {},
            "cell_type": "markdown",
            "metadata": {},
            "source": [
                "# The Book Keeper's Apprentice - Dicts & List\n",
                "🏋🏽‍♀️ Ejercicio: El aprendiz de Grand Keeper - \n",
                "\n",
                "Este ejercicio tiene como objetivo familiarizarse con el uso  de listas y diccionarios para realizar operaciones de bucle.\n",
                "\n",
                "\n",
                "\n",
                "\n"
            ]
        },
        {
            "cell_type": "code",
            "execution_count": 1,
            "metadata": {},
            "outputs": [],
            "source": [
                "# hacer correr esta celda sin modificacion\n",
                "books_dict ={'Virgil': 8, 'Charles Dickens': 8, 'Steven Nadler': 7, 'Larry J. Koenig': 7, 'Carolyn Keene': 7, 'Robert Paul Wolff': 7, 'Margaret Shepherd': 8, 'Jane B. Mason': 14, 'Nicholas Evans': 8, 'William Hjortsberg': 8, 'Alistair Moffat': 7, 'Courtney E. Martin': 7, 'Jean Shepherd': 8, 'Fyodor Dostoyevsky': 8, 'Verlyn Flieger': 8, 'Gary Russell': 16, 'Megan Whalen Turner': 28, 'Ludovico Ariosto': 7, 'Nikki Giovanni': 7, 'Julie Aigner-Clark': 8, 'Oscar Wilde': 8, 'Elizabeth Wurtzel': 8, 'Al Ries': 29, 'George E. Stanley': 8, 'R. McL. Wilson': 8, 'Hermann Hesse': 8, 'Truman Capote': 8, 'Donald J. Trump': 8, 'Judith McNaught': 15, 'Pablo Neruda': 8, 'Frank Herbert': 8, 'Chad Oliver': 7, 'Brian Hall': 7, 'Edward Albee': 8, 'Ayn Rand': 8, 'Ruth Prawer Jhabvala': 8, 'Dan Harrington': 16, 'Lynda Milligan': 14, 'Donna VanLiere': 7, 'Pauline Francis': 7, 'Ian Thomson': 8, 'Greg  Taylor': 8, 'Ruth Downie': 8, 'Georg Wilhelm Friedrich Hegel': 8, 'Raymond Queneau': 8, 'Tony Horwitz': 14, 'Allen Ginsberg': 8, 'Steve Perry': 16, 'Franz Kafka': 8, 'Voltaire': 8, 'Reynolds Price': 7, 'Tom DeFalco': 8, 'Charlotte BrontÃ«': 8, 'Michael Ende': 8, 'Murray Sayle': 7, 'Peter     Brown': 7, 'James E. Campbell': 7, 'Lewis Carroll': 16, 'John Gray': 24, 'Chinua Achebe': 29, 'Louisa May Alcott': 8, 'Joseph Bruchac': 7, 'Jo Ann Ooiman Robinson': 8, 'Will Durant': 7, 'Nicholas    Evans': 8, 'Herman Melville': 8, 'Sarah Mlynowski': 48, 'Howard Chaykin': 7, 'Emma Barker': 8, 'Stuart M. Kaminsky': 8, 'Ian Ogilvy': 7, 'David Rakoff': 8, 'Peter D. Schiff': 8, 'Robert Polito': 8, 'Kevin Henkes': 32}"
            ]
        },
        {
            "cell_type": "code",
            "execution_count": 2,
            "metadata": {},
            "outputs": [
                {
                    "name": "stdout",
                    "output_type": "stream",
                    "text": [
                        "Books_dict\n",
                        "[('Virgil', 8), ('Charles Dickens', 8), ('Steven Nadler', 7), ('Larry J. Koenig', 7), ('Carolyn Keene', 7)]\n"
                    ]
                }
            ],
            "source": [
                "# Imprima los primeros 5 elementos de books_dict\n",
                "# No necesita cambiar el codigo\n",
                "print('Books_dict')\n",
                "print(list(books_dict.items())[:5])"
            ]
        },
        {
            "attachments": {},
            "cell_type": "markdown",
            "metadata": {},
            "source": [
                "## Part 1 - Searching for Book author : `\"Charles Dickens\"`"
            ]
        },
        {
            "attachments": {},
            "cell_type": "markdown",
            "metadata": {},
            "source": [
                "Su alteza necesita saber sobre Charles Dickens. Lo más importante, la cantidad de libros que escribió este autor. ¿Puedes obtener esta informacion para ella?"
            ]
        },
        {
            "attachments": {},
            "cell_type": "markdown",
            "metadata": {},
            "source": [
                "### Utilizando `books_dict`, busca el número de libros escritos por este autor\"\n"
            ]
        },
        {
            "cell_type": "code",
            "execution_count": 4,
            "metadata": {},
            "outputs": [
                {
                    "name": "stdout",
                    "output_type": "stream",
                    "text": [
                        "El numero de libros escrito por este autor es 8\n"
                    ]
                }
            ],
            "source": [
                "book_author = 'Charles Dickens'\n",
                "\n",
                "#Del dictionario books_dict obtenga el número de libros escritos por este autor\n",
                "\n",
                "nbooks_charles = books_dict[book_author]\n",
                "\n",
                "print(\"El numero de libros escrito por este autor es\",nbooks_charles)\n",
                "\n",
                "\n",
                "\n"
            ]
        },
        {
            "attachments": {},
            "cell_type": "markdown",
            "metadata": {},
            "source": [
                "### Usando `books_dict`, obtenga el número total de libros en esta biblioteca\n",
                "\n",
                "Usando un ciclo for iterar sobre el diccionario y obtener el número total de libros en esta biblioteca"
            ]
        },
        {
            "cell_type": "code",
            "execution_count": 9,
            "metadata": {},
            "outputs": [
                {
                    "name": "stdout",
                    "output_type": "stream",
                    "text": [
                        "El numero total de libros en la biblioteca es 779\n"
                    ]
                }
            ],
            "source": [
                "num_total_libros = 0\n",
                "for key,value in books_dict.items():\n",
                "    # obtener el numero de libros por cada key\n",
                "    num_libros=books_dict[key]\n",
                "    # Adicionar este numero al numero total de libros\n",
                "    num_total_libros+=num_libros\n",
                "print(\"El numero total de libros en la biblioteca es\",num_total_libros)"
            ]
        },
        {
            "attachments": {},
            "cell_type": "markdown",
            "metadata": {},
            "source": [
                "## Parte 2 - Búsqueda de autores cuyo nombre comience con una letra: `\"C\"`"
            ]
        },
        {
            "cell_type": "code",
            "execution_count": 12,
            "metadata": {},
            "outputs": [
                {
                    "name": "stdout",
                    "output_type": "stream",
                    "text": [
                        "Searching through the dict...\n",
                        "Los autores que inician con la letra C son \n",
                        " ['Charles Dickens', 'Carolyn Keene', 'Courtney E. Martin', 'Chad Oliver', 'Charlotte BrontÃ«', 'Chinua Achebe']\n"
                    ]
                }
            ],
            "source": [
                "\n",
                "\n",
                "#La Princesa te ha vuelto a pedir información\n",
                "# para autores cuyo nombre comience con una letra C\n",
                "\n",
                "autores_con_c = []\n",
                "print(\"Searching through the dict...\", end = '\\n')\n",
                "\n",
                "\n",
                "num_total_libros = 0\n",
                "for key,value in books_dict.items():\n",
                "    ## Verficar si el autor comienza con la letra c\n",
                "    if (key[0]=='C'):\n",
                "        #Append a la lista de autores_con_c \n",
                "        autores_con_c.append(key)\n",
                "print(\"Los autores que inician con la letra C son \\n\", autores_con_c)"
            ]
        },
        {
            "attachments": {},
            "cell_type": "markdown",
            "metadata": {},
            "source": [
                "Repeat the previous excercise but this time using list comprenhension"
            ]
        },
        {
            "cell_type": "code",
            "execution_count": 13,
            "metadata": {},
            "outputs": [
                {
                    "name": "stdout",
                    "output_type": "stream",
                    "text": [
                        "Los autores que inician con la letra C son \n",
                        " ['Charles Dickens', 'Carolyn Keene', 'Courtney E. Martin', 'Chad Oliver', 'Charlotte BrontÃ«', 'Chinua Achebe']\n"
                    ]
                }
            ],
            "source": [
                "# Obtener la lista de autores que comienzan con la letra C usando list comprenhension\n",
                "\n",
                "autores_con_c_v2 = [key for key in books_dict.keys() if key[0]=='C']\n",
                "print(\"Los autores que inician con la letra C son \\n\", autores_con_c_v2)"
            ]
        },
        {
            "attachments": {},
            "cell_type": "markdown",
            "metadata": {},
            "source": [
                "Ahora utilize la definicion de dictionary comprehension para obtener una diccionario con la informacion de los autores cuyo nombre empieze con la letra C como key, y el numero de libros de este autor\n",
                "La respuesta deberia lucir de la siguiente manera:\n",
                "```\n",
                "{'Charles Dickens': 8, 'Carolyn Keene': 7, 'Courtney E. Martin': 7, 'Chad Oliver': 7, 'Charlotte BrontÃ«': 8, 'Chinua Achebe': 29}\n",
                "```\n",
                "\n"
            ]
        },
        {
            "cell_type": "code",
            "execution_count": 16,
            "metadata": {},
            "outputs": [
                {
                    "name": "stdout",
                    "output_type": "stream",
                    "text": [
                        "El diccionario es: \n",
                        " {'Charles Dickens': 8, 'Carolyn Keene': 7, 'Courtney E. Martin': 7, 'Chad Oliver': 7, 'Charlotte BrontÃ«': 8, 'Chinua Achebe': 29}\n"
                    ]
                }
            ],
            "source": [
                "# tu codigo aca\n",
                "books_dict_C = {key:value for key,value in books_dict.items() if key[0]=='C'}\n",
                "print(\"El diccionario es: \\n\",books_dict_C)"
            ]
        },
        {
            "attachments": {},
            "cell_type": "markdown",
            "metadata": {},
            "source": [
                "..."
            ]
        }
    ],
    "metadata": {
        "kernelspec": {
            "display_name": "Python 3.10.4 64-bit",
            "language": "python",
            "name": "python3"
        },
        "language_info": {
            "codemirror_mode": {
                "name": "ipython",
                "version": 3
            },
            "file_extension": ".py",
            "mimetype": "text/x-python",
            "name": "python",
            "nbconvert_exporter": "python",
            "pygments_lexer": "ipython3",
            "version": "3.11.4"
        },
        "vscode": {
            "interpreter": {
                "hash": "f66e3edf856e3e4a3652763ddb6c2ab1c25665e5b9e1fed087bb1a040433f3bb"
            }
        }
    },
    "nbformat": 4,
    "nbformat_minor": 2
}

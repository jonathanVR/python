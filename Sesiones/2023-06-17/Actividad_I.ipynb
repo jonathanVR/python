{
    "cells": [
        {
            "attachments": {},
            "cell_type": "markdown",
            "metadata": {},
            "source": [
                "# <img style=\"float: left; padding-right: 20px; height: 70px\" src=\"https://scontent.flpb2-1.fna.fbcdn.net/v/t39.30808-6/333037578_535368228681036_1718744419186811485_n.jpg?_nc_cat=101&ccb=1-7&_nc_sid=09cbfe&_nc_ohc=Y0wrgOHt3UIAX_CTUKQ&_nc_ht=scontent.flpb2-1.fna&oh=00_AfBfGzpo0-x8gU11VFnWwNRJ-1tOK9hv1D7JAHfZhFfzOw&oe=648C289F\"> Herramientas Básicas de Visualización de Datos\n",
                "\n",
                "## Actividad `I` 17 de Junio\n",
                "\n",
                "**Universidad Privada Boliviana**<br/>\n",
                "**Diplomado en Machine Learning y Ciencia de Datos 2-2023**<br/>\n",
                "**Junio 2023**<br/>\n"
            ]
        },
        {
            "attachments": {},
            "cell_type": "markdown",
            "metadata": {},
            "source": [
                "## Manipulación de listas usando bucles de python.\n",
                "> La indexación es muy útil para manipular listas. Sin embargo, las selecciones específicas de una lista necesitan que iteremos sobre cada elemento de la lista antes de hacer una selección."
            ]
        },
        {
            "cell_type": "code",
            "execution_count": 1,
            "metadata": {},
            "outputs": [],
            "source": [
                "# Funcion de ayuda. \n",
                "# Hacer correr este bloque sin modificar el codigo\n",
                "import random\n",
                "test_list = [i for i in range(2000)]\n",
                "test_list = random.sample(test_list,1000)\n",
                "\n",
                "chess_board = [8*['W'],8*['W'],8*[' '],8*[' '],8*[' '],8*[' '],8*['B'],8*['B']]"
            ]
        },
        {
            "cell_type": "code",
            "execution_count": 3,
            "metadata": {},
            "outputs": [
                {
                    "name": "stdout",
                    "output_type": "stream",
                    "text": [
                        "[924, 1463, 1455, 303, 101, 1486, 1751, 973, 970, 417]\n"
                    ]
                }
            ],
            "source": [
                "# imprimir los primeros 10 elementos de `test_list`\n",
                "print(test_list[0:10])"
            ]
        },
        {
            "cell_type": "code",
            "execution_count": 4,
            "metadata": {},
            "outputs": [
                {
                    "name": "stdout",
                    "output_type": "stream",
                    "text": [
                        "[924, 1463, 1455, 303, 101, 1486, 1751, 973, 970, 417, 1558, 1015, 1688, 423, 1009, 1808, 185, 1374, 7, 1913, 1694, 669, 1546, 1119, 1725, 258, 328, 1937, 829, 803, 1798, 1659, 1516, 557, 371, 261, 1457, 119, 1802, 572, 1538, 433, 962, 528, 410, 1123, 668, 2, 1208, 92, 1525, 1105, 1501, 623, 267, 1077, 150, 1864, 975, 465, 1896, 1885, 888, 21, 1714, 104, 824, 1189, 128, 1290, 188, 1521, 734, 1368, 1777, 983, 704, 958, 659, 917, 1812, 55, 96, 908, 1162, 1480, 514, 1841, 108, 1032, 1920, 1138, 879, 1965, 120, 1518, 1903, 1535, 1511, 826, 192, 1135, 822, 1234, 1270, 1658, 1944, 1458, 1320, 969, 670, 1666, 1832, 1742, 333, 311, 127, 876, 1317, 1160, 1686, 1393, 287, 990, 1268, 1118, 586, 569, 129, 571, 384, 856, 779, 1895, 1349, 1223, 272, 297, 286, 374, 1490, 1780, 102, 1664, 1126, 568, 1264, 1561, 93, 1358, 739, 1760, 603, 1448, 1251, 486, 233, 443, 765, 1216, 916, 1278, 1513, 1548, 1311, 1579, 1035, 174, 1250, 1061, 827, 71, 1949, 905, 1024, 8, 1414, 5, 377, 1811, 992, 1671, 240, 1352, 501, 1222, 548, 1380, 867, 540, 162, 62, 1243, 1532, 282, 300, 1825, 633, 383, 820, 1112, 1598, 943, 884, 1293, 1508, 938, 1156, 1018, 1542, 988, 1653, 205, 157, 974, 466, 558, 661, 121, 1640, 1852, 145, 1768, 361, 1718, 1418, 1001, 33, 1434, 981, 1568, 1938, 1829, 1510, 66, 1962, 1713, 773, 276, 1229, 1648, 1660, 1330, 359, 1902, 142, 1475, 976, 180, 1353, 1652, 95, 612, 657, 1822, 1305, 689, 589, 1354, 1172, 1873, 847, 725, 1120, 807, 1834, 1142, 321, 1976, 1572, 1875, 1963, 77, 1472, 1762, 1759, 692, 948, 1732, 790, 527, 1479, 1443, 859, 1400, 846, 1702, 852, 242, 274, 508, 1614, 80, 1280, 1530, 409, 1325, 1256, 543, 1242, 720, 302, 201, 339, 1754, 635, 1736, 179, 1245, 1151, 1907, 1539, 1312, 1839, 1006, 182, 874, 214, 1141, 961, 899, 482, 1942, 292, 81, 1395, 1597, 158, 193, 1950, 1549, 375, 662, 1108, 588, 851, 1749, 1289, 1137, 656, 148, 1410, 513, 1092, 823, 184, 1855, 1709, 248, 1422, 456, 1618, 804, 705, 1062, 1124, 1695, 700, 607, 1599, 894, 529, 889, 331, 1188, 59, 172, 408, 488, 1909, 1088, 473, 688, 493, 1616, 1543, 615, 581, 1973, 1363, 624, 1980, 1926, 1882, 1595, 372, 1070, 575, 234, 907, 1459, 320, 1175, 582, 1237, 713, 368, 873, 1206, 1218, 774, 902, 1935, 613, 641, 991, 564, 512, 1471, 1608, 113, 1925, 245, 195, 293, 912, 1394, 403, 556, 1893, 1551, 155, 1869, 936, 780, 1159, 680, 679, 1868, 288, 1192, 1901, 1210, 416, 1426, 1655, 1910, 1295, 797, 137, 896, 801, 239, 1285, 1382, 107, 1581, 1388, 1230, 552, 1000, 494, 769, 1894, 1326, 1575, 858, 1014, 1059, 1593, 1583, 82, 842, 1941, 1634, 1556, 766, 652, 136, 1447, 1826, 1408, 1083, 1523, 1224, 336, 1946, 837, 1562, 1417, 143, 744, 759, 1148, 736, 719, 955, 480, 1303, 1745, 1065, 1084, 935, 313, 437, 783, 1761, 152, 1306, 1506, 290, 1451, 695, 611, 1861, 681, 238, 459, 1207, 1048, 382, 45, 441, 563, 431, 1211, 1753, 1544, 1375, 175, 909, 597, 1022, 52, 88, 1027, 1600, 70, 401, 1343, 1649, 1013, 1793, 1670, 940, 1550, 317, 937, 1958, 1128, 335, 387, 177, 393, 502, 1012, 578, 366, 419, 1212, 1921, 903, 573, 1719, 553, 392, 378, 1011, 30, 159, 1765, 323, 1087, 1792, 1986, 1499, 280, 364, 165, 932, 1462, 1008, 1495, 1981, 957, 1971, 1309, 1304, 772, 1327, 348, 1805, 1697, 735, 1813, 370, 1405, 284, 1431, 1737, 1502, 1076, 298, 781, 1784, 1689, 1712, 638, 1778, 1620, 1639, 886, 1493, 1322, 1287, 10, 385, 1999, 1328, 1248, 41, 1079, 1716, 1752, 1489, 281, 1465, 1632, 1791, 893, 49, 1331, 35, 1591, 933, 1286, 945, 1498, 1726, 721, 485, 1684, 334, 1682, 1739, 460, 1244, 164, 1886, 590, 761, 484, 672, 1823, 627, 1157, 1369, 1871, 1436, 634, 346, 1069, 758, 367, 1997, 1042, 1173, 1129, 1679, 1767, 445, 1294, 1867, 1587, 614, 904, 39, 1605, 1187, 728, 1113, 684, 1283, 1629, 788, 400, 390, 825, 13, 816, 1983, 707, 1690, 1469, 1898, 1969, 523, 1049, 1154, 1850, 714, 430, 478, 507, 967, 489, 160, 1977, 1560, 1350, 1818, 534, 397, 1110, 1730, 706, 1016, 1366, 1507, 1310, 1381, 1476, 699, 947, 963, 0, 1906, 1840, 1559, 785, 1239, 682, 998, 598, 352, 365, 1227, 752, 724, 1795, 591, 1570, 913, 462, 111, 1221, 15, 687, 304, 577, 448, 817, 1916, 729, 1146, 1072, 910, 604, 959, 105, 1860, 1657, 263, 279, 1107, 1198, 547, 1884, 1167, 1402, 64, 40, 479, 885, 1347, 676, 815, 1066, 253, 1315, 454, 727, 202, 1512, 147, 134, 971, 468, 731, 716, 1859, 1225, 1102, 1428, 1449, 1379, 834, 1845, 1140, 87, 726, 1307, 594, 1746, 72, 1854, 1219, 154, 1063, 1828, 125, 463, 1404, 1231, 308, 29, 999, 1420, 602, 1917, 986, 1934, 163, 1755, 865, 784, 330, 405, 132, 1064, 809, 926, 379, 667, 831, 1933, 1763, 708, 65, 1470, 1262, 1054, 1415, 227, 1908, 798, 1101, 1067, 1531, 1723, 929, 1743, 836, 203, 678, 389, 579, 1308, 273, 20, 90, 746, 1674, 1340, 1003, 18, 84, 1246, 1433, 1487, 1333, 1419, 215, 461, 515, 318, 1833, 1260, 1628, 504, 74, 420, 1703, 306, 265, 326, 878, 1301, 1183, 1191, 640, 989, 1075, 832, 510, 1691, 747, 782, 601, 595, 995, 1091, 1263, 1820, 442, 1586, 44, 654, 1853, 50, 1023, 26, 920, 1144, 1773, 511, 418, 1197, 796, 426, 544, 1837, 483, 67, 135, 1642, 813, 1442, 471, 1386, 1851, 1789, 1115, 871, 396, 14, 561, 231, 1423, 1590, 373, 1180, 1030, 1454, 1153, 1323, 1890, 1991, 1807, 693, 1517, 1257, 717, 1201, 1589, 1090, 631, 1672, 464, 427, 432, 219, 391, 1450, 1650, 1356, 1693, 1411, 224, 1029, 923, 1339, 1772, 934, 599, 213, 1936, 506, 1610, 1766, 1412, 1467, 793, 1931, 1815, 1708, 1677, 794, 200, 1407, 1318, 639, 1540, 1134, 795, 789, 1488, 535, 854, 1905, 838, 709, 1399, 911, 167, 1233, 1367, 566, 1619, 665]\n",
                        "[0, 2, 5, 7, 8, 10, 13, 14, 15, 18]\n"
                    ]
                }
            ],
            "source": [
                "#Ordene el contenido de test list, llame esta variable sorted_list\n",
                "# verifique el contenido de `test_list` después de ordenarlo\n",
                "sorted_list = sorted(test_list)\n",
                "print(test_list)\n",
                "# Imprime los primeros diez elementos de sorted_list\n",
                "print(sorted_list[0:10])"
            ]
        },
        {
            "attachments": {},
            "cell_type": "markdown",
            "metadata": {},
            "source": [
                "### ⏸ ¿Qué método de lista puede usar para agregar un solo elemento a la lista?\n",
                "\n",
                "#### A. `append()`\n",
                "#### B. `extend()`\n",
                "#### C. `add()`\n",
                "#### D. `pop()`\n"
            ]
        },
        {
            "cell_type": "code",
            "execution_count": 11,
            "metadata": {},
            "outputs": [],
            "source": [
                "\n",
                "# Envíe una opción de respuesta como una cadena a continuación (por ejemplo, si elige la opción A, escriba 'A')\n",
                "answer1 = 'A'"
            ]
        },
        {
            "cell_type": "code",
            "execution_count": 8,
            "metadata": {},
            "outputs": [
                {
                    "name": "stdout",
                    "output_type": "stream",
                    "text": [
                        "[924, 1486, 970, 1558, 1688, 1808, 1374, 1694, 1546, 258]\n"
                    ]
                }
            ],
            "source": [
                "# Esta vez, use un bucle for para encontrar todos los números pares y agréguelos a 'even_list'\n",
                "even_list = []\n",
                "for i in test_list:\n",
                "    if(i%2==0):\n",
                "        even_list.append(i)\n",
                "        \n",
                "# Comprueba si la lista consta solo de números pares   \n",
                "print(even_list[:10])        "
            ]
        },
        {
            "cell_type": "code",
            "execution_count": 9,
            "metadata": {},
            "outputs": [
                {
                    "name": "stdout",
                    "output_type": "stream",
                    "text": [
                        "[1463, 1455, 303, 101, 1751, 973, 417, 1015, 423, 1009]\n"
                    ]
                }
            ],
            "source": [
                "# Nuevamente use un ciclo para encontrar todos los números impares y agréguelos a 'odd_list'\n",
                "odd_list = []\n",
                "for j in test_list:\n",
                "        if(j%2!=0):\n",
                "                odd_list.append(j)\n",
                "    \n",
                "# Comprueba si la lista consta solo de enteros impares\n",
                "print(odd_list[:10])        "
            ]
        },
        {
            "attachments": {},
            "cell_type": "markdown",
            "metadata": {},
            "source": [
                "### 🍲 Para el siguiente código, ¿cuándo se imprimirá `¡Buena elección!`?\n",
                "\n",
                "```python\n",
                "while True:\n",
                "    name = input('Cual es tu color favorito?')\n",
                "    if name == 'rojo':\n",
                "        break\n",
                "print(\"¡Buena elección!\")\n",
                "```\n",
                "pavlos`\n",
                "#### A. user inputs `rojo`\n",
                "#### B. user uses `command/ctrl + C` to break out of the loop\n",
                "#### C. user inputs `Rojo`\n",
                "#### D. All of the above\n"
            ]
        },
        {
            "cell_type": "code",
            "execution_count": 10,
            "metadata": {},
            "outputs": [],
            "source": [
                "### edTest(test_chow2) ###\n",
                "# Submit an answer choice as a string below (eg. if you choose option A put 'A')\n",
                "answer2 = 'A'"
            ]
        }
    ],
    "metadata": {
        "kernelspec": {
            "display_name": "Python 3.10.4 64-bit",
            "language": "python",
            "name": "python3"
        },
        "language_info": {
            "codemirror_mode": {
                "name": "ipython",
                "version": 3
            },
            "file_extension": ".py",
            "mimetype": "text/x-python",
            "name": "python",
            "nbconvert_exporter": "python",
            "pygments_lexer": "ipython3",
            "version": "3.11.4"
        },
        "vscode": {
            "interpreter": {
                "hash": "f66e3edf856e3e4a3652763ddb6c2ab1c25665e5b9e1fed087bb1a040433f3bb"
            }
        }
    },
    "nbformat": 4,
    "nbformat_minor": 4
}

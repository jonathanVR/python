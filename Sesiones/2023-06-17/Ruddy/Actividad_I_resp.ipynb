{
  "cells": [
    {
      "cell_type": "markdown",
      "metadata": {
        "id": "T8vBaojXyVYT"
      },
      "source": [
        "# <img style=\"float: left; padding-right: 20px; height: 70px\" src=\"https://scontent.flpb2-1.fna.fbcdn.net/v/t39.30808-6/333037578_535368228681036_1718744419186811485_n.jpg?_nc_cat=101&ccb=1-7&_nc_sid=09cbfe&_nc_ohc=Y0wrgOHt3UIAX_CTUKQ&_nc_ht=scontent.flpb2-1.fna&oh=00_AfBfGzpo0-x8gU11VFnWwNRJ-1tOK9hv1D7JAHfZhFfzOw&oe=648C289F\"> Herramientas Básicas de Visualización de Datos\n",
        "\n",
        "## Actividad `I` 17 de Junio\n",
        "\n",
        "**Universidad Privada Boliviana**<br/>\n",
        "**Diplomado en Machine Learning y Ciencia de Datos 2-2023**<br/>\n",
        "**Junio 2023**<br/>\n"
      ]
    },
    {
      "cell_type": "markdown",
      "metadata": {
        "id": "PRXONKcCyVY_"
      },
      "source": [
        "## Manipulación de listas usando bucles de python.\n",
        "> La indexación es muy útil para manipular listas. Sin embargo, las selecciones específicas de una lista necesitan que iteremos sobre cada elemento de la lista antes de hacer una selección."
      ]
    },
    {
      "cell_type": "code",
      "execution_count": 2,
      "metadata": {
        "id": "0icEwVaGyVZB"
      },
      "outputs": [],
      "source": [
        "# Funcion de ayuda.\n",
        "# Hacer correr este bloque sin modificar el codigo\n",
        "import random\n",
        "test_list = [i for i in range(2000)]\n",
        "test_list = random.sample(test_list,1000)\n",
        "\n",
        "chess_board = [8*['W'],8*['W'],8*[' '],8*[' '],8*[' '],8*[' '],8*['B'],8*['B']]"
      ]
    },
    {
      "cell_type": "code",
      "execution_count": 3,
      "metadata": {
        "colab": {
          "base_uri": "https://localhost:8080/",
          "height": 0
        },
        "id": "0NcBHOTWyVZF",
        "outputId": "36111d2e-61c1-430e-f416-38b9f3e2e3b3"
      },
      "outputs": [
        {
          "output_type": "stream",
          "name": "stdout",
          "text": [
            "[1139, 1372, 276, 1075, 1932, 648, 1060, 1455, 1879, 682]\n"
          ]
        }
      ],
      "source": [
        "# imprimir los primeros 10 elementos de `test_list`\n",
        "print(test_list[:10])"
      ]
    },
    {
      "cell_type": "code",
      "execution_count": 4,
      "metadata": {
        "colab": {
          "base_uri": "https://localhost:8080/",
          "height": 0
        },
        "id": "YfhxyIfEyVZG",
        "outputId": "43ab15d3-ec53-47ed-c381-ddf0616ca1ea"
      },
      "outputs": [
        {
          "output_type": "stream",
          "name": "stdout",
          "text": [
            "[0, 5, 7, 9, 10, 11, 15, 17, 19, 21]\n"
          ]
        }
      ],
      "source": [
        "#Ordene el contenido de test list, llame esta variable sorted_list\n",
        "# verifique el contenido de `test_list` después de ordenarlo\n",
        "sorted_list = sorted(test_list)\n",
        "# Imprime los primeros diez elementos de sorted_list\n",
        "print(sorted_list[:10])"
      ]
    },
    {
      "cell_type": "markdown",
      "metadata": {
        "id": "IV4wtzYnyVZJ"
      },
      "source": [
        "### ⏸ ¿Qué método de lista puede usar para agregar un solo elemento a la lista?\n",
        "\n",
        "#### A. `append()`\n",
        "#### B. `extend()`\n",
        "#### C. `add()`\n",
        "#### D. `pop()`\n"
      ]
    },
    {
      "cell_type": "code",
      "execution_count": 5,
      "metadata": {
        "id": "J0-Fs8nPyVZK"
      },
      "outputs": [],
      "source": [
        "\n",
        "# Envíe una opción de respuesta como una cadena a continuación (por ejemplo, si elige la opción A, escriba 'A')\n",
        "answer1 = 'A'"
      ]
    },
    {
      "cell_type": "code",
      "execution_count": 6,
      "metadata": {
        "colab": {
          "base_uri": "https://localhost:8080/",
          "height": 0
        },
        "id": "MvOh4j_xyVZM",
        "outputId": "0c1265b1-7f5e-4d5d-9e64-fb35e1542e6f"
      },
      "outputs": [
        {
          "output_type": "stream",
          "name": "stdout",
          "text": [
            "[1372, 276, 1932, 648, 1060, 682, 1154, 558, 430, 1872]\n"
          ]
        }
      ],
      "source": [
        "# Esta vez, use un bucle for para encontrar todos los números pares y agréguelos a 'even_list'\n",
        "even_list = []\n",
        "for item in test_list:\n",
        "    if item%2==0:\n",
        "      even_list.append(item)\n",
        "\n",
        "# Comprueba si la lista consta solo de números pares\n",
        "print(even_list[:10])"
      ]
    },
    {
      "cell_type": "code",
      "execution_count": 7,
      "metadata": {
        "colab": {
          "base_uri": "https://localhost:8080/",
          "height": 0
        },
        "id": "rpeDLUKuyVZN",
        "outputId": "49eb7884-d659-4a89-d675-c9dfa8eb6c15"
      },
      "outputs": [
        {
          "output_type": "stream",
          "name": "stdout",
          "text": [
            "[1139, 1075, 1455, 1879, 573, 1813, 1861, 1329, 119, 1081]\n"
          ]
        }
      ],
      "source": [
        "# Nuevamente use un ciclo para encontrar todos los números impares y agréguelos a 'odd_list'\n",
        "odd_list = []\n",
        "for item in test_list:\n",
        "    if item%2!=0:\n",
        "      odd_list.append(item)\n",
        "\n",
        "# Comprueba si la lista consta solo de enteros impares\n",
        "print(odd_list[:10])"
      ]
    },
    {
      "cell_type": "markdown",
      "metadata": {
        "id": "U9TwgCt4yVZP"
      },
      "source": [
        "### 🍲 Para el siguiente código, ¿cuándo se imprimirá `¡Buena elección!`?\n",
        "\n",
        "```python\n",
        "while True:\n",
        "    name = input('Cual es tu color favorito?')\n",
        "    if name == 'rojo':\n",
        "        break\n",
        "print(\"¡Buena elección!\")\n",
        "```\n",
        "pavlos`\n",
        "#### A. user inputs `rojo`\n",
        "#### B. user uses `command/ctrl + C` to break out of the loop\n",
        "#### C. user inputs `Rojo`\n",
        "#### D. All of the above\n"
      ]
    },
    {
      "cell_type": "code",
      "execution_count": 8,
      "metadata": {
        "id": "sc1UQ2gNyVZR"
      },
      "outputs": [],
      "source": [
        "### edTest(test_chow2) ###\n",
        "# Submit an answer choice as a string below (eg. if you choose option A put 'A')\n",
        "answer2 = 'A'"
      ]
    },
    {
      "cell_type": "code",
      "source": [],
      "metadata": {
        "id": "NCxYlf46_3c7"
      },
      "execution_count": 8,
      "outputs": []
    }
  ],
  "metadata": {
    "kernelspec": {
      "display_name": "Python 3.10.4 64-bit",
      "language": "python",
      "name": "python3"
    },
    "language_info": {
      "codemirror_mode": {
        "name": "ipython",
        "version": 3
      },
      "file_extension": ".py",
      "mimetype": "text/x-python",
      "name": "python",
      "nbconvert_exporter": "python",
      "pygments_lexer": "ipython3",
      "version": "3.10.4"
    },
    "vscode": {
      "interpreter": {
        "hash": "f66e3edf856e3e4a3652763ddb6c2ab1c25665e5b9e1fed087bb1a040433f3bb"
      }
    },
    "colab": {
      "provenance": []
    }
  },
  "nbformat": 4,
  "nbformat_minor": 0
}
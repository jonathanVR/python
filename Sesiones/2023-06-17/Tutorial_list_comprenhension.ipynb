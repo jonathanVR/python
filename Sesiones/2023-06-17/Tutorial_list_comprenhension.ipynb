{
    "cells": [
        {
            "cell_type": "markdown",
            "metadata": {},
            "source": [
                "## La Gran Guardiana de Libros\n",
                "\n",
                "### Introducción\n",
                "\n",
                "En esta serie de ejercicios, aprenderemos sobre los diccionarios en Python y cómo utilizarlos para crear y manipular datos relacionados con una \"Gran Guardiana de libros\". Un diccionario es una estructura de datos poderosa que nos permite almacenar información en forma de pares clave-valor. \n",
                "\n",
                "### Sección 1: Creación de un Diccionario de Libros\n",
                "\n",
                "En esta sección, aprenderemos a crear un diccionario para almacenar información sobre los libros que la Gran Guardiana de libros posee.\n",
                "\n",
                "#### Paso 1: Crear un Diccionario Vacío\n",
                "\n",
                "Para empezar, crearemos un diccionario vacío llamado \"libros\" donde almacenaremos información sobre los libros. Utilizaremos este diccionario a lo largo del tutorial."
            ]
        },
        {
            "cell_type": "code",
            "execution_count": 1,
            "metadata": {},
            "outputs": [],
            "source": [
                "libros = {}"
            ]
        },
        {
            "cell_type": "markdown",
            "metadata": {},
            "source": [
                "Paso 2: Agregar Libros al Diccionario\n",
                "Ahora, agregaremos información sobre algunos libros al diccionario. Cada libro se representará como un par clave-valor, donde la clave será el título del libro y el valor será una lista con detalles adicionales, como el autor, el año de publicación, etc."
            ]
        },
        {
            "cell_type": "code",
            "execution_count": 2,
            "metadata": {},
            "outputs": [],
            "source": [
                "libros['El nombre del viento'] = ['Patrick Rothfuss', 2007]\n",
                "libros['Cien años de soledad'] = ['Gabriel García Márquez', 1967]\n",
                "libros['1984'] = ['George Orwell', 1949]"
            ]
        },
        {
            "cell_type": "markdown",
            "metadata": {},
            "source": [
                "Sección 2: Manipulación de un Diccionario de Libros\n",
                "En esta sección, aprenderemos a realizar diferentes operaciones con el diccionario de libros.\n",
                "\n",
                "Paso 1: Acceder a la Información de un Libro\n",
                "Aprenderemos a acceder a la información de un libro específico utilizando su título como clave."
            ]
        },
        {
            "cell_type": "code",
            "execution_count": 3,
            "metadata": {},
            "outputs": [
                {
                    "name": "stdout",
                    "output_type": "stream",
                    "text": [
                        "Información de El nombre del viento: ['Patrick Rothfuss', 2007]\n"
                    ]
                }
            ],
            "source": [
                "titulo = 'El nombre del viento'\n",
                "informacion = libros[titulo]\n",
                "print(\"Información de\", titulo + \":\", informacion)"
            ]
        },
        {
            "cell_type": "markdown",
            "metadata": {},
            "source": [
                "Paso 2: Actualizar la Información de un Libro\n",
                "A veces, necesitamos actualizar la información de un libro. Aprenderemos a actualizar el autor de un libro específico."
            ]
        },
        {
            "cell_type": "code",
            "execution_count": 7,
            "metadata": {},
            "outputs": [
                {
                    "name": "stdout",
                    "output_type": "stream",
                    "text": [
                        "Información actualizada de El nombre del viento: ['Nuevo Autor', 2007]\n"
                    ]
                }
            ],
            "source": [
                "titulo = 'El nombre del viento'\n",
                "nuevo_autor = 'Nuevo Autor'\n",
                "libros[titulo][0] = nuevo_autor\n",
                "print(\"Información actualizada de\", titulo + \":\", libros[titulo])"
            ]
        },
        {
            "cell_type": "markdown",
            "metadata": {},
            "source": [
                "Paso 3: Eliminar un Libro del Diccionario\n",
                "Si un libro ya no está en posesión de la Gran Guardiana, debemos eliminarlo del diccionario. Aprenderemos a eliminar un libro utilizando su título como clave."
            ]
        },
        {
            "cell_type": "code",
            "execution_count": 6,
            "metadata": {},
            "outputs": [
                {
                    "ename": "KeyError",
                    "evalue": "'1984'",
                    "output_type": "error",
                    "traceback": [
                        "\u001b[1;31m---------------------------------------------------------------------------\u001b[0m",
                        "\u001b[1;31mKeyError\u001b[0m                                  Traceback (most recent call last)",
                        "Cell \u001b[1;32mIn[6], line 2\u001b[0m\n\u001b[0;32m      1\u001b[0m titulo \u001b[39m=\u001b[39m \u001b[39m'\u001b[39m\u001b[39m1984\u001b[39m\u001b[39m'\u001b[39m\n\u001b[1;32m----> 2\u001b[0m \u001b[39mdel\u001b[39;00m libros[titulo]\n\u001b[0;32m      3\u001b[0m \u001b[39mprint\u001b[39m(\u001b[39m\"\u001b[39m\u001b[39mEl libro\u001b[39m\u001b[39m\"\u001b[39m, titulo, \u001b[39m\"\u001b[39m\u001b[39mha sido eliminado del diccionario.\u001b[39m\u001b[39m\"\u001b[39m)\n",
                        "\u001b[1;31mKeyError\u001b[0m: '1984'"
                    ]
                }
            ],
            "source": [
                "titulo = '1984'\n",
                "del libros[titulo]\n",
                "print(\"El libro\", titulo, \"ha sido eliminado del diccionario.\")"
            ]
        },
        {
            "attachments": {},
            "cell_type": "markdown",
            "metadata": {},
            "source": [
                "# **List, Sets & Dictionary Comprehension**\n",
                "\n",
                "List, Dict Comprehension le brinda una sintaxis más fácil y corta para recorrer estructuras de datos iterables y crear un nuevo objeto iterable a partir del mismo.\n",
                "\n",
                "![](https://miro.medium.com/max/765/1*m4oZHplTTZxVr_VvAkwjHQ.png)"
            ]
        },
        {
            "attachments": {},
            "cell_type": "markdown",
            "metadata": {},
            "source": [
                "## **1) List Comprehension**\n",
                "\n",
                "Muchos \"bucles for\" simples en Python se pueden reemplazar con listas de comprensión. A menudo puede escuchar que la comprensión de listas es \"más pitónica\".\n",
                "\n",
                "La sintaxis general de una lista por comprensión es la siguiente:\n",
                "\n",
                "**`[f(x) para x en secuencia]`**\n",
                "\n",
                "### **1.1) Sin embargo, ¿cuál es la diferencia entre bucles for y comprensión de listas?**"
            ]
        },
        {
            "attachments": {},
            "cell_type": "markdown",
            "metadata": {},
            "source": [
                "Aquí hay un ejemplo de cómo generar una lista de cuadrados de los primeros n enteros usando dos métodos:\n",
                "1. Usar un bucle For\n",
                "2. Usando una lista de comprensión"
            ]
        },
        {
            "attachments": {},
            "cell_type": "markdown",
            "metadata": {},
            "source": [
                "*Using a For Loop*"
            ]
        },
        {
            "cell_type": "code",
            "execution_count": 9,
            "metadata": {},
            "outputs": [
                {
                    "name": "stdout",
                    "output_type": "stream",
                    "text": [
                        "--- For Loop took 0.12007665634155273 seconds ---\n"
                    ]
                }
            ],
            "source": [
                "import time\n",
                "\n",
                "#Tiempo de inicio - para medir el tiempo de ejecución\n",
                "start_time = time.time()\n",
                "\n",
                "#Inicializar una nueva lista\n",
                "NUMBERS = list(range(1000000))\n",
                "\n",
                "#Inicializando una nueva lista\n",
                "squares = []\n",
                "\n",
                "#Loop a través del rango de  enteros\n",
                "for i in NUMBERS:\n",
                "    #Añadiendo valor de cuadrados a la lista\n",
                "    squares.append(i**2)\n",
                "\n",
                "print(\"--- For Loop took %s seconds ---\" % (time.time() - start_time))"
            ]
        },
        {
            "attachments": {},
            "cell_type": "markdown",
            "metadata": {},
            "source": [
                "*Using List Comprehension*"
            ]
        },
        {
            "cell_type": "code",
            "execution_count": 10,
            "metadata": {},
            "outputs": [
                {
                    "name": "stdout",
                    "output_type": "stream",
                    "text": [
                        "--- List Comprehension took 0.05709528923034668 seconds ---\n"
                    ]
                }
            ],
            "source": [
                "#Tiempo de inicio - para medir el tiempo de ejecución\n",
                "start_time = time.time()\n",
                "\n",
                "#Inicializar una nueva lista \n",
                "squares = []\n",
                "\n",
                "#Uso de la comprensión de listas para obtener nuestra lista de cuadrados\n",
                "squares = [i**2 for i in NUMBERS]\n",
                "\n",
                "print(\"--- List Comprehension took %s seconds ---\" % (time.time() - start_time))"
            ]
        },
        {
            "attachments": {},
            "cell_type": "markdown",
            "metadata": {},
            "source": [
                "¿Qué ejecución tomó menos tiempo: para la comprensión de Loop o List?\n",
                "\n",
                "La lista de Comprensión\n",
                "\n",
                "En general, la comprensión de listas tiene un tiempo de ejecución más rápido que los bucles for."
            ]
        },
        {
            "attachments": {},
            "cell_type": "markdown",
            "metadata": {},
            "source": [
                "### **1.2) Tener condicionales y más de una operación en Comprensión de lista**\n",
                "\n",
                "En el caso de que queramos tener condicionales y operaciones adicionales dentro de nuestra lista de Comprensión, se puede tener en cuenta la siguiente sintaxis.\n",
                "\n",
                "\n",
                "**`[f(x) if condicion else g(x) for x in secuencia]`**\n",
                "\n",
                "Veamos un ejemplo para recorrer los primeros 100 enteros y almacenar pares duplicados y probabilidades reducidas a la mitad.\n",
                "\n"
            ]
        },
        {
            "cell_type": "code",
            "execution_count": 11,
            "metadata": {},
            "outputs": [
                {
                    "name": "stdout",
                    "output_type": "stream",
                    "text": [
                        "[0, 0.5, 4, 1.5, 8, 2.5, 12, 3.5, 16, 4.5, 20, 5.5, 24, 6.5, 28, 7.5, 32, 8.5, 36, 9.5, 40, 10.5, 44, 11.5, 48, 12.5, 52, 13.5, 56, 14.5, 60, 15.5, 64, 16.5, 68, 17.5, 72, 18.5, 76, 19.5, 80, 20.5, 84, 21.5, 88, 22.5, 92, 23.5, 96, 24.5, 100, 25.5, 104, 26.5, 108, 27.5, 112, 28.5, 116, 29.5, 120, 30.5, 124, 31.5, 128, 32.5, 132, 33.5, 136, 34.5, 140, 35.5, 144, 36.5, 148, 37.5, 152, 38.5, 156, 39.5, 160, 40.5, 164, 41.5, 168, 42.5, 172, 43.5, 176, 44.5, 180, 45.5, 184, 46.5, 188, 47.5, 192, 48.5, 196, 49.5]\n"
                    ]
                }
            ],
            "source": [
                "# Creación de listas de comprensión para recorrer los primeros 100 enteros\n",
                "# y almacenar los pares con su doble y los impares reducidas a la mitad.\n",
                "A_list = [2*i if i%2 == 0 else 0.5*i for i in range(100)]\n",
                "\n",
                "### Lo anterior en el bucle for se ve así:\n",
                "# for i in range(100):\n",
                "#   if i%2 == 0:\n",
                "#        A_list.append(i*2)\n",
                "#   else:\n",
                "#       A_list.append(i*0.5)\n",
                "\n",
                "print(A_list)"
            ]
        },
        {
            "attachments": {},
            "cell_type": "markdown",
            "metadata": {},
            "source": [
                "## **Dictionary Comprehension**\n",
                "\n",
                "Los diccionarios se pueden iterar sobre el uso de comprensiones de diccionario que se ven así:\n",
                "\n",
                "**`output_dict = {key:value for (key, value) in iterable if (key, value satisfy this condition)}`**"
            ]
        },
        {
            "cell_type": "code",
            "execution_count": 12,
            "metadata": {},
            "outputs": [
                {
                    "name": "stdout",
                    "output_type": "stream",
                    "text": [
                        "Diccionario de salida usando comprensiones de diccionario: {1: 1, 3: 27, 5: 125, 7: 343}\n"
                    ]
                }
            ],
            "source": [
                "# Uso de comprensiones de diccionario para crear un diccionario de salida\n",
                "# que contiene solo los números impares que están presentes en la entrada\n",
                "# lista como claves y sus cubos como valores\n",
                "  \n",
                "input_list = [1,2,3,4,5,6,7] \n",
                "dict_using_comp = {var:var ** 3 for var in input_list if var % 2 != 0} \n",
                "  \n",
                "print(\"Diccionario de salida usando comprensiones de diccionario:\", dict_using_comp)"
            ]
        }
    ],
    "metadata": {
        "kernelspec": {
            "display_name": "Python 3.10.4 64-bit",
            "language": "python",
            "name": "python3"
        },
        "language_info": {
            "codemirror_mode": {
                "name": "ipython",
                "version": 3
            },
            "file_extension": ".py",
            "mimetype": "text/x-python",
            "name": "python",
            "nbconvert_exporter": "python",
            "pygments_lexer": "ipython3",
            "version": "3.11.4"
        },
        "vscode": {
            "interpreter": {
                "hash": "f66e3edf856e3e4a3652763ddb6c2ab1c25665e5b9e1fed087bb1a040433f3bb"
            }
        }
    },
    "nbformat": 4,
    "nbformat_minor": 2
}

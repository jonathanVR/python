{
 "cells": [
  {
   "attachments": {},
   "cell_type": "markdown",
   "metadata": {},
   "source": [
    "## Python como Calculadora de Ahorros 💰\n",
    "¡El nuevo trabajo de ciencia de datos le ha dejado mucho dinero para invertir! \n",
    "\n",
    "Usemos python para ver lo que puedes ganar invirtiendo en un banco.\n"
   ]
  },
  {
   "cell_type": "markdown",
   "metadata": {},
   "source": [
    "\n",
    "El objetivo del ejercicio es construir una calculadora de ahorro simple usando python.\n",
    "\n",
    "## Instrucciones:\n",
    "\n",
    "- Siga el notebook para llenar los espacios en blanco y construya una calculadora de ahorro simple.\n",
    "    \n",
    "- Combine diferentes operadores aritméticos.\n",
    "    \n",
    "- Imprima los resultados utilizando variables, operadores y sentencias condicionales de Python.\n",
    "    \n",
    "\n",
    "## Sugerencias:\n",
    "\n",
    "**Fórmulas para Interés Simple:**\n",
    "\n",
    "$S.I. =P×R×T$\n",
    "\n",
    "$Monto = P+(P×R×T)$\n",
    " \n",
    "\n",
    "\n",
    "Monto = Monto incluyendo interés final \n",
    "\n",
    "S.I =Interés simple \n",
    "\n",
    "P= Importe principal \n",
    "\n",
    "R= Tasa de interés \n",
    "\n",
    "T= Número de años\n"
   ]
  },
  {
   "cell_type": "code",
   "execution_count": null,
   "metadata": {},
   "outputs": [],
   "source": [
    "# Suponga que le sobran $1000 de su primer cheque de pago\n",
    "# Crear una variable 'ahorros' para reflejar lo mismo\n",
    "# (por ejemplo, ahorros = 1000)\n",
    "# Tu código aquí\n",
    "ahorros = ___"
   ]
  },
  {
   "attachments": {},
   "cell_type": "markdown",
   "metadata": {},
   "source": [
    "### ⏸ ¿Cuál es el `tipo` de la variable `ahorros`?\n",
    "\n",
    "\n",
    "#### A. float\n",
    "#### B. str\n",
    "#### C. int\n",
    "#### D. tuple"
   ]
  },
  {
   "cell_type": "code",
   "execution_count": null,
   "metadata": {},
   "outputs": [],
   "source": [
    "\n",
    "# Envíe una opción de respuesta como una string\n",
    "# (ej. si elige la opción C, ponga 'C')\n",
    "respuesta = '___'"
   ]
  },
  {
   "cell_type": "code",
   "execution_count": null,
   "metadata": {},
   "outputs": [],
   "source": [
    "# Su banco está ofreciendo 7.01%\n",
    "# (Interés Simple, por año)\n",
    "# Asignar los valores numéricos solamente (sin el %)\n",
    "# p.ej. si la tasa de interés es 7.01%, asigne el valor como 7.01/100\n",
    "\n",
    "interest_rate = ___"
   ]
  },
  {
   "cell_type": "code",
   "execution_count": null,
   "metadata": {},
   "outputs": [],
   "source": [
    "# Veamos cuánto ganaría después de 2 años\n",
    "num_years = ___\n",
    "# Ahorros totales = Monto de capital + (Monto de capital x Tasa de interés x Número de años)\n",
    "# Sugerencia: consulte la descripción del ejercicio para ver la fórmula\n",
    "# Usando los nombres de las variables asignadas, imprima la nueva cantidad\n",
    "nuevo_monto = ___\n",
    "#Encuentra el interés ganado después de un número dado de años\n",
    "nuevo_monto = = ___\n",
    "print(f'El interés total ganado por una inversión de dos años es ${(nuevo_monto):.2f}')"
   ]
  }
 ],
 "metadata": {
  "kernelspec": {
   "display_name": "Python 3.10.4 64-bit",
   "language": "python",
   "name": "python3"
  },
  "language_info": {
   "name": "python",
   "version": "3.10.4"
  },
  "orig_nbformat": 4,
  "vscode": {
   "interpreter": {
    "hash": "f66e3edf856e3e4a3652763ddb6c2ab1c25665e5b9e1fed087bb1a040433f3bb"
   }
  }
 },
 "nbformat": 4,
 "nbformat_minor": 2
}

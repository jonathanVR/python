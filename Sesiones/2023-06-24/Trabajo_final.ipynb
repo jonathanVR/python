{
 "cells": [
  {
   "cell_type": "markdown",
   "metadata": {},
   "source": [
    "# <img style=\"float: left; padding-right: 20px; height: 70px\" src=\"https://scontent.flpb2-1.fna.fbcdn.net/v/t39.30808-6/333037578_535368228681036_1718744419186811485_n.jpg?_nc_cat=101&ccb=1-7&_nc_sid=09cbfe&_nc_ohc=Y0wrgOHt3UIAX_CTUKQ&_nc_ht=scontent.flpb2-1.fna&oh=00_AfBfGzpo0-x8gU11VFnWwNRJ-1tOK9hv1D7JAHfZhFfzOw&oe=648C289F\"> Herramientas Básicas de Visualización de Datos\n",
    "\n",
    "\n",
    "## **Trabajo final**\n",
    "\n",
    "\n",
    "**Universidad Privada Boliviana**<br/>\n",
    "**Diplomado en Machine Learning y Ciencia de Datos 2-2023**<br/>\n",
    "**Junio 2023**<br/>"
   ]
  },
  {
   "cell_type": "markdown",
   "metadata": {},
   "source": [
    "## 🎵 Quiz de Spotify\n",
    "Responde las preguntas a continuación utilizando el conjunto de datos `spotify_artists.csv` proporcionado.\n",
    "\n",
    "NOTA: Todas las respuestas deben basarse en el conjunto de datos proporcionado."
   ]
  },
  {
   "cell_type": "code",
   "execution_count": null,
   "metadata": {},
   "outputs": [],
   "source": [
    "#importa la biblioteca pandas\n",
    "\n"
   ]
  },
  {
   "cell_type": "code",
   "execution_count": null,
   "metadata": {},
   "outputs": [],
   "source": [
    "\n",
    "#lee el archivo spotify_artists.csv en un dataframe\n",
    "\n"
   ]
  },
  {
   "cell_type": "code",
   "execution_count": null,
   "metadata": {},
   "outputs": [],
   "source": [
    "# echa un vistazo rápido a los datos con df.head()\n"
   ]
  },
  {
   "cell_type": "markdown",
   "metadata": {},
   "source": [
    "### 1. ¿Cuántas canciones se encuentran en el dataframe?\"\"\"\n"
   ]
  },
  {
   "cell_type": "code",
   "execution_count": null,
   "metadata": {},
   "outputs": [],
   "source": [
    "# tu código aquí\n",
    "\n",
    "\n"
   ]
  },
  {
   "cell_type": "code",
   "execution_count": null,
   "metadata": {},
   "outputs": [],
   "source": [
    "\n",
    "#Echa un vistazo a tu respuesta para ver si tiene sentido\n",
    "\n",
    "\n"
   ]
  },
  {
   "cell_type": "markdown",
   "metadata": {},
   "source": [
    "### 2. ¿Cuántos días tomaría escuchar todas las canciones en este conjunto de datos?\n",
    "\n",
    "NOTA: Redondea la respuesta al número entero más cercano\n"
   ]
  },
  {
   "cell_type": "code",
   "execution_count": null,
   "metadata": {},
   "outputs": [],
   "source": [
    "#tu código aquí\n",
    "answer2 = ___\n"
   ]
  },
  {
   "cell_type": "code",
   "execution_count": null,
   "metadata": {},
   "outputs": [],
   "source": [
    "#Echa un vistazo a tu respuesta para ver si tiene sentido\n",
    "print(___)\n"
   ]
  },
  {
   "cell_type": "markdown",
   "metadata": {},
   "source": [
    "### 3. En el dataframe, ¿cuántas canciones tienen el título \"Love\" (coincidencia exacta)?\n"
   ]
  },
  {
   "cell_type": "code",
   "execution_count": null,
   "metadata": {},
   "outputs": [],
   "source": [
    "\n",
    "\n",
    "#tu código aquí\n",
    "\n",
    "\n",
    "# answer3 = ___\n"
   ]
  },
  {
   "cell_type": "code",
   "execution_count": null,
   "metadata": {},
   "outputs": [],
   "source": [
    "#Echa un vistazo a tu respuesta para ver si tiene sentido\n",
    "print(___)\n"
   ]
  },
  {
   "cell_type": "markdown",
   "metadata": {},
   "source": [
    "### 4. ¿Qué artista creó la canción más popular titulada \"Love\"?"
   ]
  },
  {
   "cell_type": "markdown",
   "metadata": {},
   "source": [
    "Para ordenar una serie por valores hemos utilizado:\n",
    "`serie.sort_values()`\n",
    "\n",
    "Para un dataframe, df.sort_values() requiere ademas la columna especifica utilizar como argumento: \n",
    "\n",
    "`df.sort_values(by='Nombre de la columna')`\n",
    "\n",
    "Puedes ver la documentacion para obtener mas informacion [here](https://pandas.pydata.org/docs/reference/api/pandas.DataFrame.sort_values.html)\n"
   ]
  },
  {
   "cell_type": "code",
   "execution_count": null,
   "metadata": {},
   "outputs": [],
   "source": [
    "#tu código aquí\n",
    "answer4 = ___\n"
   ]
  },
  {
   "cell_type": "code",
   "execution_count": null,
   "metadata": {},
   "outputs": [],
   "source": [
    "#Echa un vistazo a tu respuesta para ver si tiene sentido\n",
    "print(___)\n"
   ]
  },
  {
   "cell_type": "markdown",
   "metadata": {},
   "source": [
    "### 5. ¿En qué década se lanzaron la mayoría de las canciones?\n",
    "\n",
    "SUGERENCIA: Deberás encontrar el número total de canciones lanzadas en cada década y proceder a partir de ahí.\n",
    "\n",
    "NOTA: si tu respuesta es los 80, la respuesta debe ser 1980."
   ]
  },
  {
   "cell_type": "code",
   "execution_count": null,
   "metadata": {},
   "outputs": [],
   "source": [
    "# tu código aquí\n",
    "answer5 = ___\n"
   ]
  },
  {
   "cell_type": "code",
   "execution_count": null,
   "metadata": {},
   "outputs": [],
   "source": [
    "#Echa un vistazo a tu respuesta para ver si tiene sentido\n",
    "print(___)\n"
   ]
  },
  {
   "cell_type": "markdown",
   "metadata": {},
   "source": [
    "### 6. ¿Qué columna tiene datos faltantes?\n",
    "SUGERENCIA: Puedes revisar el metodo df.isnull() o df.isna()\n"
   ]
  },
  {
   "cell_type": "code",
   "execution_count": null,
   "metadata": {},
   "outputs": [],
   "source": [
    "#tu código aquí\n",
    "\n"
   ]
  },
  {
   "cell_type": "code",
   "execution_count": null,
   "metadata": {},
   "outputs": [],
   "source": [
    "#Echa un vistazo a tu respuesta para ver si tiene sentido\n",
    "print(___)\n"
   ]
  },
  {
   "cell_type": "markdown",
   "metadata": {},
   "source": [
    "#### Elimina todos los valores faltantes para responder al siguiente conjunto de preguntas.\n",
    "\n",
    "Si el dataframe contiene valores faltantes, puedes eliminarlos utilizando el siguiente método:\n",
    "\n",
    "`df.dropna(inplace=True)`\n",
    "\n",
    "Este método busca elementos faltantes en el dataframe y, si encuentra alguno, elimina toda la fila correspondiente a la celda faltante.\n",
    "\n",
    "Puedes encontrar más información en la documentación \n",
    "[here](https://pandas.pydata.org/docs/reference/api/pandas.DataFrame.dropna.html#pandas.DataFrame.dropna)"
   ]
  },
  {
   "cell_type": "code",
   "execution_count": null,
   "metadata": {},
   "outputs": [],
   "source": [
    "# tu código aquí\n"
   ]
  },
  {
   "cell_type": "markdown",
   "metadata": {},
   "source": [
    "### 7. Analisis del tempo de las canciones\n",
    "\n",
    "Utilizar el comando `print(f\"...\")` donde corresponda para responder a las siguientes preguntas\n",
    "\n",
    "Para los artistas con una popularidad mayor a 8 y cuyas canciones han sido lanzadas despues del 2015, encontrar la siguiente informacion:\n",
    "\n",
    "- ¿Cuál es la canción más rápida en términos de tempo y en qué año fue lanzada?\n",
    "- ¿Cuál es la canción más lenta en términos de tempo y en qué año fue lanzada?\n",
    "- ¿Graficar el numero de canciones que fueron lanzadas por año y identificar cuál fue año con más canciones?\n"
   ]
  },
  {
   "cell_type": "code",
   "execution_count": null,
   "metadata": {},
   "outputs": [],
   "source": [
    "# tu código aquí\n",
    "# answer7 = ___\n"
   ]
  },
  {
   "cell_type": "markdown",
   "metadata": {},
   "source": [
    "### 8. Analisis del tiempo de duracion de las canciones\n",
    "Utilizar el comando `print(f\"...\")` para responder a las siguientes preguntas\n",
    "\n",
    "- ¿Cuál es la canción más larga en términos de duración en milisegundos y quién es el artista que la interpreta?\n",
    "\n",
    "- ¿Cuál es la canción más popular en términos de valor de popularidad y en qué año fue lanzada?"
   ]
  },
  {
   "cell_type": "code",
   "execution_count": null,
   "metadata": {},
   "outputs": [],
   "source": [
    "#tu código aquí\n",
    "\n",
    "# answer8 = ___\n",
    "\n"
   ]
  },
  {
   "cell_type": "markdown",
   "metadata": {},
   "source": [
    "### 9. ¿Cuál es la canción más enérgica de Michael Jackson?"
   ]
  },
  {
   "cell_type": "code",
   "execution_count": null,
   "metadata": {},
   "outputs": [],
   "source": [
    "#tu código aquí\n",
    "answer9 = ___"
   ]
  },
  {
   "cell_type": "markdown",
   "metadata": {},
   "source": [
    "### 10 ¿Qué artista ha lanzado la mayor cantidad de canciones desde 1960?\n"
   ]
  },
  {
   "cell_type": "code",
   "execution_count": null,
   "metadata": {},
   "outputs": [],
   "source": [
    "# tu código aquí\n"
   ]
  },
  {
   "cell_type": "markdown",
   "metadata": {},
   "source": [
    "### 11 Para el artista de la pregunta anterior, ¿cuál es la canción más popular?"
   ]
  },
  {
   "cell_type": "code",
   "execution_count": null,
   "metadata": {},
   "outputs": [],
   "source": [
    "# tu código aquí\n",
    "answer11 = ___"
   ]
  },
  {
   "cell_type": "markdown",
   "metadata": {},
   "source": [
    "### 12. Crear un playlist con las canciones mas populares\n",
    "\n",
    "Crea una `lista` de reproducción con la canción más popular de cada año desde 1980 hasta 2020.\n",
    "\n",
    "El resultado debe ser de tipo List con 41 valores de tipo str (una canción para cada año)\n",
    "p.ej. ['cancion1', 'cancion2', 'cancion3', ...]\n",
    "NOTA: En caso de empates, elige la canción con el valor más alto de energy."
   ]
  },
  {
   "cell_type": "code",
   "execution_count": null,
   "metadata": {},
   "outputs": [],
   "source": [
    "# tu código aquí\n",
    "answer_12 = ___"
   ]
  },
  {
   "cell_type": "markdown",
   "metadata": {},
   "source": [
    "### 13 ¿Cómo se distribuye la popularidad de las canciones en forma de histograma?\n",
    "Crea un grafico para responder esta pregunta\n"
   ]
  },
  {
   "cell_type": "code",
   "execution_count": null,
   "metadata": {},
   "outputs": [],
   "source": [
    "# tu código aquí\n",
    "..."
   ]
  },
  {
   "cell_type": "markdown",
   "metadata": {},
   "source": [
    "### 14 ¿existe una correlación entre la duración de las canciones y su nivel de energía? Representa esta relación en un scatter plot.\n",
    "Crea un grafico para responder esta pregunta"
   ]
  },
  {
   "cell_type": "code",
   "execution_count": null,
   "metadata": {},
   "outputs": [],
   "source": [
    "# tu código aquí\n",
    "..."
   ]
  },
  {
   "cell_type": "markdown",
   "metadata": {},
   "source": [
    "### 15 ¿Cuál es la distribución de la danceability de las canciones en función del año de lanzamiento? \n",
    "Crea un gráfico de barras para mostrar esta distribución."
   ]
  },
  {
   "cell_type": "code",
   "execution_count": null,
   "metadata": {},
   "outputs": [],
   "source": [
    "# tu código aquí\n",
    "..."
   ]
  },
  {
   "cell_type": "markdown",
   "metadata": {},
   "source": [
    "### 16 ¿Cómo varía el tempo de las canciones a lo largo de los años?\n",
    "Representa esta variación utilizando un gráfico de línea.\n"
   ]
  },
  {
   "cell_type": "code",
   "execution_count": null,
   "metadata": {},
   "outputs": [],
   "source": []
  },
  {
   "cell_type": "code",
   "execution_count": null,
   "metadata": {},
   "outputs": [],
   "source": [
    "# tu código aquí\n",
    "..."
   ]
  },
  {
   "cell_type": "markdown",
   "metadata": {},
   "source": [
    "### 17 ¿Cuál es la relación entre la popularidad y la energía de las canciones?\n",
    "Crea un scatter plot para visualizar esta relación.\n"
   ]
  },
  {
   "cell_type": "code",
   "execution_count": null,
   "metadata": {},
   "outputs": [],
   "source": [
    "# tu código aquí\n",
    "..."
   ]
  },
  {
   "cell_type": "markdown",
   "metadata": {},
   "source": [
    "### 18 ¿Cuál es la tendencia de cambio en la duración de las canciones a lo largo de los años? \n",
    "Utiliza un gráfico de línea para mostrar esta tendencia."
   ]
  },
  {
   "cell_type": "code",
   "execution_count": null,
   "metadata": {},
   "outputs": [],
   "source": [
    "# tu código aquí\n",
    "..."
   ]
  },
  {
   "cell_type": "markdown",
   "metadata": {},
   "source": [
    "### 19  ¿Cuál es la energía promedio de todas las canciones de 'Michael Jackson'?\n",
    "Para obtener el promedio de los valores en una columna de tipo numerico, puede utilizar el metodo\n",
    "\n",
    "`df[\"nombre de la columna\"].mean()`"
   ]
  },
  {
   "cell_type": "code",
   "execution_count": null,
   "metadata": {},
   "outputs": [],
   "source": [
    "# tu código aquí\n",
    "..."
   ]
  },
  {
   "cell_type": "markdown",
   "metadata": {},
   "source": [
    "### 20 ¿Cuántos artistas únicos están representados en el dataframe?\n",
    "Para contar los elementos unicos en un dataframe puedes utilizar el metodo:\n",
    "\n",
    "`df[\"nombre de la columna\"].unique()`\n"
   ]
  },
  {
   "cell_type": "code",
   "execution_count": null,
   "metadata": {},
   "outputs": [],
   "source": [
    "# tu código aquí\n",
    "..."
   ]
  }
 ],
 "metadata": {
  "kernelspec": {
   "display_name": "Python 3.10.4 64-bit",
   "language": "python",
   "name": "python3"
  },
  "language_info": {
   "codemirror_mode": {
    "name": "ipython",
    "version": 3
   },
   "file_extension": ".py",
   "mimetype": "text/x-python",
   "name": "python",
   "nbconvert_exporter": "python",
   "pygments_lexer": "ipython3",
   "version": "3.10.4"
  },
  "orig_nbformat": 4,
  "vscode": {
   "interpreter": {
    "hash": "f66e3edf856e3e4a3652763ddb6c2ab1c25665e5b9e1fed087bb1a040433f3bb"
   }
  }
 },
 "nbformat": 4,
 "nbformat_minor": 2
}

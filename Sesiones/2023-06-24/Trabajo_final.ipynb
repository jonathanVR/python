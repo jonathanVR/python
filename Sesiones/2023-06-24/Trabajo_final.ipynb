{
 "cells": [
  {
   "attachments": {},
   "cell_type": "markdown",
   "metadata": {},
   "source": [
    "# <img style=\"float: left; padding-right: 20px; height: 70px\" src=\"https://scontent.flpb2-1.fna.fbcdn.net/v/t39.30808-6/333037578_535368228681036_1718744419186811485_n.jpg?_nc_cat=101&ccb=1-7&_nc_sid=09cbfe&_nc_ohc=Y0wrgOHt3UIAX_CTUKQ&_nc_ht=scontent.flpb2-1.fna&oh=00_AfBfGzpo0-x8gU11VFnWwNRJ-1tOK9hv1D7JAHfZhFfzOw&oe=648C289F\"> Herramientas Básicas de Visualización de Datos\n",
    "\n",
    "\n",
    "## **Trabajo final**\n",
    "\n",
    "\n",
    "**Universidad Privada Boliviana**<br/>\n",
    "**Diplomado en Machine Learning y Ciencia de Datos 2-2023**<br/>\n",
    "**Junio 2023**<br/>"
   ]
  },
  {
   "attachments": {},
   "cell_type": "markdown",
   "metadata": {},
   "source": [
    "## 🎵 Quiz de Spotify\n",
    "Responde las preguntas a continuación utilizando el conjunto de datos `spotify_artists.csv` proporcionado.\n",
    "\n",
    "NOTA: Todas las respuestas deben basarse en el conjunto de datos proporcionado."
   ]
  },
  {
   "cell_type": "code",
   "execution_count": 4,
   "metadata": {},
   "outputs": [],
   "source": [
    "#importa la biblioteca pandas\n",
    "import pandas as pd"
   ]
  },
  {
   "cell_type": "code",
   "execution_count": 5,
   "metadata": {},
   "outputs": [],
   "source": [
    "\n",
    "#lee el archivo spotify_artists.csv en un dataframe\n",
    "df = pd.read_csv('spotify_artists.csv')"
   ]
  },
  {
   "cell_type": "code",
   "execution_count": 6,
   "metadata": {},
   "outputs": [
    {
     "data": {
      "text/html": [
       "<div>\n",
       "<style scoped>\n",
       "    .dataframe tbody tr th:only-of-type {\n",
       "        vertical-align: middle;\n",
       "    }\n",
       "\n",
       "    .dataframe tbody tr th {\n",
       "        vertical-align: top;\n",
       "    }\n",
       "\n",
       "    .dataframe thead th {\n",
       "        text-align: right;\n",
       "    }\n",
       "</style>\n",
       "<table border=\"1\" class=\"dataframe\">\n",
       "  <thead>\n",
       "    <tr style=\"text-align: right;\">\n",
       "      <th></th>\n",
       "      <th>name</th>\n",
       "      <th>artist</th>\n",
       "      <th>year</th>\n",
       "      <th>duration_ms</th>\n",
       "      <th>popularity</th>\n",
       "      <th>energy</th>\n",
       "      <th>danceability</th>\n",
       "      <th>tempo</th>\n",
       "    </tr>\n",
       "  </thead>\n",
       "  <tbody>\n",
       "    <tr>\n",
       "      <th>0</th>\n",
       "      <td>Singende Bataillone 1. Teil</td>\n",
       "      <td>Carl Woitschach</td>\n",
       "      <td>1928</td>\n",
       "      <td>158648</td>\n",
       "      <td>0</td>\n",
       "      <td>0.1950</td>\n",
       "      <td>0.708</td>\n",
       "      <td>118.469</td>\n",
       "    </tr>\n",
       "    <tr>\n",
       "      <th>1</th>\n",
       "      <td>Fantasiestücke, Op. 111: Più tosto lento</td>\n",
       "      <td>Robert Schumann</td>\n",
       "      <td>1928</td>\n",
       "      <td>282133</td>\n",
       "      <td>0</td>\n",
       "      <td>0.0135</td>\n",
       "      <td>0.379</td>\n",
       "      <td>83.972</td>\n",
       "    </tr>\n",
       "    <tr>\n",
       "      <th>2</th>\n",
       "      <td>Chapter 1.18 - Zamek kaniowski</td>\n",
       "      <td>Seweryn Goszczyński</td>\n",
       "      <td>1928</td>\n",
       "      <td>104300</td>\n",
       "      <td>0</td>\n",
       "      <td>0.2200</td>\n",
       "      <td>0.749</td>\n",
       "      <td>107.177</td>\n",
       "    </tr>\n",
       "    <tr>\n",
       "      <th>3</th>\n",
       "      <td>Bebamos Juntos - Instrumental (Remasterizado)</td>\n",
       "      <td>Francisco Canaro</td>\n",
       "      <td>1928</td>\n",
       "      <td>180760</td>\n",
       "      <td>0</td>\n",
       "      <td>0.1300</td>\n",
       "      <td>0.781</td>\n",
       "      <td>108.003</td>\n",
       "    </tr>\n",
       "    <tr>\n",
       "      <th>4</th>\n",
       "      <td>Polonaise-Fantaisie in A-Flat Major, Op. 61</td>\n",
       "      <td>NaN</td>\n",
       "      <td>1928</td>\n",
       "      <td>687733</td>\n",
       "      <td>1</td>\n",
       "      <td>0.2040</td>\n",
       "      <td>0.210</td>\n",
       "      <td>62.149</td>\n",
       "    </tr>\n",
       "  </tbody>\n",
       "</table>\n",
       "</div>"
      ],
      "text/plain": [
       "                                            name               artist  year  \\\n",
       "0                    Singende Bataillone 1. Teil      Carl Woitschach  1928   \n",
       "1       Fantasiestücke, Op. 111: Più tosto lento      Robert Schumann  1928   \n",
       "2                 Chapter 1.18 - Zamek kaniowski  Seweryn Goszczyński  1928   \n",
       "3  Bebamos Juntos - Instrumental (Remasterizado)     Francisco Canaro  1928   \n",
       "4    Polonaise-Fantaisie in A-Flat Major, Op. 61                  NaN  1928   \n",
       "\n",
       "   duration_ms  popularity  energy  danceability    tempo  \n",
       "0       158648           0  0.1950         0.708  118.469  \n",
       "1       282133           0  0.0135         0.379   83.972  \n",
       "2       104300           0  0.2200         0.749  107.177  \n",
       "3       180760           0  0.1300         0.781  108.003  \n",
       "4       687733           1  0.2040         0.210   62.149  "
      ]
     },
     "execution_count": 6,
     "metadata": {},
     "output_type": "execute_result"
    }
   ],
   "source": [
    "# echa un vistazo rápido a los datos con df.head()\n",
    "df.head()"
   ]
  },
  {
   "attachments": {},
   "cell_type": "markdown",
   "metadata": {},
   "source": [
    "### 1. ¿Cuántas canciones se encuentran en el dataframe?\"\"\"\n"
   ]
  },
  {
   "cell_type": "code",
   "execution_count": 7,
   "metadata": {},
   "outputs": [],
   "source": [
    "# tu código aquí\n",
    "df_number_rows = len(df)"
   ]
  },
  {
   "cell_type": "code",
   "execution_count": 8,
   "metadata": {},
   "outputs": [
    {
     "name": "stdout",
     "output_type": "stream",
     "text": [
      "163661\n"
     ]
    }
   ],
   "source": [
    "#Echa un vistazo a tu respuesta para ver si tiene sentido\n",
    "print(df_number_rows)"
   ]
  },
  {
   "attachments": {},
   "cell_type": "markdown",
   "metadata": {},
   "source": [
    "### 2. ¿Cuántos días tomaría escuchar todas las canciones en este conjunto de datos?\n",
    "\n",
    "NOTA: Redondea la respuesta al número entero más cercano\n"
   ]
  },
  {
   "cell_type": "code",
   "execution_count": 9,
   "metadata": {},
   "outputs": [],
   "source": [
    "#tu código aquí\n",
    "list_duration_ms = df['duration_ms']\n",
    "duration_total_ms = list_duration_ms.sum()\n",
    "rounded_time_days = round(duration_total_ms/(24*60*60*1000))"
   ]
  },
  {
   "cell_type": "code",
   "execution_count": 10,
   "metadata": {},
   "outputs": [
    {
     "name": "stdout",
     "output_type": "stream",
     "text": [
      "437 días\n"
     ]
    }
   ],
   "source": [
    "#Echa un vistazo a tu respuesta para ver si tiene sentido\n",
    "print(f'{rounded_time_days} días')"
   ]
  },
  {
   "attachments": {},
   "cell_type": "markdown",
   "metadata": {},
   "source": [
    "### 3. En el dataframe, ¿cuántas canciones tienen el título \"Love\" (coincidencia exacta)?\n"
   ]
  },
  {
   "cell_type": "code",
   "execution_count": 11,
   "metadata": {},
   "outputs": [],
   "source": [
    "#tu código aquí\n",
    "filter_love = df.name.str.contains(\"Love\")\n",
    "answer3 = filter_love.sum()"
   ]
  },
  {
   "cell_type": "code",
   "execution_count": 12,
   "metadata": {},
   "outputs": [
    {
     "name": "stdout",
     "output_type": "stream",
     "text": [
      "6446\n"
     ]
    }
   ],
   "source": [
    "#Echa un vistazo a tu respuesta para ver si tiene sentido\n",
    "print(answer3)"
   ]
  },
  {
   "attachments": {},
   "cell_type": "markdown",
   "metadata": {},
   "source": [
    "### 4. ¿Qué artista creó la canción más popular titulada \"Love\"?"
   ]
  },
  {
   "attachments": {},
   "cell_type": "markdown",
   "metadata": {},
   "source": [
    "Para ordenar una serie por valores hemos utilizado:\n",
    "`serie.sort_values()`\n",
    "\n",
    "Para un dataframe, df.sort_values() requiere ademas la columna especifica utilizar como argumento: \n",
    "\n",
    "`df.sort_values(by='Nombre de la columna')`\n",
    "\n",
    "Puedes ver la documentacion para obtener mas informacion [here](https://pandas.pydata.org/docs/reference/api/pandas.DataFrame.sort_values.html)\n"
   ]
  },
  {
   "cell_type": "code",
   "execution_count": 13,
   "metadata": {},
   "outputs": [],
   "source": [
    "#tu código aquí\n",
    "filter_popularity = df['popularity']\n",
    "answer4 = filter_popularity[filter_love].sort_values().tail()\n"
   ]
  },
  {
   "cell_type": "code",
   "execution_count": 14,
   "metadata": {},
   "outputs": [
    {
     "name": "stdout",
     "output_type": "stream",
     "text": [
      "name            Someone You Loved\n",
      "artist              Lewis Capaldi\n",
      "year                         2019\n",
      "duration_ms                182161\n",
      "popularity                     92\n",
      "energy                      0.405\n",
      "danceability                0.501\n",
      "tempo                     109.891\n",
      "Name: 86432, dtype: object\n"
     ]
    }
   ],
   "source": [
    "#Echa un vistazo a tu respuesta para ver si tiene sentido\n",
    "print(df.iloc[answer4.index[-1]])\n"
   ]
  },
  {
   "attachments": {},
   "cell_type": "markdown",
   "metadata": {},
   "source": [
    "### 5. ¿En qué década se lanzaron la mayoría de las canciones?\n",
    "\n",
    "SUGERENCIA: Deberás encontrar el número total de canciones lanzadas en cada década y proceder a partir de ahí.\n",
    "\n",
    "NOTA: si tu respuesta es los 80, la respuesta debe ser 1980."
   ]
  },
  {
   "cell_type": "code",
   "execution_count": 49,
   "metadata": {},
   "outputs": [],
   "source": [
    "# tu código aquí\n",
    "year_series = df[\"year\"]\n",
    "start_on = df.iloc[year_series.sort_values().index[0]].year\n",
    "finish_on = df.iloc[year_series.sort_values().index[-1]].year\n",
    "decade_start = start_on//10*10\n",
    "decade_finish = finish_on//10*10\n",
    "most_songs_for_decade = 0\n",
    "while decade_start < decade_finish:\n",
    "    filter1 = df[\"year\"] >= decade_start\n",
    "    filter2 = df[\"year\"] < decade_start+10\n",
    "    #print(decade_start)\n",
    "    sum_decade = df[filter1 & filter2]\n",
    "    if most_songs_for_decade < len(sum_decade):\n",
    "        songs_for_decade = len(sum_decade)\n",
    "        decade_ear_it = decade_start\n",
    "    decade_start+=10\n",
    "    #print(len(sum_decade))\n",
    "    #print(decade_finish)\n",
    "#print(songs_for_decade)\n",
    "#print(decade_ear_it)\n",
    "answer5 = decade_ear_it\n"
   ]
  },
  {
   "cell_type": "code",
   "execution_count": 50,
   "metadata": {},
   "outputs": [
    {
     "name": "stdout",
     "output_type": "stream",
     "text": [
      "2010\n"
     ]
    }
   ],
   "source": [
    "#Echa un vistazo a tu respuesta para ver si tiene sentido\n",
    "print(answer5)\n"
   ]
  },
  {
   "attachments": {},
   "cell_type": "markdown",
   "metadata": {},
   "source": [
    "### 6. ¿Qué columna tiene datos faltantes?\n",
    "SUGERENCIA: Puedes revisar el metodo df.isnull() o df.isna()\n"
   ]
  },
  {
   "cell_type": "code",
   "execution_count": 81,
   "metadata": {},
   "outputs": [
    {
     "name": "stdout",
     "output_type": "stream",
     "text": [
      "name            0\n",
      "artist          0\n",
      "year            0\n",
      "duration_ms     0\n",
      "popularity      0\n",
      "energy          0\n",
      "danceability    0\n",
      "tempo           0\n",
      "dtype: int64\n"
     ]
    }
   ],
   "source": [
    "#tu código aquí\n",
    "nulls=df.isnull()\n",
    "nullsum = nulls.sum()\n",
    "print(nullsum)\n"
   ]
  },
  {
   "cell_type": "code",
   "execution_count": 82,
   "metadata": {},
   "outputs": [
    {
     "name": "stdout",
     "output_type": "stream",
     "text": [
      "name            0\n",
      "artist          0\n",
      "year            0\n",
      "duration_ms     0\n",
      "popularity      0\n",
      "energy          0\n",
      "danceability    0\n",
      "tempo           0\n",
      "dtype: int64\n"
     ]
    }
   ],
   "source": [
    "#Echa un vistazo a tu respuesta para ver si tiene sentido\n",
    "print(nullsum)\n"
   ]
  },
  {
   "attachments": {},
   "cell_type": "markdown",
   "metadata": {},
   "source": [
    "#### Elimina todos los valores faltantes para responder al siguiente conjunto de preguntas.\n",
    "\n",
    "Si el dataframe contiene valores faltantes, puedes eliminarlos utilizando el siguiente método:\n",
    "\n",
    "`df.dropna(inplace=True)`\n",
    "\n",
    "Este método busca elementos faltantes en el dataframe y, si encuentra alguno, elimina toda la fila correspondiente a la celda faltante.\n",
    "\n",
    "Puedes encontrar más información en la documentación \n",
    "[here](https://pandas.pydata.org/docs/reference/api/pandas.DataFrame.dropna.html#pandas.DataFrame.dropna)"
   ]
  },
  {
   "cell_type": "code",
   "execution_count": 83,
   "metadata": {},
   "outputs": [],
   "source": [
    "# tu código aquí\n",
    "df.dropna(inplace=True)"
   ]
  },
  {
   "attachments": {},
   "cell_type": "markdown",
   "metadata": {},
   "source": [
    "### 7. Analisis del tempo de las canciones\n",
    "\n",
    "Utilizar el comando `print(f\"...\")` donde corresponda para responder a las siguientes preguntas\n",
    "\n",
    "Para los artistas con una popularidad mayor a 8 y cuyas canciones han sido lanzadas despues del 2015, encontrar la siguiente informacion:\n",
    "\n",
    "- ¿Cuál es la canción más rápida en términos de tempo y en qué año fue lanzada?\n",
    "- ¿Cuál es la canción más lenta en términos de tempo y en qué año fue lanzada?\n",
    "- ¿Graficar el numero de canciones que fueron lanzadas por año y identificar cuál fue año con más canciones?\n"
   ]
  },
  {
   "cell_type": "code",
   "execution_count": 20,
   "metadata": {},
   "outputs": [],
   "source": [
    "# tu código aquí\n",
    "\n",
    "# answer7 = ___\n"
   ]
  },
  {
   "attachments": {},
   "cell_type": "markdown",
   "metadata": {},
   "source": [
    "### 8. Analisis del tiempo de duracion de las canciones\n",
    "Utilizar el comando `print(f\"...\")` para responder a las siguientes preguntas\n",
    "\n",
    "- ¿Cuál es la canción más larga en términos de duración en milisegundos y quién es el artista que la interpreta?\n",
    "\n",
    "- ¿Cuál es la canción más popular en términos de valor de popularidad y en qué año fue lanzada?"
   ]
  },
  {
   "cell_type": "code",
   "execution_count": 21,
   "metadata": {},
   "outputs": [],
   "source": [
    "#tu código aquí\n",
    "\n",
    "# answer8 = ___\n",
    "\n"
   ]
  },
  {
   "attachments": {},
   "cell_type": "markdown",
   "metadata": {},
   "source": [
    "### 9. ¿Cuál es la canción más enérgica de Michael Jackson?"
   ]
  },
  {
   "cell_type": "code",
   "execution_count": 22,
   "metadata": {},
   "outputs": [],
   "source": [
    "#tu código aquí\n",
    "answer9 = ___"
   ]
  },
  {
   "attachments": {},
   "cell_type": "markdown",
   "metadata": {},
   "source": [
    "### 10 ¿Qué artista ha lanzado la mayor cantidad de canciones desde 1960?\n"
   ]
  },
  {
   "cell_type": "code",
   "execution_count": 23,
   "metadata": {},
   "outputs": [],
   "source": [
    "# tu código aquí\n"
   ]
  },
  {
   "attachments": {},
   "cell_type": "markdown",
   "metadata": {},
   "source": [
    "### 11 Para el artista de la pregunta anterior, ¿cuál es la canción más popular?"
   ]
  },
  {
   "cell_type": "code",
   "execution_count": 24,
   "metadata": {},
   "outputs": [],
   "source": [
    "# tu código aquí\n",
    "answer11 = ___"
   ]
  },
  {
   "attachments": {},
   "cell_type": "markdown",
   "metadata": {},
   "source": [
    "### 12. Crear un playlist con las canciones mas populares\n",
    "\n",
    "Crea una `lista` de reproducción con la canción más popular de cada año desde 1980 hasta 2020.\n",
    "\n",
    "El resultado debe ser de tipo List con 41 valores de tipo str (una canción para cada año)\n",
    "p.ej. ['cancion1', 'cancion2', 'cancion3', ...]\n",
    "NOTA: En caso de empates, elige la canción con el valor más alto de energy."
   ]
  },
  {
   "cell_type": "code",
   "execution_count": 25,
   "metadata": {},
   "outputs": [],
   "source": [
    "# tu código aquí\n",
    "answer_12 = ___"
   ]
  },
  {
   "attachments": {},
   "cell_type": "markdown",
   "metadata": {},
   "source": [
    "### 13 ¿Cómo se distribuye la popularidad de las canciones en forma de histograma?\n",
    "Crea un grafico para responder esta pregunta\n"
   ]
  },
  {
   "cell_type": "code",
   "execution_count": 26,
   "metadata": {},
   "outputs": [],
   "source": [
    "# tu código aquí\n",
    "..."
   ]
  },
  {
   "attachments": {},
   "cell_type": "markdown",
   "metadata": {},
   "source": [
    "### 14 ¿existe una correlación entre la duración de las canciones y su nivel de energía? Representa esta relación en un scatter plot.\n",
    "Crea un grafico para responder esta pregunta"
   ]
  },
  {
   "cell_type": "code",
   "execution_count": 27,
   "metadata": {},
   "outputs": [],
   "source": [
    "# tu código aquí\n",
    "..."
   ]
  },
  {
   "attachments": {},
   "cell_type": "markdown",
   "metadata": {},
   "source": [
    "### 15 ¿Cuál es la distribución de la danceability de las canciones en función del año de lanzamiento? \n",
    "Crea un gráfico de barras para mostrar esta distribución."
   ]
  },
  {
   "cell_type": "code",
   "execution_count": 28,
   "metadata": {},
   "outputs": [],
   "source": [
    "# tu código aquí\n",
    "..."
   ]
  },
  {
   "attachments": {},
   "cell_type": "markdown",
   "metadata": {},
   "source": [
    "### 16 ¿Cómo varía el tempo de las canciones a lo largo de los años?\n",
    "Representa esta variación utilizando un gráfico de línea.\n"
   ]
  },
  {
   "cell_type": "code",
   "execution_count": null,
   "metadata": {},
   "outputs": [],
   "source": []
  },
  {
   "cell_type": "code",
   "execution_count": 29,
   "metadata": {},
   "outputs": [],
   "source": [
    "# tu código aquí\n",
    "..."
   ]
  },
  {
   "attachments": {},
   "cell_type": "markdown",
   "metadata": {},
   "source": [
    "### 17 ¿Cuál es la relación entre la popularidad y la energía de las canciones?\n",
    "Crea un scatter plot para visualizar esta relación.\n"
   ]
  },
  {
   "cell_type": "code",
   "execution_count": 30,
   "metadata": {},
   "outputs": [],
   "source": [
    "# tu código aquí\n",
    "..."
   ]
  },
  {
   "attachments": {},
   "cell_type": "markdown",
   "metadata": {},
   "source": [
    "### 18 ¿Cuál es la tendencia de cambio en la duración de las canciones a lo largo de los años? \n",
    "Utiliza un gráfico de línea para mostrar esta tendencia."
   ]
  },
  {
   "cell_type": "code",
   "execution_count": 31,
   "metadata": {},
   "outputs": [],
   "source": [
    "# tu código aquí\n",
    "..."
   ]
  },
  {
   "attachments": {},
   "cell_type": "markdown",
   "metadata": {},
   "source": [
    "### 19  ¿Cuál es la energía promedio de todas las canciones de 'Michael Jackson'?\n",
    "Para obtener el promedio de los valores en una columna de tipo numerico, puede utilizar el metodo\n",
    "\n",
    "`df[\"nombre de la columna\"].mean()`"
   ]
  },
  {
   "cell_type": "code",
   "execution_count": 32,
   "metadata": {},
   "outputs": [],
   "source": [
    "# tu código aquí\n",
    "..."
   ]
  },
  {
   "attachments": {},
   "cell_type": "markdown",
   "metadata": {},
   "source": [
    "### 20 ¿Cuántos artistas únicos están representados en el dataframe?\n",
    "Para contar los elementos unicos en un dataframe puedes utilizar el metodo:\n",
    "\n",
    "`df[\"nombre de la columna\"].unique()`\n"
   ]
  },
  {
   "cell_type": "code",
   "execution_count": 33,
   "metadata": {},
   "outputs": [],
   "source": [
    "# tu código aquí\n",
    "..."
   ]
  }
 ],
 "metadata": {
  "kernelspec": {
   "display_name": "Python 3.10.4 64-bit",
   "language": "python",
   "name": "python3"
  },
  "language_info": {
   "codemirror_mode": {
    "name": "ipython",
    "version": 3
   },
   "file_extension": ".py",
   "mimetype": "text/x-python",
   "name": "python",
   "nbconvert_exporter": "python",
   "pygments_lexer": "ipython3",
   "version": "3.11.4"
  },
  "orig_nbformat": 4,
  "vscode": {
   "interpreter": {
    "hash": "f66e3edf856e3e4a3652763ddb6c2ab1c25665e5b9e1fed087bb1a040433f3bb"
   }
  }
 },
 "nbformat": 4,
 "nbformat_minor": 2
}

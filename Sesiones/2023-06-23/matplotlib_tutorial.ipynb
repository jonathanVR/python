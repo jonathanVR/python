{
    "cells": [
        {
            "attachments": {},
            "cell_type": "markdown",
            "metadata": {},
            "source": [
                "# **Matplotlib**\n",
                "\n",
                "Matplotlib es una biblioteca completa para crear visualizaciones estáticas, animadas e interactivas en Python.\n",
                "\n",
                "Es una de las bibliotecas de trazado más populares para Python, funciona muy bien con Pandas y Numpy, altamente personalizable.\n",
                "\n",
                "Al igual que Numpy y Pandas, Matplotlib es una biblioteca de terceros. Puede instalar Matplotlib en su sistema local usando `pip`.\n",
                "\n",
                "`pip install matplotlib` , más sobre esto [here](https://matplotlib.org/stable/users/installing/index.html)."
            ]
        },
        {
            "cell_type": "code",
            "execution_count": 1,
            "metadata": {},
            "outputs": [],
            "source": [
                "# Importación de bibliotecas necesarias\n",
                "\n",
                "import matplotlib.pyplot as plt \n",
                "import numpy as np\n",
                "import pandas as pd\n",
                "\n",
                "%matplotlib inline"
            ]
        },
        {
            "attachments": {},
            "cell_type": "markdown",
            "metadata": {},
            "source": [
                "De acuerdo con la [Matplotlib documentation](https://matplotlib.org/stable/tutorials/introductory/usage.html#coding-styles), hay 2 formas de usar Matplotlib:\n",
                "- Crear explícitamente figuras y ejes, y directamente llame a métodos sobre ellos (the \"object-oriented (OO) style\").\n",
                "- Utilizar directamente pyplot para crear y administrar automáticamente las figuras y los ejes, y usar las funciones de pyplot para trazar.\n",
                "\n",
                "Sin embargo, la documentación sugiere usar el estilo OO, particularmente para graficas complicadas y funciones y scripts que están destinados a ser reutilizados como parte de un proyecto más grande. El estilo pyplot puede ser conveniente para un trabajo interactivo rápido"
            ]
        },
        {
            "attachments": {},
            "cell_type": "markdown",
            "metadata": {},
            "source": [
                "## **Part 1: Llamar a funciones en el módulo pyplot (sin utilizar el  the OOP método)**"
            ]
        },
        {
            "attachments": {},
            "cell_type": "markdown",
            "metadata": {},
            "source": [
                "### 1.1 Line plot"
            ]
        },
        {
            "cell_type": "code",
            "execution_count": 2,
            "metadata": {},
            "outputs": [
                {
                    "data": {
                        "text/plain": [
                            "array([ 0,  1,  2,  3,  4,  5,  6,  7,  8,  9, 10])"
                        ]
                    },
                    "execution_count": 2,
                    "metadata": {},
                    "output_type": "execute_result"
                }
            ],
            "source": [
                "# Tracemos primero un grafica simple tipo line plop\n",
                "\n",
                "# Crear un lista de 0 a 9 \n",
                "# https://numpy.org/doc/stable/reference/generated/numpy.arange.html\n",
                "x = np.arange(11)\n",
                "x"
            ]
        },
        {
            "cell_type": "code",
            "execution_count": 7,
            "metadata": {},
            "outputs": [
                {
                    "data": {
                        "text/plain": [
                            "array([ 0,  5, 10, 15, 20, 25, 30, 35, 40, 45, 50])"
                        ]
                    },
                    "execution_count": 7,
                    "metadata": {},
                    "output_type": "execute_result"
                }
            ],
            "source": [
                "# multiplicar la lista por 5\n",
                "y = x * 5\n",
                "y"
            ]
        },
        {
            "cell_type": "code",
            "execution_count": 6,
            "metadata": {},
            "outputs": [
                {
                    "data": {
                        "text/plain": [
                            "[<matplotlib.lines.Line2D at 0x23afea5ad50>]"
                        ]
                    },
                    "execution_count": 6,
                    "metadata": {},
                    "output_type": "execute_result"
                },
                {
                    "data": {
                        "image/png": "[encoded data removed]",
                        "text/plain": [
                            "<Figure size 640x480 with 1 Axes>"
                        ]
                    },
                    "metadata": {},
                    "output_type": "display_data"
                }
            ],
            "source": [
                "# Trazar un gráfico rápido\n",
                "plt.plot(x, y)"
            ]
        },
        {
            "attachments": {},
            "cell_type": "markdown",
            "metadata": {},
            "source": [
                "¿Cómo podemos hacer que esta gráfico sea mejor y más personalizada?"
            ]
        },
        {
            "attachments": {},
            "cell_type": "markdown",
            "metadata": {},
            "source": [
                "![Anatomy of a plot](https://i.ibb.co/p0kx3c1/anatomy-plot.png)\n",
                "     "
            ]
        },
        {
            "attachments": {},
            "cell_type": "markdown",
            "metadata": {},
            "source": [
                "- Podemos agregar título, rotulo al eje x y eje y, leyenda y otras personalizaciones (colores, estilos de línea, estilos de marcador, orientación, cuadrícula y muchos más). La documentación es tu amiga, Matplotlib tiene una documentación muy bien escrita con muchos ejemplos.\n",
                "\n",
                "Un par de ejemplos:\n",
                "\n",
                "- [colors](https://matplotlib.org/stable/gallery/color/named_colors.html)\n",
                "- [marker styles](https://matplotlib.org/stable/gallery/lines_bars_and_markers/marker_reference.html)\n",
                "- [grid customization](https://matplotlib.org/stable/api/_as_gen/matplotlib.pyplot.grid.html)"
            ]
        },
        {
            "cell_type": "code",
            "execution_count": null,
            "metadata": {},
            "outputs": [],
            "source": [
                "# Mejor gráfico\n",
                "plt.figure(figsize=(8, 5))\n",
                "plt.plot(x, y, label=\"y = 5x\", color='y', marker='o', markeredgecolor='k')\n",
                "# Superposición de datos adicionales en el mismo gráfico\n",
                "y_add = -y + 50\n",
                "plt.plot(x, y_add, label=\"y = -5x + 50\", color=\"blue\", marker='D', markeredgecolor='k')\n",
                "# Agregar el título de la gráfico al personalizar colores y estilos\n",
                "plt.title(\"Plotting a function y = 5x and $y = -5x + 50$\", fontsize='20')\n",
                "# Rotulando los ejes x e y \n",
                "plt.xlabel(\"x value\", fontsize='12')\n",
                "plt.ylabel(\"y value\", fontsize='12')\n",
                "# Agregar la leyenda, otras opciones de ubicación: 'mejor', 'superior izquierda', 'inferior izquierda', 'inferior derecha'\n",
                "plt.legend(loc=\"best\")\n",
                "# Agregar una cuadrícula, podría ser solo vertical o solo horizontal\n",
                "plt.grid(alpha=0.5)\n",
                "# Personalización de los valores de marca en los ejes x e y\n",
                "plt.xticks(ticks=x)\n",
                "plt.yticks(ticks=y)\n",
                "# Para no mostrar la información adicional\n",
                "plt.show()"
            ]
        },
        {
            "attachments": {},
            "cell_type": "markdown",
            "metadata": {},
            "source": [
                "### 1.2 Scatter plot"
            ]
        },
        {
            "cell_type": "code",
            "execution_count": null,
            "metadata": {},
            "outputs": [],
            "source": [
                "# Tracemos scatter plot\n",
                "\n",
                "# Generar de 500 números aleatorios a partir de una distribución normal estándar\n",
                "x=np.random.randn(500)\n",
                "y=np.random.randn(500)\n",
                "\n",
                "# Se puede especificar la palabra clave 'figsize' en plt.figure() para cambiar el tamaño de la figura\n",
                "plt.figure(figsize=(10,8))\n",
                "\n",
                "# Usar plt.scatter para graficar scatter plot\n",
                "# Puede especificar palabras clave: 'c' o 'color' para especificar el color, podría estar en hexadecimal \n",
                "# 's' para especificar el tamaño del marcador, 'marker' para especificar el tipo de marcador\n",
                "plt.scatter(x,y, label='scatter plot', color='#711cfc', s=10, marker= 'o')\n",
                "\n",
                "plt.xlabel('x')\n",
                "plt.ylabel('y')\n",
                "\n",
                "plt.legend()\n",
                "\n",
                "plt.title('Plotting scatter plot')\n",
                "\n",
                "plt.show()"
            ]
        },
        {
            "attachments": {},
            "cell_type": "markdown",
            "metadata": {},
            "source": [
                "### 1.3 Histogram"
            ]
        },
        {
            "cell_type": "code",
            "execution_count": null,
            "metadata": {},
            "outputs": [],
            "source": [
                "# Leamos los datos de 'mini_cast.zip' en un dataframe\n",
                "df = pd.read_csv('mini_cast.zip')\n",
                "# Mire las primeras 5 filas de la dataframe\n",
                "df.head()"
            ]
        },
        {
            "cell_type": "code",
            "execution_count": null,
            "metadata": {},
            "outputs": [],
            "source": [
                "# Tracemos un histogram de años en esto dataframe.\n",
                "# Además de matrices numpy, también puede usar series de pandas, listas de Python para trazar.\n",
                "\n",
                "plt.figure(figsize=(10,6))\n",
                "plt.hist(df['year'].values.tolist(), color='gold', edgecolor='k', bins=15)\n",
                "\n",
                "plt.xlabel('Year', fontsize=14)\n",
                "plt.ylabel('Frequency', fontsize=14)\n",
                "\n",
                "plt.title('Histogram of year', fontsize=18)\n",
                "plt.show()"
            ]
        },
        {
            "attachments": {},
            "cell_type": "markdown",
            "metadata": {},
            "source": [
                "## **Parte 2: Object oriented (OOP) method**"
            ]
        },
        {
            "attachments": {},
            "cell_type": "markdown",
            "metadata": {},
            "source": [
                "**Figure** - una clase que representa la figura completa. La figura realiza un seguimiento de todos los ejes secundarios.\n",
                "\n",
                "**Axes** - una clase adjunta a una ```Figura``` que contiene una región para graficar datos, y normalmente incluye dos (o tres en el caso de 3D) objetos ```Axis```.\n",
                "\n",
                "**Axis** - una clase que establece la escala y los límites y genera ticks (las marcas en el eje) y ticklabels (cadenas que etiquetan los ticks).\n",
                "\n",
                "Más sobre las clases utilizadas [here](https://matplotlib.org/stable/tutorials/introductory/usage.html#parts-of-a-figure)."
            ]
        },
        {
            "attachments": {},
            "cell_type": "markdown",
            "metadata": {},
            "source": [
                "<p style=\"text-align: center;\">Anatomy of Figure and Axes</p>\n",
                "\n",
                "![Anatomy of figure and axes](https://i.ibb.co/cxWrsjq/anatomy-subplots-1.jpg)"
            ]
        },
        {
            "attachments": {},
            "cell_type": "markdown",
            "metadata": {},
            "source": [
                "### 2.1 Line plot (usando el metodo OOP )\n",
                "\n",
                "Vamos a replicar exactamente lo mismo que hicimos en 1.1 pero ahora llamando explícitamente a los objetos."
            ]
        },
        {
            "cell_type": "code",
            "execution_count": null,
            "metadata": {},
            "outputs": [],
            "source": [
                "# Una de las formas de trabajar con la clases de Figure y Axes  es crear un Figure object,\n",
                "# y luego crear objetos Axes a partir de él.\n",
                "\n",
                "# Crear Figure object\n",
                "fig = plt.figure()\n",
                "\n",
                "# Imprimir el tipo de fig\n",
                "print(type(fig))"
            ]
        },
        {
            "cell_type": "code",
            "execution_count": null,
            "metadata": {},
            "outputs": [],
            "source": [
                "# Crear Figure object de un tamaño personalizado (ancho, alto) en pulgadas.\n",
                "# https://matplotlib.org/stable/api/_as_gen/matplotlib.pyplot.figure.html\n",
                "fig = plt.figure(figsize=(4, 3))\n",
                "\n",
                "x = np.arange(1,11,1)\n",
                "y = x * 5\n",
                "\n",
                "# Ahora podemos agregar Axes al objeto Figure.\n",
                "# Las dimensiones [izquierda, abajo, ancho, alto] del nuevo Axes. \n",
                "# Todas las cantidades están en fracciones del ancho y alto de la figura.\n",
                "ax2 = fig.add_axes([0, 0, 1, 1])\n",
                "ax1 = fig.add_axes([0, 1, 1, 1])\n",
                "\n",
                "# Plot() es un método en la clase Axes que se utiliza para trazar nuestros datos\n",
                "ax1.plot(x, y, label='Function y = 5x')\n",
                "\n",
                "# Etioquetando los ejes x e y \n",
                "ax1.set_xlabel('x value')\n",
                "ax1.set_ylabel('y value')\n",
                "\n",
                "# Poniendo un título a nuestra figura\n",
                "ax1.set_title('Plotting a function y=5x')\n",
                "\n",
                "plt.show()"
            ]
        },
        {
            "attachments": {},
            "cell_type": "markdown",
            "metadata": {},
            "source": [
                "#### **¿Has notado algo diferente en los métodos 1.1 y 1.2?**\n",
                "> ATTN: Los métodos Figure son diferentes de los métodos Axes! Por lo general, los métodos Axes tendrían *\"set_\"* delante del método Figure equivalente.\n",
                "\n",
                "Ejemplos:\n",
                "\n",
                "```fig.xlabel()``` vs ```ax.set_xlabel()```\n",
                "\n",
                "```fig.title()``` vs ```ax.set_title()```"
            ]
        },
        {
            "attachments": {},
            "cell_type": "markdown",
            "metadata": {},
            "source": [
                "## **Parte 3: Subgraficos**"
            ]
        },
        {
            "cell_type": "code",
            "execution_count": null,
            "metadata": {},
            "outputs": [],
            "source": [
                "# Alternativamente, podemos crear los objetos Figure y Axes simultáneamente.\n",
                "# https://matplotlib.org/stable/tutorials/introductory/usage.html#figure\n",
                "fig, ax = plt.subplots()  # a figure with a single Axes"
            ]
        },
        {
            "cell_type": "code",
            "execution_count": null,
            "metadata": {},
            "outputs": [],
            "source": [
                "# Creación de múltiples ejes en la figura.\n",
                "fig, ax = plt.subplots(nrows=2, ncols=2)\n",
                "\n",
                "# Imprimamos los tipos de fig y ax devueltos por plt.subplots()\n",
                "print(f'The type of fig is {type(fig)}')\n",
                "print(f'The type of ax is {type(ax)} \\n')\n",
                "\n",
                "print(ax)"
            ]
        },
        {
            "attachments": {},
            "cell_type": "markdown",
            "metadata": {},
            "source": [
                "* Podemos ver que cuando creamos varios ejes en la misma figura, plt.subplots devuelve el objeto de la figura actual y una numpy array de objetos de ejes, cada uno correspondiente a cada eje (subgrafica).\n",
                "* Aquí, las gráficos están vacíos porque no hemos trazado nada en los ejes.."
            ]
        },
        {
            "cell_type": "code",
            "execution_count": null,
            "metadata": {},
            "outputs": [],
            "source": [
                "# Vamos a trazar lo mismo y=x**2 y y=x**3 en diferentes gráficos en la misma figura.\n",
                "\n",
                "# Generar 200 puntos uniformemente espaciados entre -2 y 2\n",
                "# start, stop(including!), number \n",
                "x = np.linspace(-2,2,200)\n",
                "\n",
                "y_2 = x**2\n",
                "y_3 = x**3\n",
                "\n",
                "fig, ax = plt.subplots(nrows=1,ncols=2, figsize=(12,5))\n",
                "\n",
                "# Accedemos a los primeros ejes usando ax[0]\n",
                "# Trazar y=x**2 on the first axes\n",
                "ax[0].plot(x,y_2, label='$y=x^2$')\n",
                "\n",
                "# Cada eje tiene su propio rotulo, titulo, leyenda.\n",
                "ax[0].set_xlabel('x')\n",
                "ax[0].set_ylabel('y')\n",
                "\n",
                "ax[0].legend(loc='upper center')\n",
                "ax[0].set_title('Plot of $Y=X^2$')\n",
                "\n",
                "\n",
                "# Trazar y=x**3 sobre el segudno eje\n",
                "ax[1].plot(x,y_3, label='$y=x^3$', color='orange')\n",
                "\n",
                "ax[1].set_xlabel('x')\n",
                "ax[1].set_ylabel('y')\n",
                "\n",
                "ax[1].legend(loc='upper center')\n",
                "ax[1].set_title('Plot of $y=x^3$')\n",
                "\n",
                "#Podemos titular toda la figura usando fig.suptitle()\n",
                "fig.suptitle('Plots of both $y=x^2$ and $y=x^3$ on different axes', fontsize=15)\n",
                "\n",
                "# Puede guardar sus figuras/gráficos usando plt.savefig()\n",
                "plt.savefig('plot_x_x2.jpg', dpi=150)\n",
                "\n",
                "plt.show()"
            ]
        },
        {
            "attachments": {},
            "cell_type": "markdown",
            "metadata": {},
            "source": [
                "#### Usar ax.ravel() para aplanar la matriz de ejes\n",
                "Como vimos arriba, los ejes están formando una matriz, también conocida como matriz 2D. Podemos \"aplanarlo\" para facilitar el trazado."
            ]
        },
        {
            "cell_type": "code",
            "execution_count": null,
            "metadata": {},
            "outputs": [],
            "source": [
                "# Conceptual check\n",
                "array_2D = np.arange(9).reshape((3, 3))\n",
                "array_2D"
            ]
        },
        {
            "cell_type": "code",
            "execution_count": null,
            "metadata": {},
            "outputs": [],
            "source": [
                "array_2D.ravel()"
            ]
        },
        {
            "cell_type": "code",
            "execution_count": null,
            "metadata": {},
            "outputs": [],
            "source": [
                "array_2D.flat"
            ]
        },
        {
            "cell_type": "code",
            "execution_count": null,
            "metadata": {},
            "outputs": [],
            "source": [
                "list(array_2D.flat)"
            ]
        },
        {
            "attachments": {},
            "cell_type": "markdown",
            "id": "6115f2c1",
            "metadata": {},
            "source": [
                "Cuando se trabaja con Axes, ```ax.ravel()``` hace lo mismo con la matriz 2D de Axes:"
            ]
        },
        {
            "cell_type": "code",
            "execution_count": null,
            "metadata": {},
            "outputs": [],
            "source": [
                "# Tracemos 5 y=x**k desde k=1 a 5 usando subplots\n",
                "\n",
                "x=np.linspace(-1,1,100)\n",
                "\n",
                "fig, axes = plt.subplots(ncols=3, nrows=2, figsize=(15, 8))\n",
                "fig.tight_layout(pad=5)\n",
                "# Vamos a colorear cada gráfico de manera diferente.\n",
                "colors_list=['r','g','b','orange','grey']\n",
                "\n",
                "\n",
                "# Para i, ax en  enumerate(axes.ravel()[:5]):\n",
                "for i in range(5):\n",
                "    ax = axes.ravel()[i]\n",
                "    ax.plot(x, x**(i+1), color=colors_list[i])\n",
                "    ax.set_xlabel('x')\n",
                "    ax.set_ylabel('y')\n",
                "    ax.set_title(f'$y=x^{i+1}$')\n",
                "\n",
                "fig.suptitle(f'Plots of $y=x^k$, with k from 1 to 5', fontsize=15)\n",
                "plt.show()"
            ]
        },
        {
            "attachments": {},
            "cell_type": "markdown",
            "metadata": {},
            "source": [
                "Podemos ver que los últimos axes se dejan vacíos pero los ejes aún están presentes. (No confunda axes con axis) /n Podemos evitar esto usando plt.subplot en su lugar."
            ]
        },
        {
            "attachments": {},
            "cell_type": "markdown",
            "metadata": {},
            "source": [
                "## **Parte 4: Subplot**"
            ]
        },
        {
            "cell_type": "code",
            "execution_count": null,
            "metadata": {},
            "outputs": [],
            "source": [
                "fig=plt.figure(figsize=(15, 8))\n",
                "\n",
                "\n",
                "for i in range(5):\n",
                "    # siendo un ejemplo intuitivo\n",
                "    # cuando i = 1\n",
                "    # Tenemos ax = plt.subplot(232), 2 filas, 3 columnas y 2da posición\n",
                "    ax=plt.subplot(230 + i + 1) # 2 rows 3 columns and ith index\n",
                "    ax.plot(x, x ** (i+1), color=colors_list[i])\n",
                "    ax.set_xlabel('x')\n",
                "    ax.set_ylabel('y')\n",
                "    ax.set_title(f'$y=x^{i+1}$')\n",
                "\n",
                "fig.tight_layout(pad=5)\n",
                "fig.suptitle('Plots of $y=x^k$, with k from 1 to 5', fontsize=15)\n",
                "plt.show()"
            ]
        },
        {
            "attachments": {},
            "cell_type": "markdown",
            "metadata": {},
            "source": [
                "La principal diferencia entre plt.subplot y plt.subplots es que plt.subplots crea primero todos los ejes y los dibuja, mientras que plt.subplot crea cada uno sobre la marcha."
            ]
        },
        {
            "attachments": {},
            "cell_type": "markdown",
            "metadata": {},
            "source": [
                "# 📊 Exploracion de datos utilizando Seaborn (sns) 🎨\n",
                "\n",
                "Seaborn: High-level plotting with dataframes\n",
                "\n",
                "`Seaborn` es una biblioteca de alto nivel basada en `Matplotlib` que presenta formas más fáciles de trazar hermosas figuras usando `pandas.DataFrame`. Es compatible con `Matplotlib`, por lo que es posible modificar aún más los detalles utilizando este último.\n"
            ]
        },
        {
            "attachments": {},
            "cell_type": "markdown",
            "id": "51548488",
            "metadata": {},
            "source": [
                "Seaborn (sns) es una biblioteca de visualización de datos en Python que ofrece una interfaz de alto nivel para crear gráficos atractivos y informativos. Con Seaborn, puedes crear rápidamente visualizaciones sofisticadas, como gráficos de dispersión, gráficos de barras, histogramas, gráficos de caja y mucho más. Además, Seaborn proporciona una amplia gama de opciones de personalización para adaptar tus gráficos a tus necesidades. Para obtener más información y explorar todas las características de Seaborn, visita la documentación oficial en este enlace."
            ]
        },
        {
            "cell_type": "code",
            "execution_count": 1,
            "metadata": {},
            "outputs": [
                {
                    "data": {
                        "text/html": [
                            "<div>\n",
                            "<style scoped>\n",
                            "    .dataframe tbody tr th:only-of-type {\n",
                            "        vertical-align: middle;\n",
                            "    }\n",
                            "\n",
                            "    .dataframe tbody tr th {\n",
                            "        vertical-align: top;\n",
                            "    }\n",
                            "\n",
                            "    .dataframe thead th {\n",
                            "        text-align: right;\n",
                            "    }\n",
                            "</style>\n",
                            "<table border=\"1\" class=\"dataframe\">\n",
                            "  <thead>\n",
                            "    <tr style=\"text-align: right;\">\n",
                            "      <th></th>\n",
                            "      <th>total_bill</th>\n",
                            "      <th>tip</th>\n",
                            "      <th>sex</th>\n",
                            "      <th>smoker</th>\n",
                            "      <th>day</th>\n",
                            "      <th>time</th>\n",
                            "      <th>size</th>\n",
                            "    </tr>\n",
                            "  </thead>\n",
                            "  <tbody>\n",
                            "    <tr>\n",
                            "      <th>0</th>\n",
                            "      <td>16.99</td>\n",
                            "      <td>1.01</td>\n",
                            "      <td>Female</td>\n",
                            "      <td>No</td>\n",
                            "      <td>Sun</td>\n",
                            "      <td>Dinner</td>\n",
                            "      <td>2</td>\n",
                            "    </tr>\n",
                            "    <tr>\n",
                            "      <th>1</th>\n",
                            "      <td>10.34</td>\n",
                            "      <td>1.66</td>\n",
                            "      <td>Male</td>\n",
                            "      <td>No</td>\n",
                            "      <td>Sun</td>\n",
                            "      <td>Dinner</td>\n",
                            "      <td>3</td>\n",
                            "    </tr>\n",
                            "    <tr>\n",
                            "      <th>2</th>\n",
                            "      <td>21.01</td>\n",
                            "      <td>3.50</td>\n",
                            "      <td>Male</td>\n",
                            "      <td>No</td>\n",
                            "      <td>Sun</td>\n",
                            "      <td>Dinner</td>\n",
                            "      <td>3</td>\n",
                            "    </tr>\n",
                            "    <tr>\n",
                            "      <th>3</th>\n",
                            "      <td>23.68</td>\n",
                            "      <td>3.31</td>\n",
                            "      <td>Male</td>\n",
                            "      <td>No</td>\n",
                            "      <td>Sun</td>\n",
                            "      <td>Dinner</td>\n",
                            "      <td>2</td>\n",
                            "    </tr>\n",
                            "    <tr>\n",
                            "      <th>4</th>\n",
                            "      <td>24.59</td>\n",
                            "      <td>3.61</td>\n",
                            "      <td>Female</td>\n",
                            "      <td>No</td>\n",
                            "      <td>Sun</td>\n",
                            "      <td>Dinner</td>\n",
                            "      <td>4</td>\n",
                            "    </tr>\n",
                            "  </tbody>\n",
                            "</table>\n",
                            "</div>"
                        ],
                        "text/plain": [
                            "   total_bill   tip     sex smoker  day    time  size\n",
                            "0       16.99  1.01  Female     No  Sun  Dinner     2\n",
                            "1       10.34  1.66    Male     No  Sun  Dinner     3\n",
                            "2       21.01  3.50    Male     No  Sun  Dinner     3\n",
                            "3       23.68  3.31    Male     No  Sun  Dinner     2\n",
                            "4       24.59  3.61  Female     No  Sun  Dinner     4"
                        ]
                    },
                    "execution_count": 1,
                    "metadata": {},
                    "output_type": "execute_result"
                }
            ],
            "source": [
                "import seaborn as sns\n",
                "\n",
                "# Cargar un dataset incorporado en Seaborn\n",
                "dataset = sns.load_dataset(\"tips\")\n",
                "\n",
                "# Visualizar los primeros registros del dataset\n",
                "dataset.head()\n"
            ]
        },
        {
            "cell_type": "code",
            "execution_count": 8,
            "id": "1b05a0ef",
            "metadata": {},
            "outputs": [
                {
                    "data": {
                        "text/plain": [
                            "<Axes: xlabel='total_bill', ylabel='tip'>"
                        ]
                    },
                    "execution_count": 8,
                    "metadata": {},
                    "output_type": "execute_result"
                },
                {
                    "data": {
                        "image/png": "[encoded data removed]",
                        "text/plain": [
                            "<Figure size 432x288 with 1 Axes>"
                        ]
                    },
                    "metadata": {},
                    "output_type": "display_data"
                }
            ],
            "source": [
                "# # Personalizar el estilo de los gráficos con Seaborn\n",
                "# sns.set_style(\"whitegrid\")\n",
                "# sns.set_palette(\"pastel\")\n"
            ]
        },
        {
            "cell_type": "code",
            "execution_count": null,
            "id": "b570b2b8",
            "metadata": {},
            "outputs": [],
            "source": [
                "\n",
                "# Crear un gráfico de dispersión (scatter plot) con regresión lineal\n",
                "sns.regplot(x=\"total_bill\", y=\"tip\", data=dataset)\n"
            ]
        },
        {
            "cell_type": "code",
            "execution_count": 9,
            "id": "3f68f351",
            "metadata": {},
            "outputs": [
                {
                    "data": {
                        "text/plain": [
                            "<Axes: xlabel='day', ylabel='tip'>"
                        ]
                    },
                    "execution_count": 9,
                    "metadata": {},
                    "output_type": "execute_result"
                },
                {
                    "data": {
                        "image/png": "[encoded data removed]",
                        "text/plain": [
                            "<Figure size 432x288 with 1 Axes>"
                        ]
                    },
                    "metadata": {},
                    "output_type": "display_data"
                }
            ],
            "source": [
                "\n",
                "# Crear un gráfico de barras (bar plot) de promedio de propinas por día\n",
                "sns.barplot(x=\"day\", y=\"tip\", data=dataset)\n"
            ]
        },
        {
            "cell_type": "code",
            "execution_count": 10,
            "id": "1d2f34b2",
            "metadata": {},
            "outputs": [
                {
                    "data": {
                        "text/plain": [
                            "<Axes: xlabel='total_bill', ylabel='Count'>"
                        ]
                    },
                    "execution_count": 10,
                    "metadata": {},
                    "output_type": "execute_result"
                },
                {
                    "data": {
                        "image/png": "[encoded data removed]",
                        "text/plain": [
                            "<Figure size 432x288 with 1 Axes>"
                        ]
                    },
                    "metadata": {},
                    "output_type": "display_data"
                }
            ],
            "source": [
                "\n",
                "# Crear un histograma (histogram plot) de la distribución de total_bill\n",
                "sns.histplot(data=dataset, x=\"total_bill\", kde=True)\n"
            ]
        },
        {
            "cell_type": "code",
            "execution_count": 11,
            "id": "5e6df491",
            "metadata": {},
            "outputs": [
                {
                    "data": {
                        "text/plain": [
                            "<Axes: xlabel='day', ylabel='tip'>"
                        ]
                    },
                    "execution_count": 11,
                    "metadata": {},
                    "output_type": "execute_result"
                },
                {
                    "data": {
                        "image/png": "[encoded data removed]",
                        "text/plain": [
                            "<Figure size 432x288 with 1 Axes>"
                        ]
                    },
                    "metadata": {},
                    "output_type": "display_data"
                }
            ],
            "source": [
                "\n",
                "# Crear un gráfico de caja (box plot) de las propinas según el día de la semana\n",
                "sns.boxplot(x=\"day\", y=\"tip\", data=dataset)\n"
            ]
        },
        {
            "cell_type": "code",
            "execution_count": 12,
            "id": "be6c4f52",
            "metadata": {},
            "outputs": [
                {
                    "name": "stderr",
                    "output_type": "stream",
                    "text": [
                        "C:\\Users\\Hugo Condori\\AppData\\Local\\Temp\\ipykernel_22056\\3331364450.py:2: FutureWarning: The default value of numeric_only in DataFrame.corr is deprecated. In a future version, it will default to False. Select only valid columns or specify the value of numeric_only to silence this warning.\n",
                        "  correlation_matrix = dataset.corr()\n"
                    ]
                },
                {
                    "data": {
                        "text/plain": [
                            "<Axes: >"
                        ]
                    },
                    "execution_count": 12,
                    "metadata": {},
                    "output_type": "execute_result"
                },
                {
                    "data": {
                        "image/png": "[encoded data removed]",
                        "text/plain": [
                            "<Figure size 432x288 with 2 Axes>"
                        ]
                    },
                    "metadata": {},
                    "output_type": "display_data"
                }
            ],
            "source": [
                "\n",
                "# Crear un mapa de calor (heatmap) para visualizar la correlación entre variables\n",
                "correlation_matrix = dataset.corr()\n",
                "sns.heatmap(correlation_matrix, annot=True)\n"
            ]
        },
        {
            "cell_type": "code",
            "execution_count": 7,
            "id": "83e78d38",
            "metadata": {},
            "outputs": [],
            "source": [
                "\n",
                "\n",
                "\n"
            ]
        },
        {
            "cell_type": "code",
            "execution_count": null,
            "metadata": {},
            "outputs": [],
            "source": []
        }
    ],
    "metadata": {
        "kernelspec": {
            "display_name": "Python 3.10.4 64-bit",
            "language": "python",
            "name": "python3"
        },
        "language_info": {
            "codemirror_mode": {
                "name": "ipython",
                "version": 3
            },
            "file_extension": ".py",
            "mimetype": "text/x-python",
            "name": "python",
            "nbconvert_exporter": "python",
            "pygments_lexer": "ipython3",
            "version": "3.11.4"
        },
        "vscode": {
            "interpreter": {
                "hash": "f66e3edf856e3e4a3652763ddb6c2ab1c25665e5b9e1fed087bb1a040433f3bb"
            }
        }
    },
    "nbformat": 4,
    "nbformat_minor": 5
}

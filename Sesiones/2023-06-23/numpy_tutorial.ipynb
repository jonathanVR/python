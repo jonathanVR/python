{
 "cells": [
  {
   "cell_type": "code",
   "execution_count": 13,
   "metadata": {},
   "outputs": [],
   "source": [
    "import numpy as np"
   ]
  },
  {
   "cell_type": "markdown",
   "metadata": {},
   "source": [
    "## 🔬 NumPy para cálculos manipulación de datos numéricos 🚀"
   ]
  },
  {
   "cell_type": "markdown",
   "metadata": {},
   "source": [
    "Imagina que estás trabajando en un proyecto de investigación científica en el campo de la física.\n",
    "Necesitas realizar cálculos complejos y manipulación de datos numéricos a gran escala.\n",
    "Aquí es donde entra en juego NumPy, una biblioteca esencial para la computación numérica en Python.\n",
    "\n",
    "En tu proyecto, necesitas almacenar y manipular datos en arreglos multidimensionales.\n",
    "Con NumPy, puedes crear fácilmente arreglos y realizar operaciones matemáticas optimizadas."
   ]
  },
  {
   "cell_type": "code",
   "execution_count": 14,
   "metadata": {},
   "outputs": [],
   "source": [
    "# Por ejemplo, creemos un arreglo unidimensional para representar mediciones de temperatura en diferentes días:\n",
    "temperaturas = np.array([22.5, 24.7, 26.1, 23.8, 21.9])\n",
    "\n",
    "# También podemos crear un arreglo bidimensional para representar mediciones de velocidad en diferentes puntos:\n",
    "velocidades = np.array([[2.5, 3.1], [4.2, 3.8], [2.9, 2.7]])\n"
   ]
  },
  {
   "cell_type": "code",
   "execution_count": 15,
   "metadata": {},
   "outputs": [
    {
     "name": "stdout",
     "output_type": "stream",
     "text": [
      "La temperatura media es: 23.8\n",
      "La velocidad máxima es: 4.2\n"
     ]
    }
   ],
   "source": [
    "# Ahora, imagina que necesitas calcular la media de las temperaturas y la velocidad máxima en cada punto.\n",
    "# NumPy ofrece funciones estadísticas y matemáticas para facilitar estos cálculos:\n",
    "\n",
    "media_temperaturas = np.mean(temperaturas)\n",
    "velocidad_maxima = np.max(velocidades)\n",
    "\n",
    "print(\"La temperatura media es:\", media_temperaturas)\n",
    "print(\"La velocidad máxima es:\", velocidad_maxima)\n"
   ]
  },
  {
   "cell_type": "code",
   "execution_count": 16,
   "metadata": {},
   "outputs": [
    {
     "name": "stdout",
     "output_type": "stream",
     "text": [
      "La segunda velocidad en el primer punto es: 3.1\n"
     ]
    }
   ],
   "source": [
    "\n",
    "# Además de realizar cálculos, también puedes acceder a elementos específicos en los arreglos.\n",
    "# Por ejemplo, si deseas obtener la velocidad en el primer dato:\n",
    "\n",
    "veloc_pr = velocidades[0, 1]\n",
    "print(\"La segunda velocidad en el primer punto es:\", veloc_pr)"
   ]
  },
  {
   "cell_type": "code",
   "execution_count": 17,
   "metadata": {},
   "outputs": [
    {
     "name": "stdout",
     "output_type": "stream",
     "text": [
      "Matriz de ceros:\n",
      "[[0. 0. 0.]\n",
      " [0. 0. 0.]]\n"
     ]
    }
   ],
   "source": [
    "# NumPy también te permite generar arreglos con valores predefinidos.\n",
    "# Por ejemplo, si necesitas crear una matriz de ceros de tamaño 2x3:\n",
    "\n",
    "matriz_zeros = np.zeros((2, 3))\n",
    "print(\"Matriz de ceros:\")\n",
    "print(matriz_zeros)\n"
   ]
  },
  {
   "cell_type": "code",
   "execution_count": 18,
   "metadata": {},
   "outputs": [
    {
     "name": "stdout",
     "output_type": "stream",
     "text": [
      "Matriz de unos:\n",
      "[[1. 1. 1. 1.]\n",
      " [1. 1. 1. 1.]\n",
      " [1. 1. 1. 1.]]\n"
     ]
    }
   ],
   "source": [
    "# O si deseas crear una matriz de unos de tamaño 3x4:\n",
    "\n",
    "matriz_unos = np.ones((3, 4))\n",
    "print(\"Matriz de unos:\")\n",
    "print(matriz_unos)\n"
   ]
  },
  {
   "cell_type": "code",
   "execution_count": 19,
   "metadata": {},
   "outputs": [
    {
     "name": "stdout",
     "output_type": "stream",
     "text": [
      "Matriz aleatoria:\n",
      "[[0.98540686 0.56898368]\n",
      " [0.58995346 0.63665198]\n",
      " [0.12044803 0.87660413]]\n"
     ]
    }
   ],
   "source": [
    "# Además de eso, puedes generar arreglos con valores aleatorios utilizando NumPy.\n",
    "# Por ejemplo, si necesitas generar una matriz 3x2 de números aleatorios:\n",
    "\n",
    "matriz_aleatoria = np.random.rand(3, 2)\n",
    "print(\"Matriz aleatoria:\")\n",
    "print(matriz_aleatoria)\n"
   ]
  },
  {
   "cell_type": "code",
   "execution_count": 20,
   "metadata": {},
   "outputs": [
    {
     "name": "stdout",
     "output_type": "stream",
     "text": [
      "La desviación estándar de las temperaturas es: 1.5099668870541507\n"
     ]
    }
   ],
   "source": [
    "\n",
    "# NumPy también ofrece una amplia gama de funciones matemáticas y estadísticas.\n",
    "# Por ejemplo, puedes calcular la desviación estándar de las temperaturas:\n",
    "\n",
    "desviacion_estandar = np.std(temperaturas)\n",
    "print(\"La desviación estándar de las temperaturas es:\", desviacion_estandar)\n"
   ]
  },
  {
   "cell_type": "code",
   "execution_count": 21,
   "metadata": {},
   "outputs": [
    {
     "name": "stdout",
     "output_type": "stream",
     "text": [
      "Arreglo de velocidades al cuadrado:\n",
      "[[ 6.25  9.61]\n",
      " [17.64 14.44]\n",
      " [ 8.41  7.29]]\n"
     ]
    }
   ],
   "source": [
    "\n",
    "# Además, puedes realizar operaciones vectorizadas en arreglos para un rendimiento más eficiente.\n",
    "# Por ejemplo, si deseas calcular el cuadrado de cada elemento en el arreglo de velocidades:\n",
    "\n",
    "velocidades_cuadrado = velocidades ** 2\n",
    "print(\"Arreglo de velocidades al cuadrado:\")\n",
    "print(velocidades_cuadrado)\n"
   ]
  },
  {
   "cell_type": "code",
   "execution_count": 22,
   "metadata": {},
   "outputs": [
    {
     "name": "stdout",
     "output_type": "stream",
     "text": [
      "Temperaturas mayores a 23 grados:\n",
      "[24.7 26.1 23.8]\n"
     ]
    }
   ],
   "source": [
    "\n",
    "# NumPy también facilita la indexación y el filtrado de datos en arreglos.\n",
    "# Por ejemplo, si deseas obtener las temperaturas mayores a 23 grados:\n",
    "\n",
    "temperaturas_mayores_23 = temperaturas[temperaturas > 23]\n",
    "print(\"Temperaturas mayores a 23 grados:\")\n",
    "print(temperaturas_mayores_23)\n"
   ]
  },
  {
   "cell_type": "markdown",
   "metadata": {},
   "source": [
    "\n",
    "En resumen, NumPy es una herramienta esencial para la computación numérica en Python.\n",
    "Proporciona arreglos multidimensionales eficientes, funciones matemáticas y estadísticas,\n",
    "operaciones vectorizadas, indexación avanzada y mucho más. Es ampliamente utilizado en\n",
    "campos como la ciencia de datos, el aprendizaje automático, la física y la ingeniería."
   ]
  }
 ],
 "metadata": {
  "kernelspec": {
   "display_name": "Python 3.10.4 64-bit",
   "language": "python",
   "name": "python3"
  },
  "language_info": {
   "codemirror_mode": {
    "name": "ipython",
    "version": 3
   },
   "file_extension": ".py",
   "mimetype": "text/x-python",
   "name": "python",
   "nbconvert_exporter": "python",
   "pygments_lexer": "ipython3",
   "version": "3.10.4"
  },
  "orig_nbformat": 4,
  "vscode": {
   "interpreter": {
    "hash": "f66e3edf856e3e4a3652763ddb6c2ab1c25665e5b9e1fed087bb1a040433f3bb"
   }
  }
 },
 "nbformat": 4,
 "nbformat_minor": 2
}

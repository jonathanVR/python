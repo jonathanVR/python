{
 "cells": [
  {
   "cell_type": "markdown",
   "metadata": {},
   "source": [
    "## Ejemplos de clase (23 de Junio)"
   ]
  },
  {
   "cell_type": "code",
   "execution_count": 1,
   "metadata": {},
   "outputs": [],
   "source": [
    "import pandas as pd"
   ]
  },
  {
   "cell_type": "code",
   "execution_count": 4,
   "metadata": {},
   "outputs": [],
   "source": [
    "df = pd.read_csv(\"datos/titles.csv\")"
   ]
  },
  {
   "cell_type": "code",
   "execution_count": 6,
   "metadata": {},
   "outputs": [
    {
     "data": {
      "text/html": [
       "<div>\n",
       "<style scoped>\n",
       "    .dataframe tbody tr th:only-of-type {\n",
       "        vertical-align: middle;\n",
       "    }\n",
       "\n",
       "    .dataframe tbody tr th {\n",
       "        vertical-align: top;\n",
       "    }\n",
       "\n",
       "    .dataframe thead th {\n",
       "        text-align: right;\n",
       "    }\n",
       "</style>\n",
       "<table border=\"1\" class=\"dataframe\">\n",
       "  <thead>\n",
       "    <tr style=\"text-align: right;\">\n",
       "      <th></th>\n",
       "      <th>title</th>\n",
       "      <th>year</th>\n",
       "      <th>rating</th>\n",
       "      <th>votes</th>\n",
       "    </tr>\n",
       "  </thead>\n",
       "  <tbody>\n",
       "    <tr>\n",
       "      <th>0</th>\n",
       "      <td>Spanish Fiesta</td>\n",
       "      <td>2019</td>\n",
       "      <td>6.9</td>\n",
       "      <td>29</td>\n",
       "    </tr>\n",
       "    <tr>\n",
       "      <th>1</th>\n",
       "      <td>La tierra de los toros</td>\n",
       "      <td>2000</td>\n",
       "      <td>5.4</td>\n",
       "      <td>14</td>\n",
       "    </tr>\n",
       "    <tr>\n",
       "      <th>2</th>\n",
       "      <td>Dama de noche</td>\n",
       "      <td>1993</td>\n",
       "      <td>6.0</td>\n",
       "      <td>25</td>\n",
       "    </tr>\n",
       "    <tr>\n",
       "      <th>3</th>\n",
       "      <td>Frivolinas</td>\n",
       "      <td>2014</td>\n",
       "      <td>5.6</td>\n",
       "      <td>19</td>\n",
       "    </tr>\n",
       "    <tr>\n",
       "      <th>4</th>\n",
       "      <td>Mya ga naing</td>\n",
       "      <td>1996</td>\n",
       "      <td>7.5</td>\n",
       "      <td>21</td>\n",
       "    </tr>\n",
       "    <tr>\n",
       "      <th>5</th>\n",
       "      <td>El huésped del sevillano</td>\n",
       "      <td>1970</td>\n",
       "      <td>6.8</td>\n",
       "      <td>11</td>\n",
       "    </tr>\n",
       "    <tr>\n",
       "      <th>6</th>\n",
       "      <td>Kate &amp; Leopold</td>\n",
       "      <td>2001</td>\n",
       "      <td>6.4</td>\n",
       "      <td>81684</td>\n",
       "    </tr>\n",
       "    <tr>\n",
       "      <th>7</th>\n",
       "      <td>Muhomatsu no issho</td>\n",
       "      <td>2008</td>\n",
       "      <td>7.3</td>\n",
       "      <td>108</td>\n",
       "    </tr>\n",
       "    <tr>\n",
       "      <th>8</th>\n",
       "      <td>Another Time, Another Place</td>\n",
       "      <td>1983</td>\n",
       "      <td>6.5</td>\n",
       "      <td>305</td>\n",
       "    </tr>\n",
       "    <tr>\n",
       "      <th>9</th>\n",
       "      <td>Let There Be Light</td>\n",
       "      <td>1980</td>\n",
       "      <td>7.5</td>\n",
       "      <td>1799</td>\n",
       "    </tr>\n",
       "  </tbody>\n",
       "</table>\n",
       "</div>"
      ],
      "text/plain": [
       "                         title  year  rating  votes\n",
       "0               Spanish Fiesta  2019     6.9     29\n",
       "1       La tierra de los toros  2000     5.4     14\n",
       "2                Dama de noche  1993     6.0     25\n",
       "3                   Frivolinas  2014     5.6     19\n",
       "4                 Mya ga naing  1996     7.5     21\n",
       "5     El huésped del sevillano  1970     6.8     11\n",
       "6               Kate & Leopold  2001     6.4  81684\n",
       "7           Muhomatsu no issho  2008     7.3    108\n",
       "8  Another Time, Another Place  1983     6.5    305\n",
       "9           Let There Be Light  1980     7.5   1799"
      ]
     },
     "execution_count": 6,
     "metadata": {},
     "output_type": "execute_result"
    }
   ],
   "source": [
    "df.head(10)"
   ]
  },
  {
   "cell_type": "code",
   "execution_count": 8,
   "metadata": {},
   "outputs": [
    {
     "data": {
      "text/html": [
       "<div>\n",
       "<style scoped>\n",
       "    .dataframe tbody tr th:only-of-type {\n",
       "        vertical-align: middle;\n",
       "    }\n",
       "\n",
       "    .dataframe tbody tr th {\n",
       "        vertical-align: top;\n",
       "    }\n",
       "\n",
       "    .dataframe thead th {\n",
       "        text-align: right;\n",
       "    }\n",
       "</style>\n",
       "<table border=\"1\" class=\"dataframe\">\n",
       "  <thead>\n",
       "    <tr style=\"text-align: right;\">\n",
       "      <th></th>\n",
       "      <th>title</th>\n",
       "      <th>year</th>\n",
       "      <th>rating</th>\n",
       "      <th>votes</th>\n",
       "    </tr>\n",
       "  </thead>\n",
       "  <tbody>\n",
       "    <tr>\n",
       "      <th>213660</th>\n",
       "      <td>Safeguard</td>\n",
       "      <td>2020</td>\n",
       "      <td>3.5</td>\n",
       "      <td>225</td>\n",
       "    </tr>\n",
       "    <tr>\n",
       "      <th>213661</th>\n",
       "      <td>Il talento del calabrone</td>\n",
       "      <td>2020</td>\n",
       "      <td>5.8</td>\n",
       "      <td>1197</td>\n",
       "    </tr>\n",
       "    <tr>\n",
       "      <th>213662</th>\n",
       "      <td>Coven</td>\n",
       "      <td>2020</td>\n",
       "      <td>6.4</td>\n",
       "      <td>4014</td>\n",
       "    </tr>\n",
       "    <tr>\n",
       "      <th>213663</th>\n",
       "      <td>The Secret of China</td>\n",
       "      <td>2019</td>\n",
       "      <td>3.8</td>\n",
       "      <td>14</td>\n",
       "    </tr>\n",
       "    <tr>\n",
       "      <th>213664</th>\n",
       "      <td>Kuambil Lagi Hatiku</td>\n",
       "      <td>2019</td>\n",
       "      <td>8.3</td>\n",
       "      <td>6</td>\n",
       "    </tr>\n",
       "  </tbody>\n",
       "</table>\n",
       "</div>"
      ],
      "text/plain": [
       "                           title  year  rating  votes\n",
       "213660                 Safeguard  2020     3.5    225\n",
       "213661  Il talento del calabrone  2020     5.8   1197\n",
       "213662                     Coven  2020     6.4   4014\n",
       "213663       The Secret of China  2019     3.8     14\n",
       "213664       Kuambil Lagi Hatiku  2019     8.3      6"
      ]
     },
     "execution_count": 8,
     "metadata": {},
     "output_type": "execute_result"
    }
   ],
   "source": [
    "df.tail()"
   ]
  },
  {
   "cell_type": "code",
   "execution_count": 10,
   "metadata": {},
   "outputs": [
    {
     "data": {
      "text/plain": [
       "Index(['title', 'year', 'rating', 'votes'], dtype='object')"
      ]
     },
     "execution_count": 10,
     "metadata": {},
     "output_type": "execute_result"
    }
   ],
   "source": [
    "df.columns"
   ]
  },
  {
   "cell_type": "code",
   "execution_count": 11,
   "metadata": {},
   "outputs": [
    {
     "data": {
      "text/plain": [
       "pandas.core.frame.DataFrame"
      ]
     },
     "execution_count": 11,
     "metadata": {},
     "output_type": "execute_result"
    }
   ],
   "source": [
    "type(df)"
   ]
  },
  {
   "cell_type": "code",
   "execution_count": 13,
   "metadata": {},
   "outputs": [],
   "source": [
    "ser_pd = df[\"title\"]"
   ]
  },
  {
   "cell_type": "code",
   "execution_count": 14,
   "metadata": {},
   "outputs": [
    {
     "data": {
      "text/plain": [
       "pandas.core.series.Series"
      ]
     },
     "execution_count": 14,
     "metadata": {},
     "output_type": "execute_result"
    }
   ],
   "source": [
    "type(ser_pd)"
   ]
  },
  {
   "cell_type": "code",
   "execution_count": 15,
   "metadata": {},
   "outputs": [
    {
     "data": {
      "text/plain": [
       "0                   Spanish Fiesta\n",
       "1           La tierra de los toros\n",
       "2                    Dama de noche\n",
       "3                       Frivolinas\n",
       "4                     Mya ga naing\n",
       "                    ...           \n",
       "213660                   Safeguard\n",
       "213661    Il talento del calabrone\n",
       "213662                       Coven\n",
       "213663         The Secret of China\n",
       "213664         Kuambil Lagi Hatiku\n",
       "Name: title, Length: 213665, dtype: object"
      ]
     },
     "execution_count": 15,
     "metadata": {},
     "output_type": "execute_result"
    }
   ],
   "source": [
    "ser_pd"
   ]
  },
  {
   "cell_type": "code",
   "execution_count": 18,
   "metadata": {},
   "outputs": [
    {
     "data": {
      "text/plain": [
       "40798               Üç tatli bela\n",
       "172761    Üç, Iki, Bir... Kestik!\n",
       "107990            Þegiðu og syntu\n",
       "180619      à propos: philosophie\n",
       "162485                     ärtico\n",
       "Name: title, dtype: object"
      ]
     },
     "execution_count": 18,
     "metadata": {},
     "output_type": "execute_result"
    }
   ],
   "source": [
    "ser_pd.sort_values()"
   ]
  },
  {
   "cell_type": "code",
   "execution_count": 20,
   "metadata": {},
   "outputs": [
    {
     "data": {
      "text/plain": [
       "0                   Spanish Fiesta\n",
       "1           La tierra de los toros\n",
       "2                    Dama de noche\n",
       "3                       Frivolinas\n",
       "4                     Mya ga naing\n",
       "                    ...           \n",
       "213660                   Safeguard\n",
       "213661    Il talento del calabrone\n",
       "213662                       Coven\n",
       "213663         The Secret of China\n",
       "213664         Kuambil Lagi Hatiku\n",
       "Name: title, Length: 213665, dtype: object"
      ]
     },
     "execution_count": 20,
     "metadata": {},
     "output_type": "execute_result"
    }
   ],
   "source": [
    "ser_pd.sort_index()"
   ]
  },
  {
   "cell_type": "code",
   "execution_count": 21,
   "metadata": {},
   "outputs": [],
   "source": [
    "series_yrs = df.year"
   ]
  },
  {
   "cell_type": "code",
   "execution_count": 29,
   "metadata": {},
   "outputs": [
    {
     "data": {
      "text/plain": [
       "2015    9113\n",
       "2016    9482\n",
       "2019    9611\n",
       "2018    9764\n",
       "2017    9877\n",
       "Name: year, dtype: int64"
      ]
     },
     "execution_count": 29,
     "metadata": {},
     "output_type": "execute_result"
    }
   ],
   "source": [
    "num_pel_yr = series_yrs.value_counts()\n",
    "num_pel_yr.sort_values().tail()"
   ]
  },
  {
   "cell_type": "code",
   "execution_count": 36,
   "metadata": {},
   "outputs": [
    {
     "data": {
      "text/plain": [
       "213665"
      ]
     },
     "execution_count": 36,
     "metadata": {},
     "output_type": "execute_result"
    }
   ],
   "source": [
    "series_yrs.notnull().sum()"
   ]
  },
  {
   "cell_type": "code",
   "execution_count": 37,
   "metadata": {},
   "outputs": [
    {
     "data": {
      "text/html": [
       "<div>\n",
       "<style scoped>\n",
       "    .dataframe tbody tr th:only-of-type {\n",
       "        vertical-align: middle;\n",
       "    }\n",
       "\n",
       "    .dataframe tbody tr th {\n",
       "        vertical-align: top;\n",
       "    }\n",
       "\n",
       "    .dataframe thead th {\n",
       "        text-align: right;\n",
       "    }\n",
       "</style>\n",
       "<table border=\"1\" class=\"dataframe\">\n",
       "  <thead>\n",
       "    <tr style=\"text-align: right;\">\n",
       "      <th></th>\n",
       "      <th>title</th>\n",
       "      <th>year</th>\n",
       "      <th>rating</th>\n",
       "      <th>votes</th>\n",
       "    </tr>\n",
       "  </thead>\n",
       "  <tbody>\n",
       "    <tr>\n",
       "      <th>0</th>\n",
       "      <td>Spanish Fiesta</td>\n",
       "      <td>2019</td>\n",
       "      <td>6.9</td>\n",
       "      <td>29</td>\n",
       "    </tr>\n",
       "    <tr>\n",
       "      <th>1</th>\n",
       "      <td>La tierra de los toros</td>\n",
       "      <td>2000</td>\n",
       "      <td>5.4</td>\n",
       "      <td>14</td>\n",
       "    </tr>\n",
       "    <tr>\n",
       "      <th>2</th>\n",
       "      <td>Dama de noche</td>\n",
       "      <td>1993</td>\n",
       "      <td>6.0</td>\n",
       "      <td>25</td>\n",
       "    </tr>\n",
       "    <tr>\n",
       "      <th>3</th>\n",
       "      <td>Frivolinas</td>\n",
       "      <td>2014</td>\n",
       "      <td>5.6</td>\n",
       "      <td>19</td>\n",
       "    </tr>\n",
       "    <tr>\n",
       "      <th>4</th>\n",
       "      <td>Mya ga naing</td>\n",
       "      <td>1996</td>\n",
       "      <td>7.5</td>\n",
       "      <td>21</td>\n",
       "    </tr>\n",
       "    <tr>\n",
       "      <th>...</th>\n",
       "      <td>...</td>\n",
       "      <td>...</td>\n",
       "      <td>...</td>\n",
       "      <td>...</td>\n",
       "    </tr>\n",
       "    <tr>\n",
       "      <th>213660</th>\n",
       "      <td>Safeguard</td>\n",
       "      <td>2020</td>\n",
       "      <td>3.5</td>\n",
       "      <td>225</td>\n",
       "    </tr>\n",
       "    <tr>\n",
       "      <th>213661</th>\n",
       "      <td>Il talento del calabrone</td>\n",
       "      <td>2020</td>\n",
       "      <td>5.8</td>\n",
       "      <td>1197</td>\n",
       "    </tr>\n",
       "    <tr>\n",
       "      <th>213662</th>\n",
       "      <td>Coven</td>\n",
       "      <td>2020</td>\n",
       "      <td>6.4</td>\n",
       "      <td>4014</td>\n",
       "    </tr>\n",
       "    <tr>\n",
       "      <th>213663</th>\n",
       "      <td>The Secret of China</td>\n",
       "      <td>2019</td>\n",
       "      <td>3.8</td>\n",
       "      <td>14</td>\n",
       "    </tr>\n",
       "    <tr>\n",
       "      <th>213664</th>\n",
       "      <td>Kuambil Lagi Hatiku</td>\n",
       "      <td>2019</td>\n",
       "      <td>8.3</td>\n",
       "      <td>6</td>\n",
       "    </tr>\n",
       "  </tbody>\n",
       "</table>\n",
       "<p>213665 rows × 4 columns</p>\n",
       "</div>"
      ],
      "text/plain": [
       "                           title  year  rating  votes\n",
       "0                 Spanish Fiesta  2019     6.9     29\n",
       "1         La tierra de los toros  2000     5.4     14\n",
       "2                  Dama de noche  1993     6.0     25\n",
       "3                     Frivolinas  2014     5.6     19\n",
       "4                   Mya ga naing  1996     7.5     21\n",
       "...                          ...   ...     ...    ...\n",
       "213660                 Safeguard  2020     3.5    225\n",
       "213661  Il talento del calabrone  2020     5.8   1197\n",
       "213662                     Coven  2020     6.4   4014\n",
       "213663       The Secret of China  2019     3.8     14\n",
       "213664       Kuambil Lagi Hatiku  2019     8.3      6\n",
       "\n",
       "[213665 rows x 4 columns]"
      ]
     },
     "execution_count": 37,
     "metadata": {},
     "output_type": "execute_result"
    }
   ],
   "source": [
    "df"
   ]
  },
  {
   "cell_type": "code",
   "execution_count": 38,
   "metadata": {},
   "outputs": [],
   "source": [
    "ratings_ser = df[\"rating\"]"
   ]
  },
  {
   "cell_type": "code",
   "execution_count": 41,
   "metadata": {},
   "outputs": [
    {
     "data": {
      "text/plain": [
       "15193"
      ]
     },
     "execution_count": 41,
     "metadata": {},
     "output_type": "execute_result"
    }
   ],
   "source": [
    "filtro = ratings_ser>8\n",
    "filtro.sum()"
   ]
  },
  {
   "cell_type": "code",
   "execution_count": 45,
   "metadata": {},
   "outputs": [
    {
     "data": {
      "text/plain": [
       "155657    8.1\n",
       "162282    8.1\n",
       "115828    8.1\n",
       "162229    8.1\n",
       "58457     8.1\n",
       "Name: rating, dtype: float64"
      ]
     },
     "execution_count": 45,
     "metadata": {},
     "output_type": "execute_result"
    }
   ],
   "source": [
    "ratings_ser[filtro].sort_values().head()"
   ]
  },
  {
   "cell_type": "code",
   "execution_count": 46,
   "metadata": {},
   "outputs": [
    {
     "data": {
      "text/html": [
       "<div>\n",
       "<style scoped>\n",
       "    .dataframe tbody tr th:only-of-type {\n",
       "        vertical-align: middle;\n",
       "    }\n",
       "\n",
       "    .dataframe tbody tr th {\n",
       "        vertical-align: top;\n",
       "    }\n",
       "\n",
       "    .dataframe thead th {\n",
       "        text-align: right;\n",
       "    }\n",
       "</style>\n",
       "<table border=\"1\" class=\"dataframe\">\n",
       "  <thead>\n",
       "    <tr style=\"text-align: right;\">\n",
       "      <th></th>\n",
       "      <th>title</th>\n",
       "      <th>year</th>\n",
       "      <th>rating</th>\n",
       "      <th>votes</th>\n",
       "    </tr>\n",
       "  </thead>\n",
       "  <tbody>\n",
       "    <tr>\n",
       "      <th>0</th>\n",
       "      <td>Spanish Fiesta</td>\n",
       "      <td>2019</td>\n",
       "      <td>6.9</td>\n",
       "      <td>29</td>\n",
       "    </tr>\n",
       "    <tr>\n",
       "      <th>1</th>\n",
       "      <td>La tierra de los toros</td>\n",
       "      <td>2000</td>\n",
       "      <td>5.4</td>\n",
       "      <td>14</td>\n",
       "    </tr>\n",
       "    <tr>\n",
       "      <th>2</th>\n",
       "      <td>Dama de noche</td>\n",
       "      <td>1993</td>\n",
       "      <td>6.0</td>\n",
       "      <td>25</td>\n",
       "    </tr>\n",
       "    <tr>\n",
       "      <th>3</th>\n",
       "      <td>Frivolinas</td>\n",
       "      <td>2014</td>\n",
       "      <td>5.6</td>\n",
       "      <td>19</td>\n",
       "    </tr>\n",
       "    <tr>\n",
       "      <th>4</th>\n",
       "      <td>Mya ga naing</td>\n",
       "      <td>1996</td>\n",
       "      <td>7.5</td>\n",
       "      <td>21</td>\n",
       "    </tr>\n",
       "    <tr>\n",
       "      <th>...</th>\n",
       "      <td>...</td>\n",
       "      <td>...</td>\n",
       "      <td>...</td>\n",
       "      <td>...</td>\n",
       "    </tr>\n",
       "    <tr>\n",
       "      <th>213660</th>\n",
       "      <td>Safeguard</td>\n",
       "      <td>2020</td>\n",
       "      <td>3.5</td>\n",
       "      <td>225</td>\n",
       "    </tr>\n",
       "    <tr>\n",
       "      <th>213661</th>\n",
       "      <td>Il talento del calabrone</td>\n",
       "      <td>2020</td>\n",
       "      <td>5.8</td>\n",
       "      <td>1197</td>\n",
       "    </tr>\n",
       "    <tr>\n",
       "      <th>213662</th>\n",
       "      <td>Coven</td>\n",
       "      <td>2020</td>\n",
       "      <td>6.4</td>\n",
       "      <td>4014</td>\n",
       "    </tr>\n",
       "    <tr>\n",
       "      <th>213663</th>\n",
       "      <td>The Secret of China</td>\n",
       "      <td>2019</td>\n",
       "      <td>3.8</td>\n",
       "      <td>14</td>\n",
       "    </tr>\n",
       "    <tr>\n",
       "      <th>213664</th>\n",
       "      <td>Kuambil Lagi Hatiku</td>\n",
       "      <td>2019</td>\n",
       "      <td>8.3</td>\n",
       "      <td>6</td>\n",
       "    </tr>\n",
       "  </tbody>\n",
       "</table>\n",
       "<p>213665 rows × 4 columns</p>\n",
       "</div>"
      ],
      "text/plain": [
       "                           title  year  rating  votes\n",
       "0                 Spanish Fiesta  2019     6.9     29\n",
       "1         La tierra de los toros  2000     5.4     14\n",
       "2                  Dama de noche  1993     6.0     25\n",
       "3                     Frivolinas  2014     5.6     19\n",
       "4                   Mya ga naing  1996     7.5     21\n",
       "...                          ...   ...     ...    ...\n",
       "213660                 Safeguard  2020     3.5    225\n",
       "213661  Il talento del calabrone  2020     5.8   1197\n",
       "213662                     Coven  2020     6.4   4014\n",
       "213663       The Secret of China  2019     3.8     14\n",
       "213664       Kuambil Lagi Hatiku  2019     8.3      6\n",
       "\n",
       "[213665 rows x 4 columns]"
      ]
     },
     "execution_count": 46,
     "metadata": {},
     "output_type": "execute_result"
    }
   ],
   "source": [
    "df"
   ]
  },
  {
   "cell_type": "code",
   "execution_count": 47,
   "metadata": {},
   "outputs": [
    {
     "data": {
      "text/plain": [
       "1593"
      ]
     },
     "execution_count": 47,
     "metadata": {},
     "output_type": "execute_result"
    }
   ],
   "source": [
    "filtro = df[\"rating\"]>9\n",
    "filtro.sum()"
   ]
  },
  {
   "cell_type": "code",
   "execution_count": 50,
   "metadata": {},
   "outputs": [
    {
     "data": {
      "text/html": [
       "<div>\n",
       "<style scoped>\n",
       "    .dataframe tbody tr th:only-of-type {\n",
       "        vertical-align: middle;\n",
       "    }\n",
       "\n",
       "    .dataframe tbody tr th {\n",
       "        vertical-align: top;\n",
       "    }\n",
       "\n",
       "    .dataframe thead th {\n",
       "        text-align: right;\n",
       "    }\n",
       "</style>\n",
       "<table border=\"1\" class=\"dataframe\">\n",
       "  <thead>\n",
       "    <tr style=\"text-align: right;\">\n",
       "      <th></th>\n",
       "      <th>title</th>\n",
       "      <th>year</th>\n",
       "      <th>rating</th>\n",
       "      <th>votes</th>\n",
       "    </tr>\n",
       "  </thead>\n",
       "  <tbody>\n",
       "    <tr>\n",
       "      <th>2353</th>\n",
       "      <td>The Godfather</td>\n",
       "      <td>1972</td>\n",
       "      <td>9.2</td>\n",
       "      <td>1710782</td>\n",
       "    </tr>\n",
       "    <tr>\n",
       "      <th>3016</th>\n",
       "      <td>Always a New Beginning</td>\n",
       "      <td>1974</td>\n",
       "      <td>9.6</td>\n",
       "      <td>15</td>\n",
       "    </tr>\n",
       "    <tr>\n",
       "      <th>18119</th>\n",
       "      <td>Kennywood Memories</td>\n",
       "      <td>1988</td>\n",
       "      <td>9.1</td>\n",
       "      <td>61</td>\n",
       "    </tr>\n",
       "    <tr>\n",
       "      <th>19208</th>\n",
       "      <td>Gesucht: Monika Ertl</td>\n",
       "      <td>1989</td>\n",
       "      <td>9.1</td>\n",
       "      <td>17</td>\n",
       "    </tr>\n",
       "    <tr>\n",
       "      <th>20995</th>\n",
       "      <td>Schönberg</td>\n",
       "      <td>1990</td>\n",
       "      <td>9.2</td>\n",
       "      <td>6</td>\n",
       "    </tr>\n",
       "  </tbody>\n",
       "</table>\n",
       "</div>"
      ],
      "text/plain": [
       "                        title  year  rating    votes\n",
       "2353            The Godfather  1972     9.2  1710782\n",
       "3016   Always a New Beginning  1974     9.6       15\n",
       "18119      Kennywood Memories  1988     9.1       61\n",
       "19208    Gesucht: Monika Ertl  1989     9.1       17\n",
       "20995               Schönberg  1990     9.2        6"
      ]
     },
     "execution_count": 50,
     "metadata": {},
     "output_type": "execute_result"
    }
   ],
   "source": [
    "df[filtro].head()"
   ]
  },
  {
   "cell_type": "code",
   "execution_count": 56,
   "metadata": {},
   "outputs": [
    {
     "data": {
      "text/html": [
       "<div>\n",
       "<style scoped>\n",
       "    .dataframe tbody tr th:only-of-type {\n",
       "        vertical-align: middle;\n",
       "    }\n",
       "\n",
       "    .dataframe tbody tr th {\n",
       "        vertical-align: top;\n",
       "    }\n",
       "\n",
       "    .dataframe thead th {\n",
       "        text-align: right;\n",
       "    }\n",
       "</style>\n",
       "<table border=\"1\" class=\"dataframe\">\n",
       "  <thead>\n",
       "    <tr style=\"text-align: right;\">\n",
       "      <th></th>\n",
       "      <th>title</th>\n",
       "      <th>year</th>\n",
       "      <th>rating</th>\n",
       "      <th>votes</th>\n",
       "    </tr>\n",
       "  </thead>\n",
       "  <tbody>\n",
       "    <tr>\n",
       "      <th>90746</th>\n",
       "      <td>Cafe Coexistence</td>\n",
       "      <td>2009</td>\n",
       "      <td>9.7</td>\n",
       "      <td>12</td>\n",
       "    </tr>\n",
       "    <tr>\n",
       "      <th>104278</th>\n",
       "      <td>Cuando volveras</td>\n",
       "      <td>2008</td>\n",
       "      <td>9.7</td>\n",
       "      <td>13</td>\n",
       "    </tr>\n",
       "    <tr>\n",
       "      <th>104570</th>\n",
       "      <td>Fatima</td>\n",
       "      <td>2009</td>\n",
       "      <td>9.6</td>\n",
       "      <td>6</td>\n",
       "    </tr>\n",
       "    <tr>\n",
       "      <th>111538</th>\n",
       "      <td>The Likes of Us</td>\n",
       "      <td>2009</td>\n",
       "      <td>9.6</td>\n",
       "      <td>13</td>\n",
       "    </tr>\n",
       "    <tr>\n",
       "      <th>111621</th>\n",
       "      <td>Karosta: Life After the USSR</td>\n",
       "      <td>2008</td>\n",
       "      <td>9.6</td>\n",
       "      <td>42</td>\n",
       "    </tr>\n",
       "  </tbody>\n",
       "</table>\n",
       "</div>"
      ],
      "text/plain": [
       "                               title  year  rating  votes\n",
       "90746               Cafe Coexistence  2009     9.7     12\n",
       "104278               Cuando volveras  2008     9.7     13\n",
       "104570                        Fatima  2009     9.6      6\n",
       "111538               The Likes of Us  2009     9.6     13\n",
       "111621  Karosta: Life After the USSR  2008     9.6     42"
      ]
     },
     "execution_count": 56,
     "metadata": {},
     "output_type": "execute_result"
    }
   ],
   "source": [
    "filtro1 = df[\"year\"]>2005\n",
    "filtro2 = df[\"year\"]<2010\n",
    "filtro3 = df[\"rating\"]>9.5\n",
    "df[filtro1 & filtro2 & filtro3].head()"
   ]
  },
  {
   "cell_type": "code",
   "execution_count": 58,
   "metadata": {},
   "outputs": [
    {
     "data": {
      "text/html": [
       "<div>\n",
       "<style scoped>\n",
       "    .dataframe tbody tr th:only-of-type {\n",
       "        vertical-align: middle;\n",
       "    }\n",
       "\n",
       "    .dataframe tbody tr th {\n",
       "        vertical-align: top;\n",
       "    }\n",
       "\n",
       "    .dataframe thead th {\n",
       "        text-align: right;\n",
       "    }\n",
       "</style>\n",
       "<table border=\"1\" class=\"dataframe\">\n",
       "  <thead>\n",
       "    <tr style=\"text-align: right;\">\n",
       "      <th></th>\n",
       "      <th>title</th>\n",
       "      <th>year</th>\n",
       "      <th>rating</th>\n",
       "      <th>votes</th>\n",
       "    </tr>\n",
       "  </thead>\n",
       "  <tbody>\n",
       "    <tr>\n",
       "      <th>0</th>\n",
       "      <td>Spanish Fiesta</td>\n",
       "      <td>2019</td>\n",
       "      <td>6.9</td>\n",
       "      <td>29</td>\n",
       "    </tr>\n",
       "    <tr>\n",
       "      <th>3</th>\n",
       "      <td>Frivolinas</td>\n",
       "      <td>2014</td>\n",
       "      <td>5.6</td>\n",
       "      <td>19</td>\n",
       "    </tr>\n",
       "    <tr>\n",
       "      <th>7</th>\n",
       "      <td>Muhomatsu no issho</td>\n",
       "      <td>2008</td>\n",
       "      <td>7.3</td>\n",
       "      <td>108</td>\n",
       "    </tr>\n",
       "    <tr>\n",
       "      <th>36</th>\n",
       "      <td>The Tango of the Widower and Its Distorting Mi...</td>\n",
       "      <td>2020</td>\n",
       "      <td>6.3</td>\n",
       "      <td>153</td>\n",
       "    </tr>\n",
       "    <tr>\n",
       "      <th>260</th>\n",
       "      <td>Bucharest Memories</td>\n",
       "      <td>2020</td>\n",
       "      <td>7.3</td>\n",
       "      <td>11</td>\n",
       "    </tr>\n",
       "    <tr>\n",
       "      <th>2639</th>\n",
       "      <td>The Other Side of the Wind</td>\n",
       "      <td>2018</td>\n",
       "      <td>6.8</td>\n",
       "      <td>6887</td>\n",
       "    </tr>\n",
       "    <tr>\n",
       "      <th>11032</th>\n",
       "      <td>The Drive to Win</td>\n",
       "      <td>2019</td>\n",
       "      <td>6.7</td>\n",
       "      <td>29</td>\n",
       "    </tr>\n",
       "    <tr>\n",
       "      <th>20824</th>\n",
       "      <td>The Wandering Soap Opera</td>\n",
       "      <td>2017</td>\n",
       "      <td>6.5</td>\n",
       "      <td>318</td>\n",
       "    </tr>\n",
       "    <tr>\n",
       "      <th>22570</th>\n",
       "      <td>All I Know Is</td>\n",
       "      <td>1992</td>\n",
       "      <td>10.0</td>\n",
       "      <td>5</td>\n",
       "    </tr>\n",
       "    <tr>\n",
       "      <th>23357</th>\n",
       "      <td>Neues in Wittstock</td>\n",
       "      <td>2021</td>\n",
       "      <td>8.4</td>\n",
       "      <td>8</td>\n",
       "    </tr>\n",
       "    <tr>\n",
       "      <th>26167</th>\n",
       "      <td>Master i Margarita</td>\n",
       "      <td>2006</td>\n",
       "      <td>6.6</td>\n",
       "      <td>602</td>\n",
       "    </tr>\n",
       "    <tr>\n",
       "      <th>27030</th>\n",
       "      <td>Bigfoot</td>\n",
       "      <td>2017</td>\n",
       "      <td>4.5</td>\n",
       "      <td>42</td>\n",
       "    </tr>\n",
       "    <tr>\n",
       "      <th>28501</th>\n",
       "      <td>Biriken</td>\n",
       "      <td>2008</td>\n",
       "      <td>6.4</td>\n",
       "      <td>30</td>\n",
       "    </tr>\n",
       "    <tr>\n",
       "      <th>29212</th>\n",
       "      <td>Mariette in Ecstasy</td>\n",
       "      <td>2019</td>\n",
       "      <td>7.4</td>\n",
       "      <td>66</td>\n",
       "    </tr>\n",
       "    <tr>\n",
       "      <th>29605</th>\n",
       "      <td>Still Waters Burn</td>\n",
       "      <td>2008</td>\n",
       "      <td>6.9</td>\n",
       "      <td>59</td>\n",
       "    </tr>\n",
       "  </tbody>\n",
       "</table>\n",
       "</div>"
      ],
      "text/plain": [
       "                                                   title  year  rating  votes\n",
       "0                                         Spanish Fiesta  2019     6.9     29\n",
       "3                                             Frivolinas  2014     5.6     19\n",
       "7                                     Muhomatsu no issho  2008     7.3    108\n",
       "36     The Tango of the Widower and Its Distorting Mi...  2020     6.3    153\n",
       "260                                   Bucharest Memories  2020     7.3     11\n",
       "2639                          The Other Side of the Wind  2018     6.8   6887\n",
       "11032                                   The Drive to Win  2019     6.7     29\n",
       "20824                           The Wandering Soap Opera  2017     6.5    318\n",
       "22570                                      All I Know Is  1992    10.0      5\n",
       "23357                                 Neues in Wittstock  2021     8.4      8\n",
       "26167                                 Master i Margarita  2006     6.6    602\n",
       "27030                                            Bigfoot  2017     4.5     42\n",
       "28501                                            Biriken  2008     6.4     30\n",
       "29212                                Mariette in Ecstasy  2019     7.4     66\n",
       "29605                                  Still Waters Burn  2008     6.9     59"
      ]
     },
     "execution_count": 58,
     "metadata": {},
     "output_type": "execute_result"
    }
   ],
   "source": [
    "filtro1 = df[\"year\"]>2005\n",
    "filtro2 = df[\"year\"]<2010\n",
    "filtro3 = df[\"rating\"]>9.8\n",
    "df[(filtro1 ) | filtro3].head(15)"
   ]
  },
  {
   "cell_type": "code",
   "execution_count": 75,
   "metadata": {},
   "outputs": [
    {
     "name": "stdout",
     "output_type": "stream",
     "text": [
      "Requirement already satisfied: matplotlib in c:\\users\\hugo condori\\appdata\\local\\programs\\python\\python310\\lib\\site-packages (3.7.1)\n",
      "Requirement already satisfied: contourpy>=1.0.1 in c:\\users\\hugo condori\\appdata\\local\\programs\\python\\python310\\lib\\site-packages (from matplotlib) (1.0.6)\n",
      "Requirement already satisfied: cycler>=0.10 in c:\\users\\hugo condori\\appdata\\local\\programs\\python\\python310\\lib\\site-packages (from matplotlib) (0.11.0)\n",
      "Requirement already satisfied: fonttools>=4.22.0 in c:\\users\\hugo condori\\appdata\\local\\programs\\python\\python310\\lib\\site-packages (from matplotlib) (4.38.0)\n",
      "Requirement already satisfied: kiwisolver>=1.0.1 in c:\\users\\hugo condori\\appdata\\local\\programs\\python\\python310\\lib\\site-packages (from matplotlib) (1.4.4)\n",
      "Requirement already satisfied: numpy>=1.20 in c:\\users\\hugo condori\\appdata\\local\\programs\\python\\python310\\lib\\site-packages (from matplotlib) (1.23.5)\n",
      "Requirement already satisfied: packaging>=20.0 in c:\\users\\hugo condori\\appdata\\local\\programs\\python\\python310\\lib\\site-packages (from matplotlib) (22.0)\n",
      "Requirement already satisfied: pillow>=6.2.0 in c:\\users\\hugo condori\\appdata\\local\\programs\\python\\python310\\lib\\site-packages (from matplotlib) (9.4.0)\n",
      "Requirement already satisfied: pyparsing>=2.3.1 in c:\\users\\hugo condori\\appdata\\local\\programs\\python\\python310\\lib\\site-packages (from matplotlib) (3.0.9)\n",
      "Requirement already satisfied: python-dateutil>=2.7 in c:\\users\\hugo condori\\appdata\\local\\programs\\python\\python310\\lib\\site-packages (from matplotlib) (2.8.2)\n",
      "Requirement already satisfied: six>=1.5 in c:\\users\\hugo condori\\appdata\\local\\programs\\python\\python310\\lib\\site-packages (from python-dateutil>=2.7->matplotlib) (1.16.0)\n",
      "Note: you may need to restart the kernel to use updated packages.\n"
     ]
    },
    {
     "name": "stderr",
     "output_type": "stream",
     "text": [
      "WARNING: Ignoring invalid distribution -atplotlib (c:\\users\\hugo condori\\appdata\\local\\programs\\python\\python310\\lib\\site-packages)\n",
      "WARNING: Ignoring invalid distribution -atplotlib (c:\\users\\hugo condori\\appdata\\local\\programs\\python\\python310\\lib\\site-packages)\n"
     ]
    }
   ],
   "source": [
    "%pip install matplotlib"
   ]
  },
  {
   "cell_type": "code",
   "execution_count": 80,
   "metadata": {},
   "outputs": [
    {
     "data": {
      "text/plain": [
       "<Axes: >"
      ]
     },
     "execution_count": 80,
     "metadata": {},
     "output_type": "execute_result"
    },
    {
     "data": {
      "image/png": "[encoded data removed]",
      "text/plain": [
       "<Figure size 432x288 with 1 Axes>"
      ]
     },
     "metadata": {
      "needs_background": "light"
     },
     "output_type": "display_data"
    }
   ],
   "source": [
    "pelis_dec =df[\"year\"]//10*10\n",
    "pelis_dec.value_counts().sort_index().plot()"
   ]
  },
  {
   "cell_type": "code",
   "execution_count": 62,
   "metadata": {},
   "outputs": [
    {
     "data": {
      "text/plain": [
       "0         2019\n",
       "1         2000\n",
       "2         1993\n",
       "3         2014\n",
       "4         1996\n",
       "          ... \n",
       "213660    2020\n",
       "213661    2020\n",
       "213662    2020\n",
       "213663    2019\n",
       "213664    2019\n",
       "Name: year, Length: 213665, dtype: int64"
      ]
     },
     "execution_count": 62,
     "metadata": {},
     "output_type": "execute_result"
    }
   ],
   "source": [
    "df.year"
   ]
  },
  {
   "cell_type": "code",
   "execution_count": 84,
   "metadata": {},
   "outputs": [
    {
     "data": {
      "text/plain": [
       "4"
      ]
     },
     "execution_count": 84,
     "metadata": {},
     "output_type": "execute_result"
    }
   ],
   "source": [
    "filtro_s = df.title.str.contains(\"The Karate Kid\")\n",
    "filtro_s.sum()"
   ]
  },
  {
   "cell_type": "code",
   "execution_count": 85,
   "metadata": {},
   "outputs": [
    {
     "data": {
      "text/html": [
       "<div>\n",
       "<style scoped>\n",
       "    .dataframe tbody tr th:only-of-type {\n",
       "        vertical-align: middle;\n",
       "    }\n",
       "\n",
       "    .dataframe tbody tr th {\n",
       "        vertical-align: top;\n",
       "    }\n",
       "\n",
       "    .dataframe thead th {\n",
       "        text-align: right;\n",
       "    }\n",
       "</style>\n",
       "<table border=\"1\" class=\"dataframe\">\n",
       "  <thead>\n",
       "    <tr style=\"text-align: right;\">\n",
       "      <th></th>\n",
       "      <th>title</th>\n",
       "      <th>year</th>\n",
       "      <th>rating</th>\n",
       "      <th>votes</th>\n",
       "    </tr>\n",
       "  </thead>\n",
       "  <tbody>\n",
       "    <tr>\n",
       "      <th>13570</th>\n",
       "      <td>The Karate Kid</td>\n",
       "      <td>1984</td>\n",
       "      <td>7.3</td>\n",
       "      <td>209089</td>\n",
       "    </tr>\n",
       "    <tr>\n",
       "      <th>15717</th>\n",
       "      <td>The Karate Kid Part II</td>\n",
       "      <td>1986</td>\n",
       "      <td>6.1</td>\n",
       "      <td>84216</td>\n",
       "    </tr>\n",
       "    <tr>\n",
       "      <th>19353</th>\n",
       "      <td>The Karate Kid Part III</td>\n",
       "      <td>1989</td>\n",
       "      <td>5.3</td>\n",
       "      <td>57583</td>\n",
       "    </tr>\n",
       "    <tr>\n",
       "      <th>101553</th>\n",
       "      <td>The Karate Kid</td>\n",
       "      <td>2010</td>\n",
       "      <td>6.2</td>\n",
       "      <td>171641</td>\n",
       "    </tr>\n",
       "  </tbody>\n",
       "</table>\n",
       "</div>"
      ],
      "text/plain": [
       "                          title  year  rating   votes\n",
       "13570            The Karate Kid  1984     7.3  209089\n",
       "15717    The Karate Kid Part II  1986     6.1   84216\n",
       "19353   The Karate Kid Part III  1989     5.3   57583\n",
       "101553           The Karate Kid  2010     6.2  171641"
      ]
     },
     "execution_count": 85,
     "metadata": {},
     "output_type": "execute_result"
    }
   ],
   "source": [
    "df[filtro_s]"
   ]
  },
  {
   "cell_type": "code",
   "execution_count": 90,
   "metadata": {},
   "outputs": [
    {
     "data": {
      "text/plain": [
       "28"
      ]
     },
     "execution_count": 90,
     "metadata": {},
     "output_type": "execute_result"
    }
   ],
   "source": [
    "filtro_2s = df.title.str.len()>100\n",
    "filtro_2s.sum()"
   ]
  },
  {
   "cell_type": "code",
   "execution_count": 94,
   "metadata": {},
   "outputs": [
    {
     "name": "stdout",
     "output_type": "stream",
     "text": [
      "Eyes Do Not Want to Close at All Times, or, Perhaps One Day Rome Will Allow Herself to Choose in Her Turn\n",
      "Brigitte, Laura, Ursula, Monica, Raquel, Litz, Florinda, Barbara, Claudia, e Sofia le chiamo tutte... anima mia\n",
      "Las poquianchis (De los pormenores y otros sucedidos del dominio público que acontecieron a las hermanas de triste memoria a quienes la maledicencia así las bautizó)\n",
      "Die Antigone des Sophokles nach der Hölderlinschen Übertragung für die Bühne bearbeitet von Brecht 1948 (Suhrkamp Verlag)\n",
      "Riuscirà l'avvocato Franco Benenato a sconfiggere il suo acerrimo nemico il pretore Ciccio De Ingras?\n",
      "Shree Shree Rajadhiraja Shree Shree Madana Kamaraja Shree Shree Vilasa Raja Shree Shree Madhubana Raja Shree Shree Krishnadeva Donga Raja\n",
      "Urgent ou À quoi bon exécuter des projets puisque le projet est en lui-même une jouissance suffisante\n",
      "Night of the Day of the Dawn of the Son of the Bride of the Return of the Revenge of the Terror of the Attack of the Evil, Mutant, Hellbound, Flesh-Eating Subhumanoid Zombified Living Dead, Part 3\n",
      "The Quiet Revolution: State, Society and the Canadian Horror Film - Part One: Gimme Shelter: Cinepix and the Birth of the Canadian Horror Film\n",
      "The Day My Busty, Provocative Sister-In-Law Rode My Dick And Made Me Give Her A Creampie. Mio Kimijima\n",
      "Transformable Shinkansen Robot Shinkalion Movie: The Mythically Fast ALFA-X that Comes from the Future\n",
      "Full film deepfake. By Vnuk Elkina: Don't threat to younger debil, sitting in the sorrow of the chernobyl.\n",
      "Zavis, knize pornofolku pod vlivem Griffithovy Intolerance a Tatiho Prazdnin pana Hulota aneb Vznik a zanik Ceskoslovenska (1918-1992)\n",
      "Maverick and Ariel's First Ever Ever Movie Hollywood or Else... (Ang pinakamahabang title ng movie sa balat ng lupa)\n",
      "2012... and the Earth Was No More: Revelations, Lost Civilizations, Fall of the Aztec Empire, Mayan Calendar, the Serpent Returns\n",
      "While My Girlfriend Was Away on Vacation, I Was Fucking Her Childhood Friend from Morning Until Night A 48-Hour Video Record of My Infidelity Yua Mikami\n",
      "Cancel Nation: How Kind-hearted Women and False Feminists Are Cancelling the Most Liberal Nation on Earth\n",
      "Mountains That Take Wing: Angela Davis & Yuri Kochiyama - A Conversation on Life, Struggles & Liberation\n",
      "Ontologica! or a Brief Explanation of Absolutely Everything that is Known about Absolutely Everything\n",
      "Night of the Day of the Dawn of the Son of the Bride of the Return of the Revenge of the Terror of the Attack of the Evil Mutant Hellbound Flesh Eating Crawling Alien Zombified Subhumanoid Living Dead, Part 5\n",
      "The Truth About The Philadelphia Experiment: Invisibility, Time Travel and Mind Control - The Shocking Truth\n",
      "Entrei em Pânico ao Saber o que Vocês Fizeram na Sexta-feira 13 do Verão Passado Parte 2 - A Hora da Volta da Vingança dos Jogos Mortais de Halloween\n",
      "Sperduti nel buio: storia di un film che c'era e non si trova più, e di un cinema che non c'era ma che si voleva fare a tutti i costi\n",
      "18 Black Girls / Boys Ages 1-18 Who Have Arrived at the Singularity and Are Thus Spiritual Machines: $X in an Edition of $97 Quadrillion\n",
      "The Light Beyond: A Talkumentary with Raymond Moody, Md, on Life, Death and the Pursuit of the Afterlife\n",
      "Sechin: New Villas, Mountain Resort and Royal Hunting of the Head of Rosneft - The Film Investigation\n",
      "I Saw a Little Bird Flying Over a Psychiatric Hospital Near Milan 2 Days Ago and Now it Became So Good that I Drank the Bordeaux Champagne of the Sample in 1771 So That My Soul Would Experience an Incredible Life in This Brutal and Gray World\n",
      "Living There Is Not Hell, It Is the Fire of the Desert. The Plenitude of Life That Stayed There Like a Tree\n"
     ]
    }
   ],
   "source": [
    "for t in df[filtro_2s].title:\n",
    "    print(t)\n"
   ]
  },
  {
   "cell_type": "code",
   "execution_count": 99,
   "metadata": {},
   "outputs": [
    {
     "data": {
      "text/plain": [
       "24"
      ]
     },
     "execution_count": 99,
     "metadata": {},
     "output_type": "execute_result"
    }
   ],
   "source": [
    "filtro_s = df.title.str.contains(\"Hugo\")\n",
    "filtro_s2 = df.title.str.contains(\"hugo\")\n",
    "filtro_s.sum()"
   ]
  },
  {
   "cell_type": "code",
   "execution_count": 100,
   "metadata": {},
   "outputs": [
    {
     "data": {
      "text/html": [
       "<div>\n",
       "<style scoped>\n",
       "    .dataframe tbody tr th:only-of-type {\n",
       "        vertical-align: middle;\n",
       "    }\n",
       "\n",
       "    .dataframe tbody tr th {\n",
       "        vertical-align: top;\n",
       "    }\n",
       "\n",
       "    .dataframe thead th {\n",
       "        text-align: right;\n",
       "    }\n",
       "</style>\n",
       "<table border=\"1\" class=\"dataframe\">\n",
       "  <thead>\n",
       "    <tr style=\"text-align: right;\">\n",
       "      <th></th>\n",
       "      <th>title</th>\n",
       "      <th>year</th>\n",
       "      <th>rating</th>\n",
       "      <th>votes</th>\n",
       "    </tr>\n",
       "  </thead>\n",
       "  <tbody>\n",
       "    <tr>\n",
       "      <th>6090</th>\n",
       "      <td>Hugo the Hippo</td>\n",
       "      <td>1975</td>\n",
       "      <td>7.0</td>\n",
       "      <td>486</td>\n",
       "    </tr>\n",
       "    <tr>\n",
       "      <th>24538</th>\n",
       "      <td>The Jungle Creature: Hugo</td>\n",
       "      <td>1993</td>\n",
       "      <td>6.2</td>\n",
       "      <td>1700</td>\n",
       "    </tr>\n",
       "    <tr>\n",
       "      <th>29064</th>\n",
       "      <td>Hugo: The Movie Star</td>\n",
       "      <td>1996</td>\n",
       "      <td>5.4</td>\n",
       "      <td>746</td>\n",
       "    </tr>\n",
       "    <tr>\n",
       "      <th>30371</th>\n",
       "      <td>Hugo Pool</td>\n",
       "      <td>1997</td>\n",
       "      <td>5.1</td>\n",
       "      <td>1964</td>\n",
       "    </tr>\n",
       "    <tr>\n",
       "      <th>63175</th>\n",
       "      <td>Hugo</td>\n",
       "      <td>2000</td>\n",
       "      <td>7.5</td>\n",
       "      <td>12</td>\n",
       "    </tr>\n",
       "    <tr>\n",
       "      <th>66120</th>\n",
       "      <td>Hugo et le dragon</td>\n",
       "      <td>2001</td>\n",
       "      <td>5.8</td>\n",
       "      <td>21</td>\n",
       "    </tr>\n",
       "    <tr>\n",
       "      <th>89935</th>\n",
       "      <td>Hugo</td>\n",
       "      <td>2011</td>\n",
       "      <td>7.5</td>\n",
       "      <td>313749</td>\n",
       "    </tr>\n",
       "    <tr>\n",
       "      <th>96852</th>\n",
       "      <td>Victor Hugo auf Guernesey - Ein Schriftsteller...</td>\n",
       "      <td>2019</td>\n",
       "      <td>6.6</td>\n",
       "      <td>6</td>\n",
       "    </tr>\n",
       "    <tr>\n",
       "      <th>104618</th>\n",
       "      <td>Shakespeare and Victor Hugo's Intimacies</td>\n",
       "      <td>2008</td>\n",
       "      <td>8.1</td>\n",
       "      <td>250</td>\n",
       "    </tr>\n",
       "    <tr>\n",
       "      <th>114786</th>\n",
       "      <td>Shugo tenshi</td>\n",
       "      <td>2009</td>\n",
       "      <td>5.0</td>\n",
       "      <td>10</td>\n",
       "    </tr>\n",
       "    <tr>\n",
       "      <th>119772</th>\n",
       "      <td>Hugo Koblet - Pédaleur de charme</td>\n",
       "      <td>2010</td>\n",
       "      <td>6.2</td>\n",
       "      <td>42</td>\n",
       "    </tr>\n",
       "    <tr>\n",
       "      <th>120540</th>\n",
       "      <td>Hugo en Afrique</td>\n",
       "      <td>2009</td>\n",
       "      <td>7.1</td>\n",
       "      <td>20</td>\n",
       "    </tr>\n",
       "    <tr>\n",
       "      <th>121242</th>\n",
       "      <td>Hugo in Argentina</td>\n",
       "      <td>2021</td>\n",
       "      <td>8.2</td>\n",
       "      <td>12</td>\n",
       "    </tr>\n",
       "    <tr>\n",
       "      <th>141491</th>\n",
       "      <td>The Meaning of Hugo</td>\n",
       "      <td>2012</td>\n",
       "      <td>6.4</td>\n",
       "      <td>43</td>\n",
       "    </tr>\n",
       "    <tr>\n",
       "      <th>142068</th>\n",
       "      <td>Hugo Paco Luis y tres chicas de rosa</td>\n",
       "      <td>2013</td>\n",
       "      <td>7.3</td>\n",
       "      <td>27</td>\n",
       "    </tr>\n",
       "    <tr>\n",
       "      <th>156384</th>\n",
       "      <td>Thugocratie</td>\n",
       "      <td>2015</td>\n",
       "      <td>5.6</td>\n",
       "      <td>120</td>\n",
       "    </tr>\n",
       "    <tr>\n",
       "      <th>163667</th>\n",
       "      <td>Mi Amigo Hugo</td>\n",
       "      <td>2014</td>\n",
       "      <td>4.0</td>\n",
       "      <td>313</td>\n",
       "    </tr>\n",
       "    <tr>\n",
       "      <th>179224</th>\n",
       "      <td>Paris 05:59: Théo &amp; Hugo</td>\n",
       "      <td>2016</td>\n",
       "      <td>6.9</td>\n",
       "      <td>2846</td>\n",
       "    </tr>\n",
       "    <tr>\n",
       "      <th>190114</th>\n",
       "      <td>Hugo På Bas</td>\n",
       "      <td>2016</td>\n",
       "      <td>7.8</td>\n",
       "      <td>13</td>\n",
       "    </tr>\n",
       "    <tr>\n",
       "      <th>192307</th>\n",
       "      <td>Ai-un: Hugo Makibi Enomiya-Lassalle. Bridge Bu...</td>\n",
       "      <td>2016</td>\n",
       "      <td>7.0</td>\n",
       "      <td>5</td>\n",
       "    </tr>\n",
       "    <tr>\n",
       "      <th>196971</th>\n",
       "      <td>Hugo: A Hidden Past Revealed</td>\n",
       "      <td>2017</td>\n",
       "      <td>9.3</td>\n",
       "      <td>6</td>\n",
       "    </tr>\n",
       "    <tr>\n",
       "      <th>197749</th>\n",
       "      <td>Mending Hugo's Heart</td>\n",
       "      <td>2017</td>\n",
       "      <td>5.4</td>\n",
       "      <td>354</td>\n",
       "    </tr>\n",
       "    <tr>\n",
       "      <th>200012</th>\n",
       "      <td>Ernst-Hugo</td>\n",
       "      <td>2008</td>\n",
       "      <td>6.3</td>\n",
       "      <td>7</td>\n",
       "    </tr>\n",
       "    <tr>\n",
       "      <th>200142</th>\n",
       "      <td>Hugo</td>\n",
       "      <td>2017</td>\n",
       "      <td>7.9</td>\n",
       "      <td>14</td>\n",
       "    </tr>\n",
       "    <tr>\n",
       "      <th>200613</th>\n",
       "      <td>Hugo Pratt, trait pour trait</td>\n",
       "      <td>2016</td>\n",
       "      <td>7.1</td>\n",
       "      <td>31</td>\n",
       "    </tr>\n",
       "    <tr>\n",
       "      <th>202448</th>\n",
       "      <td>Adhugo</td>\n",
       "      <td>2018</td>\n",
       "      <td>5.9</td>\n",
       "      <td>64</td>\n",
       "    </tr>\n",
       "    <tr>\n",
       "      <th>206517</th>\n",
       "      <td>Sanwa jinzai ichiba Chugoku nikkyu 1500-en no ...</td>\n",
       "      <td>2018</td>\n",
       "      <td>7.5</td>\n",
       "      <td>87</td>\n",
       "    </tr>\n",
       "    <tr>\n",
       "      <th>213459</th>\n",
       "      <td>Hugo Blanco, Deep River</td>\n",
       "      <td>2019</td>\n",
       "      <td>6.9</td>\n",
       "      <td>10</td>\n",
       "    </tr>\n",
       "  </tbody>\n",
       "</table>\n",
       "</div>"
      ],
      "text/plain": [
       "                                                    title  year  rating  \\\n",
       "6090                                       Hugo the Hippo  1975     7.0   \n",
       "24538                           The Jungle Creature: Hugo  1993     6.2   \n",
       "29064                                Hugo: The Movie Star  1996     5.4   \n",
       "30371                                           Hugo Pool  1997     5.1   \n",
       "63175                                                Hugo  2000     7.5   \n",
       "66120                                   Hugo et le dragon  2001     5.8   \n",
       "89935                                                Hugo  2011     7.5   \n",
       "96852   Victor Hugo auf Guernesey - Ein Schriftsteller...  2019     6.6   \n",
       "104618           Shakespeare and Victor Hugo's Intimacies  2008     8.1   \n",
       "114786                                       Shugo tenshi  2009     5.0   \n",
       "119772                   Hugo Koblet - Pédaleur de charme  2010     6.2   \n",
       "120540                                    Hugo en Afrique  2009     7.1   \n",
       "121242                                  Hugo in Argentina  2021     8.2   \n",
       "141491                                The Meaning of Hugo  2012     6.4   \n",
       "142068               Hugo Paco Luis y tres chicas de rosa  2013     7.3   \n",
       "156384                                        Thugocratie  2015     5.6   \n",
       "163667                                      Mi Amigo Hugo  2014     4.0   \n",
       "179224                           Paris 05:59: Théo & Hugo  2016     6.9   \n",
       "190114                                        Hugo På Bas  2016     7.8   \n",
       "192307  Ai-un: Hugo Makibi Enomiya-Lassalle. Bridge Bu...  2016     7.0   \n",
       "196971                       Hugo: A Hidden Past Revealed  2017     9.3   \n",
       "197749                               Mending Hugo's Heart  2017     5.4   \n",
       "200012                                         Ernst-Hugo  2008     6.3   \n",
       "200142                                               Hugo  2017     7.9   \n",
       "200613                       Hugo Pratt, trait pour trait  2016     7.1   \n",
       "202448                                             Adhugo  2018     5.9   \n",
       "206517  Sanwa jinzai ichiba Chugoku nikkyu 1500-en no ...  2018     7.5   \n",
       "213459                            Hugo Blanco, Deep River  2019     6.9   \n",
       "\n",
       "         votes  \n",
       "6090       486  \n",
       "24538     1700  \n",
       "29064      746  \n",
       "30371     1964  \n",
       "63175       12  \n",
       "66120       21  \n",
       "89935   313749  \n",
       "96852        6  \n",
       "104618     250  \n",
       "114786      10  \n",
       "119772      42  \n",
       "120540      20  \n",
       "121242      12  \n",
       "141491      43  \n",
       "142068      27  \n",
       "156384     120  \n",
       "163667     313  \n",
       "179224    2846  \n",
       "190114      13  \n",
       "192307       5  \n",
       "196971       6  \n",
       "197749     354  \n",
       "200012       7  \n",
       "200142      14  \n",
       "200613      31  \n",
       "202448      64  \n",
       "206517      87  \n",
       "213459      10  "
      ]
     },
     "execution_count": 100,
     "metadata": {},
     "output_type": "execute_result"
    }
   ],
   "source": [
    "df[filtro_s|filtro_s2]"
   ]
  },
  {
   "cell_type": "code",
   "execution_count": 107,
   "metadata": {},
   "outputs": [],
   "source": [
    "filtro_a = df.title.str.lower().str.contains(\"hugo\")"
   ]
  },
  {
   "cell_type": "code",
   "execution_count": 108,
   "metadata": {},
   "outputs": [
    {
     "data": {
      "text/html": [
       "<div>\n",
       "<style scoped>\n",
       "    .dataframe tbody tr th:only-of-type {\n",
       "        vertical-align: middle;\n",
       "    }\n",
       "\n",
       "    .dataframe tbody tr th {\n",
       "        vertical-align: top;\n",
       "    }\n",
       "\n",
       "    .dataframe thead th {\n",
       "        text-align: right;\n",
       "    }\n",
       "</style>\n",
       "<table border=\"1\" class=\"dataframe\">\n",
       "  <thead>\n",
       "    <tr style=\"text-align: right;\">\n",
       "      <th></th>\n",
       "      <th>title</th>\n",
       "      <th>year</th>\n",
       "      <th>rating</th>\n",
       "      <th>votes</th>\n",
       "    </tr>\n",
       "  </thead>\n",
       "  <tbody>\n",
       "    <tr>\n",
       "      <th>6090</th>\n",
       "      <td>Hugo the Hippo</td>\n",
       "      <td>1975</td>\n",
       "      <td>7.0</td>\n",
       "      <td>486</td>\n",
       "    </tr>\n",
       "    <tr>\n",
       "      <th>24538</th>\n",
       "      <td>The Jungle Creature: Hugo</td>\n",
       "      <td>1993</td>\n",
       "      <td>6.2</td>\n",
       "      <td>1700</td>\n",
       "    </tr>\n",
       "    <tr>\n",
       "      <th>29064</th>\n",
       "      <td>Hugo: The Movie Star</td>\n",
       "      <td>1996</td>\n",
       "      <td>5.4</td>\n",
       "      <td>746</td>\n",
       "    </tr>\n",
       "    <tr>\n",
       "      <th>30371</th>\n",
       "      <td>Hugo Pool</td>\n",
       "      <td>1997</td>\n",
       "      <td>5.1</td>\n",
       "      <td>1964</td>\n",
       "    </tr>\n",
       "    <tr>\n",
       "      <th>63175</th>\n",
       "      <td>Hugo</td>\n",
       "      <td>2000</td>\n",
       "      <td>7.5</td>\n",
       "      <td>12</td>\n",
       "    </tr>\n",
       "    <tr>\n",
       "      <th>66120</th>\n",
       "      <td>Hugo et le dragon</td>\n",
       "      <td>2001</td>\n",
       "      <td>5.8</td>\n",
       "      <td>21</td>\n",
       "    </tr>\n",
       "    <tr>\n",
       "      <th>89935</th>\n",
       "      <td>Hugo</td>\n",
       "      <td>2011</td>\n",
       "      <td>7.5</td>\n",
       "      <td>313749</td>\n",
       "    </tr>\n",
       "    <tr>\n",
       "      <th>96852</th>\n",
       "      <td>Victor Hugo auf Guernesey - Ein Schriftsteller...</td>\n",
       "      <td>2019</td>\n",
       "      <td>6.6</td>\n",
       "      <td>6</td>\n",
       "    </tr>\n",
       "    <tr>\n",
       "      <th>104618</th>\n",
       "      <td>Shakespeare and Victor Hugo's Intimacies</td>\n",
       "      <td>2008</td>\n",
       "      <td>8.1</td>\n",
       "      <td>250</td>\n",
       "    </tr>\n",
       "    <tr>\n",
       "      <th>114786</th>\n",
       "      <td>Shugo tenshi</td>\n",
       "      <td>2009</td>\n",
       "      <td>5.0</td>\n",
       "      <td>10</td>\n",
       "    </tr>\n",
       "    <tr>\n",
       "      <th>119772</th>\n",
       "      <td>Hugo Koblet - Pédaleur de charme</td>\n",
       "      <td>2010</td>\n",
       "      <td>6.2</td>\n",
       "      <td>42</td>\n",
       "    </tr>\n",
       "    <tr>\n",
       "      <th>120540</th>\n",
       "      <td>Hugo en Afrique</td>\n",
       "      <td>2009</td>\n",
       "      <td>7.1</td>\n",
       "      <td>20</td>\n",
       "    </tr>\n",
       "    <tr>\n",
       "      <th>121242</th>\n",
       "      <td>Hugo in Argentina</td>\n",
       "      <td>2021</td>\n",
       "      <td>8.2</td>\n",
       "      <td>12</td>\n",
       "    </tr>\n",
       "    <tr>\n",
       "      <th>141491</th>\n",
       "      <td>The Meaning of Hugo</td>\n",
       "      <td>2012</td>\n",
       "      <td>6.4</td>\n",
       "      <td>43</td>\n",
       "    </tr>\n",
       "    <tr>\n",
       "      <th>142068</th>\n",
       "      <td>Hugo Paco Luis y tres chicas de rosa</td>\n",
       "      <td>2013</td>\n",
       "      <td>7.3</td>\n",
       "      <td>27</td>\n",
       "    </tr>\n",
       "    <tr>\n",
       "      <th>156384</th>\n",
       "      <td>Thugocratie</td>\n",
       "      <td>2015</td>\n",
       "      <td>5.6</td>\n",
       "      <td>120</td>\n",
       "    </tr>\n",
       "    <tr>\n",
       "      <th>163667</th>\n",
       "      <td>Mi Amigo Hugo</td>\n",
       "      <td>2014</td>\n",
       "      <td>4.0</td>\n",
       "      <td>313</td>\n",
       "    </tr>\n",
       "    <tr>\n",
       "      <th>179224</th>\n",
       "      <td>Paris 05:59: Théo &amp; Hugo</td>\n",
       "      <td>2016</td>\n",
       "      <td>6.9</td>\n",
       "      <td>2846</td>\n",
       "    </tr>\n",
       "    <tr>\n",
       "      <th>190114</th>\n",
       "      <td>Hugo På Bas</td>\n",
       "      <td>2016</td>\n",
       "      <td>7.8</td>\n",
       "      <td>13</td>\n",
       "    </tr>\n",
       "    <tr>\n",
       "      <th>192307</th>\n",
       "      <td>Ai-un: Hugo Makibi Enomiya-Lassalle. Bridge Bu...</td>\n",
       "      <td>2016</td>\n",
       "      <td>7.0</td>\n",
       "      <td>5</td>\n",
       "    </tr>\n",
       "    <tr>\n",
       "      <th>196971</th>\n",
       "      <td>Hugo: A Hidden Past Revealed</td>\n",
       "      <td>2017</td>\n",
       "      <td>9.3</td>\n",
       "      <td>6</td>\n",
       "    </tr>\n",
       "    <tr>\n",
       "      <th>197749</th>\n",
       "      <td>Mending Hugo's Heart</td>\n",
       "      <td>2017</td>\n",
       "      <td>5.4</td>\n",
       "      <td>354</td>\n",
       "    </tr>\n",
       "    <tr>\n",
       "      <th>200012</th>\n",
       "      <td>Ernst-Hugo</td>\n",
       "      <td>2008</td>\n",
       "      <td>6.3</td>\n",
       "      <td>7</td>\n",
       "    </tr>\n",
       "    <tr>\n",
       "      <th>200142</th>\n",
       "      <td>Hugo</td>\n",
       "      <td>2017</td>\n",
       "      <td>7.9</td>\n",
       "      <td>14</td>\n",
       "    </tr>\n",
       "    <tr>\n",
       "      <th>200613</th>\n",
       "      <td>Hugo Pratt, trait pour trait</td>\n",
       "      <td>2016</td>\n",
       "      <td>7.1</td>\n",
       "      <td>31</td>\n",
       "    </tr>\n",
       "    <tr>\n",
       "      <th>202448</th>\n",
       "      <td>Adhugo</td>\n",
       "      <td>2018</td>\n",
       "      <td>5.9</td>\n",
       "      <td>64</td>\n",
       "    </tr>\n",
       "    <tr>\n",
       "      <th>206517</th>\n",
       "      <td>Sanwa jinzai ichiba Chugoku nikkyu 1500-en no ...</td>\n",
       "      <td>2018</td>\n",
       "      <td>7.5</td>\n",
       "      <td>87</td>\n",
       "    </tr>\n",
       "    <tr>\n",
       "      <th>213459</th>\n",
       "      <td>Hugo Blanco, Deep River</td>\n",
       "      <td>2019</td>\n",
       "      <td>6.9</td>\n",
       "      <td>10</td>\n",
       "    </tr>\n",
       "  </tbody>\n",
       "</table>\n",
       "</div>"
      ],
      "text/plain": [
       "                                                    title  year  rating  \\\n",
       "6090                                       Hugo the Hippo  1975     7.0   \n",
       "24538                           The Jungle Creature: Hugo  1993     6.2   \n",
       "29064                                Hugo: The Movie Star  1996     5.4   \n",
       "30371                                           Hugo Pool  1997     5.1   \n",
       "63175                                                Hugo  2000     7.5   \n",
       "66120                                   Hugo et le dragon  2001     5.8   \n",
       "89935                                                Hugo  2011     7.5   \n",
       "96852   Victor Hugo auf Guernesey - Ein Schriftsteller...  2019     6.6   \n",
       "104618           Shakespeare and Victor Hugo's Intimacies  2008     8.1   \n",
       "114786                                       Shugo tenshi  2009     5.0   \n",
       "119772                   Hugo Koblet - Pédaleur de charme  2010     6.2   \n",
       "120540                                    Hugo en Afrique  2009     7.1   \n",
       "121242                                  Hugo in Argentina  2021     8.2   \n",
       "141491                                The Meaning of Hugo  2012     6.4   \n",
       "142068               Hugo Paco Luis y tres chicas de rosa  2013     7.3   \n",
       "156384                                        Thugocratie  2015     5.6   \n",
       "163667                                      Mi Amigo Hugo  2014     4.0   \n",
       "179224                           Paris 05:59: Théo & Hugo  2016     6.9   \n",
       "190114                                        Hugo På Bas  2016     7.8   \n",
       "192307  Ai-un: Hugo Makibi Enomiya-Lassalle. Bridge Bu...  2016     7.0   \n",
       "196971                       Hugo: A Hidden Past Revealed  2017     9.3   \n",
       "197749                               Mending Hugo's Heart  2017     5.4   \n",
       "200012                                         Ernst-Hugo  2008     6.3   \n",
       "200142                                               Hugo  2017     7.9   \n",
       "200613                       Hugo Pratt, trait pour trait  2016     7.1   \n",
       "202448                                             Adhugo  2018     5.9   \n",
       "206517  Sanwa jinzai ichiba Chugoku nikkyu 1500-en no ...  2018     7.5   \n",
       "213459                            Hugo Blanco, Deep River  2019     6.9   \n",
       "\n",
       "         votes  \n",
       "6090       486  \n",
       "24538     1700  \n",
       "29064      746  \n",
       "30371     1964  \n",
       "63175       12  \n",
       "66120       21  \n",
       "89935   313749  \n",
       "96852        6  \n",
       "104618     250  \n",
       "114786      10  \n",
       "119772      42  \n",
       "120540      20  \n",
       "121242      12  \n",
       "141491      43  \n",
       "142068      27  \n",
       "156384     120  \n",
       "163667     313  \n",
       "179224    2846  \n",
       "190114      13  \n",
       "192307       5  \n",
       "196971       6  \n",
       "197749     354  \n",
       "200012       7  \n",
       "200142      14  \n",
       "200613      31  \n",
       "202448      64  \n",
       "206517      87  \n",
       "213459      10  "
      ]
     },
     "execution_count": 108,
     "metadata": {},
     "output_type": "execute_result"
    }
   ],
   "source": [
    "df[filtro_a]"
   ]
  },
  {
   "cell_type": "code",
   "execution_count": 112,
   "metadata": {},
   "outputs": [],
   "source": [
    "filtro_kungfu = df.title.str.contains(\"Kung Fu Panda\")"
   ]
  },
  {
   "cell_type": "code",
   "execution_count": 113,
   "metadata": {},
   "outputs": [
    {
     "data": {
      "text/html": [
       "<div>\n",
       "<style scoped>\n",
       "    .dataframe tbody tr th:only-of-type {\n",
       "        vertical-align: middle;\n",
       "    }\n",
       "\n",
       "    .dataframe tbody tr th {\n",
       "        vertical-align: top;\n",
       "    }\n",
       "\n",
       "    .dataframe thead th {\n",
       "        text-align: right;\n",
       "    }\n",
       "</style>\n",
       "<table border=\"1\" class=\"dataframe\">\n",
       "  <thead>\n",
       "    <tr style=\"text-align: right;\">\n",
       "      <th></th>\n",
       "      <th>title</th>\n",
       "      <th>year</th>\n",
       "      <th>rating</th>\n",
       "      <th>votes</th>\n",
       "    </tr>\n",
       "  </thead>\n",
       "  <tbody>\n",
       "    <tr>\n",
       "      <th>77519</th>\n",
       "      <td>Kung Fu Panda</td>\n",
       "      <td>2008</td>\n",
       "      <td>7.6</td>\n",
       "      <td>439976</td>\n",
       "    </tr>\n",
       "    <tr>\n",
       "      <th>109886</th>\n",
       "      <td>Kung Fu Panda 2</td>\n",
       "      <td>2011</td>\n",
       "      <td>7.2</td>\n",
       "      <td>266809</td>\n",
       "    </tr>\n",
       "    <tr>\n",
       "      <th>143984</th>\n",
       "      <td>Kung Fu Panda 3</td>\n",
       "      <td>2016</td>\n",
       "      <td>7.1</td>\n",
       "      <td>145059</td>\n",
       "    </tr>\n",
       "  </tbody>\n",
       "</table>\n",
       "</div>"
      ],
      "text/plain": [
       "                  title  year  rating   votes\n",
       "77519     Kung Fu Panda  2008     7.6  439976\n",
       "109886  Kung Fu Panda 2  2011     7.2  266809\n",
       "143984  Kung Fu Panda 3  2016     7.1  145059"
      ]
     },
     "execution_count": 113,
     "metadata": {},
     "output_type": "execute_result"
    }
   ],
   "source": [
    "df[filtro_kungfu]"
   ]
  },
  {
   "cell_type": "code",
   "execution_count": 118,
   "metadata": {},
   "outputs": [],
   "source": [
    "df.set_index(\"title\",inplace=True)"
   ]
  },
  {
   "cell_type": "code",
   "execution_count": 119,
   "metadata": {},
   "outputs": [
    {
     "data": {
      "text/html": [
       "<div>\n",
       "<style scoped>\n",
       "    .dataframe tbody tr th:only-of-type {\n",
       "        vertical-align: middle;\n",
       "    }\n",
       "\n",
       "    .dataframe tbody tr th {\n",
       "        vertical-align: top;\n",
       "    }\n",
       "\n",
       "    .dataframe thead th {\n",
       "        text-align: right;\n",
       "    }\n",
       "</style>\n",
       "<table border=\"1\" class=\"dataframe\">\n",
       "  <thead>\n",
       "    <tr style=\"text-align: right;\">\n",
       "      <th></th>\n",
       "      <th>year</th>\n",
       "      <th>rating</th>\n",
       "      <th>votes</th>\n",
       "    </tr>\n",
       "    <tr>\n",
       "      <th>title</th>\n",
       "      <th></th>\n",
       "      <th></th>\n",
       "      <th></th>\n",
       "    </tr>\n",
       "  </thead>\n",
       "  <tbody>\n",
       "    <tr>\n",
       "      <th>Spanish Fiesta</th>\n",
       "      <td>2019</td>\n",
       "      <td>6.9</td>\n",
       "      <td>29</td>\n",
       "    </tr>\n",
       "    <tr>\n",
       "      <th>La tierra de los toros</th>\n",
       "      <td>2000</td>\n",
       "      <td>5.4</td>\n",
       "      <td>14</td>\n",
       "    </tr>\n",
       "    <tr>\n",
       "      <th>Dama de noche</th>\n",
       "      <td>1993</td>\n",
       "      <td>6.0</td>\n",
       "      <td>25</td>\n",
       "    </tr>\n",
       "    <tr>\n",
       "      <th>Frivolinas</th>\n",
       "      <td>2014</td>\n",
       "      <td>5.6</td>\n",
       "      <td>19</td>\n",
       "    </tr>\n",
       "    <tr>\n",
       "      <th>Mya ga naing</th>\n",
       "      <td>1996</td>\n",
       "      <td>7.5</td>\n",
       "      <td>21</td>\n",
       "    </tr>\n",
       "  </tbody>\n",
       "</table>\n",
       "</div>"
      ],
      "text/plain": [
       "                        year  rating  votes\n",
       "title                                      \n",
       "Spanish Fiesta          2019     6.9     29\n",
       "La tierra de los toros  2000     5.4     14\n",
       "Dama de noche           1993     6.0     25\n",
       "Frivolinas              2014     5.6     19\n",
       "Mya ga naing            1996     7.5     21"
      ]
     },
     "execution_count": 119,
     "metadata": {},
     "output_type": "execute_result"
    }
   ],
   "source": [
    "df.head()"
   ]
  },
  {
   "cell_type": "code",
   "execution_count": 120,
   "metadata": {},
   "outputs": [
    {
     "data": {
      "text/plain": [
       "year      2019.0\n",
       "rating       6.9\n",
       "votes       29.0\n",
       "Name: Spanish Fiesta, dtype: float64"
      ]
     },
     "execution_count": 120,
     "metadata": {},
     "output_type": "execute_result"
    }
   ],
   "source": [
    "df.iloc[0]"
   ]
  },
  {
   "cell_type": "code",
   "execution_count": 121,
   "metadata": {},
   "outputs": [
    {
     "data": {
      "text/plain": [
       "year      2019.0\n",
       "rating       6.9\n",
       "votes       29.0\n",
       "Name: Spanish Fiesta, dtype: float64"
      ]
     },
     "execution_count": 121,
     "metadata": {},
     "output_type": "execute_result"
    }
   ],
   "source": [
    "df.loc[\"Spanish Fiesta\"]"
   ]
  },
  {
   "cell_type": "code",
   "execution_count": 122,
   "metadata": {},
   "outputs": [
    {
     "data": {
      "text/plain": [
       "year      2000.0\n",
       "rating       5.4\n",
       "votes       14.0\n",
       "Name: La tierra de los toros, dtype: float64"
      ]
     },
     "execution_count": 122,
     "metadata": {},
     "output_type": "execute_result"
    }
   ],
   "source": [
    "df.iloc[1]"
   ]
  },
  {
   "cell_type": "code",
   "execution_count": 123,
   "metadata": {},
   "outputs": [
    {
     "data": {
      "text/plain": [
       "year      2000.0\n",
       "rating       5.4\n",
       "votes       14.0\n",
       "Name: La tierra de los toros, dtype: float64"
      ]
     },
     "execution_count": 123,
     "metadata": {},
     "output_type": "execute_result"
    }
   ],
   "source": [
    "df.loc[\"La tierra de los toros\"]"
   ]
  },
  {
   "cell_type": "code",
   "execution_count": 124,
   "metadata": {},
   "outputs": [
    {
     "data": {
      "text/plain": [
       "year      1996.0\n",
       "rating       7.5\n",
       "votes       21.0\n",
       "Name: Mya ga naing, dtype: float64"
      ]
     },
     "execution_count": 124,
     "metadata": {},
     "output_type": "execute_result"
    }
   ],
   "source": [
    "df.loc[\"Mya ga naing\"]"
   ]
  },
  {
   "cell_type": "code",
   "execution_count": 126,
   "metadata": {},
   "outputs": [
    {
     "data": {
      "text/plain": [
       "year      1996.0\n",
       "rating       7.5\n",
       "votes       21.0\n",
       "Name: Mya ga naing, dtype: float64"
      ]
     },
     "execution_count": 126,
     "metadata": {},
     "output_type": "execute_result"
    }
   ],
   "source": [
    "df.iloc[4]"
   ]
  },
  {
   "cell_type": "code",
   "execution_count": 131,
   "metadata": {},
   "outputs": [],
   "source": [
    "df.reset_index(inplace=True)"
   ]
  },
  {
   "cell_type": "code",
   "execution_count": 132,
   "metadata": {},
   "outputs": [
    {
     "data": {
      "text/html": [
       "<div>\n",
       "<style scoped>\n",
       "    .dataframe tbody tr th:only-of-type {\n",
       "        vertical-align: middle;\n",
       "    }\n",
       "\n",
       "    .dataframe tbody tr th {\n",
       "        vertical-align: top;\n",
       "    }\n",
       "\n",
       "    .dataframe thead th {\n",
       "        text-align: right;\n",
       "    }\n",
       "</style>\n",
       "<table border=\"1\" class=\"dataframe\">\n",
       "  <thead>\n",
       "    <tr style=\"text-align: right;\">\n",
       "      <th></th>\n",
       "      <th>title</th>\n",
       "      <th>year</th>\n",
       "      <th>rating</th>\n",
       "      <th>votes</th>\n",
       "    </tr>\n",
       "  </thead>\n",
       "  <tbody>\n",
       "    <tr>\n",
       "      <th>0</th>\n",
       "      <td>Spanish Fiesta</td>\n",
       "      <td>2019</td>\n",
       "      <td>6.9</td>\n",
       "      <td>29</td>\n",
       "    </tr>\n",
       "    <tr>\n",
       "      <th>1</th>\n",
       "      <td>La tierra de los toros</td>\n",
       "      <td>2000</td>\n",
       "      <td>5.4</td>\n",
       "      <td>14</td>\n",
       "    </tr>\n",
       "    <tr>\n",
       "      <th>2</th>\n",
       "      <td>Dama de noche</td>\n",
       "      <td>1993</td>\n",
       "      <td>6.0</td>\n",
       "      <td>25</td>\n",
       "    </tr>\n",
       "    <tr>\n",
       "      <th>3</th>\n",
       "      <td>Frivolinas</td>\n",
       "      <td>2014</td>\n",
       "      <td>5.6</td>\n",
       "      <td>19</td>\n",
       "    </tr>\n",
       "    <tr>\n",
       "      <th>4</th>\n",
       "      <td>Mya ga naing</td>\n",
       "      <td>1996</td>\n",
       "      <td>7.5</td>\n",
       "      <td>21</td>\n",
       "    </tr>\n",
       "    <tr>\n",
       "      <th>...</th>\n",
       "      <td>...</td>\n",
       "      <td>...</td>\n",
       "      <td>...</td>\n",
       "      <td>...</td>\n",
       "    </tr>\n",
       "    <tr>\n",
       "      <th>213660</th>\n",
       "      <td>Safeguard</td>\n",
       "      <td>2020</td>\n",
       "      <td>3.5</td>\n",
       "      <td>225</td>\n",
       "    </tr>\n",
       "    <tr>\n",
       "      <th>213661</th>\n",
       "      <td>Il talento del calabrone</td>\n",
       "      <td>2020</td>\n",
       "      <td>5.8</td>\n",
       "      <td>1197</td>\n",
       "    </tr>\n",
       "    <tr>\n",
       "      <th>213662</th>\n",
       "      <td>Coven</td>\n",
       "      <td>2020</td>\n",
       "      <td>6.4</td>\n",
       "      <td>4014</td>\n",
       "    </tr>\n",
       "    <tr>\n",
       "      <th>213663</th>\n",
       "      <td>The Secret of China</td>\n",
       "      <td>2019</td>\n",
       "      <td>3.8</td>\n",
       "      <td>14</td>\n",
       "    </tr>\n",
       "    <tr>\n",
       "      <th>213664</th>\n",
       "      <td>Kuambil Lagi Hatiku</td>\n",
       "      <td>2019</td>\n",
       "      <td>8.3</td>\n",
       "      <td>6</td>\n",
       "    </tr>\n",
       "  </tbody>\n",
       "</table>\n",
       "<p>213665 rows × 4 columns</p>\n",
       "</div>"
      ],
      "text/plain": [
       "                           title  year  rating  votes\n",
       "0                 Spanish Fiesta  2019     6.9     29\n",
       "1         La tierra de los toros  2000     5.4     14\n",
       "2                  Dama de noche  1993     6.0     25\n",
       "3                     Frivolinas  2014     5.6     19\n",
       "4                   Mya ga naing  1996     7.5     21\n",
       "...                          ...   ...     ...    ...\n",
       "213660                 Safeguard  2020     3.5    225\n",
       "213661  Il talento del calabrone  2020     5.8   1197\n",
       "213662                     Coven  2020     6.4   4014\n",
       "213663       The Secret of China  2019     3.8     14\n",
       "213664       Kuambil Lagi Hatiku  2019     8.3      6\n",
       "\n",
       "[213665 rows x 4 columns]"
      ]
     },
     "execution_count": 132,
     "metadata": {},
     "output_type": "execute_result"
    }
   ],
   "source": [
    "df"
   ]
  },
  {
   "cell_type": "code",
   "execution_count": 135,
   "metadata": {},
   "outputs": [
    {
     "data": {
      "text/plain": [
       "title     Spanish Fiesta\n",
       "year                2019\n",
       "rating               6.9\n",
       "votes                 29\n",
       "Name: 0, dtype: object"
      ]
     },
     "execution_count": 135,
     "metadata": {},
     "output_type": "execute_result"
    }
   ],
   "source": [
    "df.iloc[0]"
   ]
  },
  {
   "cell_type": "code",
   "execution_count": null,
   "metadata": {},
   "outputs": [],
   "source": []
  }
 ],
 "metadata": {
  "kernelspec": {
   "display_name": "Python 3.10.4 64-bit",
   "language": "python",
   "name": "python3"
  },
  "language_info": {
   "codemirror_mode": {
    "name": "ipython",
    "version": 3
   },
   "file_extension": ".py",
   "mimetype": "text/x-python",
   "name": "python",
   "nbconvert_exporter": "python",
   "pygments_lexer": "ipython3",
   "version": "3.10.4"
  },
  "orig_nbformat": 4,
  "vscode": {
   "interpreter": {
    "hash": "f66e3edf856e3e4a3652763ddb6c2ab1c25665e5b9e1fed087bb1a040433f3bb"
   }
  }
 },
 "nbformat": 4,
 "nbformat_minor": 2
}

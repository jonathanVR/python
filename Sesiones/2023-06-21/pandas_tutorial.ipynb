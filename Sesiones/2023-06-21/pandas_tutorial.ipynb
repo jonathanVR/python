{
    "cells": [
        {
            "cell_type": "code",
            "execution_count": 43,
            "metadata": {},
            "outputs": [],
            "source": [
                "import pandas as pd"
            ]
        },
        {
            "attachments": {},
            "cell_type": "markdown",
            "metadata": {},
            "source": [
                "## DataFrames\n",
                "\n",
                "- The `pandas` module provides a powerful data-structure called a data frame.\n",
                "\n",
                "- It is similar, but not identical to an Excel spreadsheet,\n",
                "\n",
                "- A data frame has multiple columns, each of which can hold a *different* type of value.\n",
                "\n",
                "- Like a series, it has an index which provides a label for each and every row. \n",
                "\n",
                "\n",
                "    "
            ]
        },
        {
            "attachments": {},
            "cell_type": "markdown",
            "metadata": {},
            "source": [
                "## Loading Files with Pandas\n",
                "- We used Pandas in an earlier notebook to load the iris data file.  \n",
                "- Whenver you have a dataset with a variety of fields of various types, loading it into Pandas is a good strategy.\n",
                "- You can load data from Azure, from a local file, or from a url.  \n",
                "\n",
                "\n",
                "\n",
                "\n",
                "\n"
            ]
        },
        {
            "cell_type": "code",
            "execution_count": 44,
            "metadata": {},
            "outputs": [],
            "source": [
                "# We can load .csv files, but also .zip files which contain .csv files\n",
                "df = pd.read_csv('titles.csv')\n",
                "cast = pd.read_csv('cast.csv', sep='|')"
            ]
        },
        {
            "attachments": {},
            "cell_type": "markdown",
            "metadata": {},
            "source": [
                "## Taking a quick look of the dataframe.\n",
                "\n",
                "- We can quickly see the top contents of a dataframe by using `df.head()`.\n",
                "- By default, this will show the first 5 entries, but `head()` takes an argument to specify if you want more or less.\n",
                "- A similar method is `.tail()` which shows the bottom entries."
            ]
        },
        {
            "cell_type": "code",
            "execution_count": 45,
            "metadata": {},
            "outputs": [
                {
                    "data": {
                        "text/html": [
                            "<div>\n",
                            "<style scoped>\n",
                            "    .dataframe tbody tr th:only-of-type {\n",
                            "        vertical-align: middle;\n",
                            "    }\n",
                            "\n",
                            "    .dataframe tbody tr th {\n",
                            "        vertical-align: top;\n",
                            "    }\n",
                            "\n",
                            "    .dataframe thead th {\n",
                            "        text-align: right;\n",
                            "    }\n",
                            "</style>\n",
                            "<table border=\"1\" class=\"dataframe\">\n",
                            "  <thead>\n",
                            "    <tr style=\"text-align: right;\">\n",
                            "      <th></th>\n",
                            "      <th>name</th>\n",
                            "      <th>title</th>\n",
                            "      <th>year</th>\n",
                            "      <th>rating</th>\n",
                            "      <th>votes</th>\n",
                            "    </tr>\n",
                            "  </thead>\n",
                            "  <tbody>\n",
                            "    <tr>\n",
                            "      <th>0</th>\n",
                            "      <td>Ève Francis</td>\n",
                            "      <td>Spanish Fiesta</td>\n",
                            "      <td>2019</td>\n",
                            "      <td>6.9</td>\n",
                            "      <td>29</td>\n",
                            "    </tr>\n",
                            "    <tr>\n",
                            "      <th>1</th>\n",
                            "      <td>Gabriel Gabrio</td>\n",
                            "      <td>Spanish Fiesta</td>\n",
                            "      <td>2019</td>\n",
                            "      <td>6.9</td>\n",
                            "      <td>29</td>\n",
                            "    </tr>\n",
                            "    <tr>\n",
                            "      <th>2</th>\n",
                            "      <td>Jean Toulout</td>\n",
                            "      <td>Spanish Fiesta</td>\n",
                            "      <td>2019</td>\n",
                            "      <td>6.9</td>\n",
                            "      <td>29</td>\n",
                            "    </tr>\n",
                            "    <tr>\n",
                            "      <th>3</th>\n",
                            "      <td>Gaston Modot</td>\n",
                            "      <td>Spanish Fiesta</td>\n",
                            "      <td>2019</td>\n",
                            "      <td>6.9</td>\n",
                            "      <td>29</td>\n",
                            "    </tr>\n",
                            "    <tr>\n",
                            "      <th>4</th>\n",
                            "      <td>Antonio Cañero</td>\n",
                            "      <td>La tierra de los toros</td>\n",
                            "      <td>2000</td>\n",
                            "      <td>5.4</td>\n",
                            "      <td>14</td>\n",
                            "    </tr>\n",
                            "  </tbody>\n",
                            "</table>\n",
                            "</div>"
                        ],
                        "text/plain": [
                            "             name                   title  year  rating  votes\n",
                            "0     Ève Francis          Spanish Fiesta  2019     6.9     29\n",
                            "1  Gabriel Gabrio          Spanish Fiesta  2019     6.9     29\n",
                            "2    Jean Toulout          Spanish Fiesta  2019     6.9     29\n",
                            "3    Gaston Modot          Spanish Fiesta  2019     6.9     29\n",
                            "4  Antonio Cañero  La tierra de los toros  2000     5.4     14"
                        ]
                    },
                    "execution_count": 45,
                    "metadata": {},
                    "output_type": "execute_result"
                }
            ],
            "source": [
                "cast.head()"
            ]
        },
        {
            "cell_type": "code",
            "execution_count": 46,
            "metadata": {},
            "outputs": [
                {
                    "data": {
                        "text/html": [
                            "<div>\n",
                            "<style scoped>\n",
                            "    .dataframe tbody tr th:only-of-type {\n",
                            "        vertical-align: middle;\n",
                            "    }\n",
                            "\n",
                            "    .dataframe tbody tr th {\n",
                            "        vertical-align: top;\n",
                            "    }\n",
                            "\n",
                            "    .dataframe thead th {\n",
                            "        text-align: right;\n",
                            "    }\n",
                            "</style>\n",
                            "<table border=\"1\" class=\"dataframe\">\n",
                            "  <thead>\n",
                            "    <tr style=\"text-align: right;\">\n",
                            "      <th></th>\n",
                            "      <th>name</th>\n",
                            "      <th>title</th>\n",
                            "      <th>year</th>\n",
                            "      <th>rating</th>\n",
                            "      <th>votes</th>\n",
                            "    </tr>\n",
                            "  </thead>\n",
                            "  <tbody>\n",
                            "    <tr>\n",
                            "      <th>0</th>\n",
                            "      <td>Ève Francis</td>\n",
                            "      <td>Spanish Fiesta</td>\n",
                            "      <td>2019</td>\n",
                            "      <td>6.9</td>\n",
                            "      <td>29</td>\n",
                            "    </tr>\n",
                            "    <tr>\n",
                            "      <th>1</th>\n",
                            "      <td>Gabriel Gabrio</td>\n",
                            "      <td>Spanish Fiesta</td>\n",
                            "      <td>2019</td>\n",
                            "      <td>6.9</td>\n",
                            "      <td>29</td>\n",
                            "    </tr>\n",
                            "    <tr>\n",
                            "      <th>2</th>\n",
                            "      <td>Jean Toulout</td>\n",
                            "      <td>Spanish Fiesta</td>\n",
                            "      <td>2019</td>\n",
                            "      <td>6.9</td>\n",
                            "      <td>29</td>\n",
                            "    </tr>\n",
                            "  </tbody>\n",
                            "</table>\n",
                            "</div>"
                        ],
                        "text/plain": [
                            "             name           title  year  rating  votes\n",
                            "0     Ève Francis  Spanish Fiesta  2019     6.9     29\n",
                            "1  Gabriel Gabrio  Spanish Fiesta  2019     6.9     29\n",
                            "2    Jean Toulout  Spanish Fiesta  2019     6.9     29"
                        ]
                    },
                    "execution_count": 46,
                    "metadata": {},
                    "output_type": "execute_result"
                }
            ],
            "source": [
                "cast.head(3)"
            ]
        },
        {
            "attachments": {},
            "cell_type": "markdown",
            "metadata": {},
            "source": [
                "## Functions and DataFrames\n",
                "\n",
                "- We can do calculations and functions with dataframes just like series.\n",
                "- Functions will typically return a dataframe or a series, depending. \n",
                "- To make a copy, don't assign the dataframe to a new variable, instead use the `copy` method shown below:  \n",
                "`df2= df.copy()` (same as lists)"
            ]
        },
        {
            "cell_type": "code",
            "execution_count": 47,
            "metadata": {},
            "outputs": [
                {
                    "name": "stdout",
                    "output_type": "stream",
                    "text": [
                        "         name  title   year  rating  votes\n",
                        "0       False  False  False   False  False\n",
                        "1       False  False  False   False  False\n",
                        "2       False  False  False   False  False\n",
                        "3       False  False  False   False  False\n",
                        "4       False  False  False   False  False\n",
                        "...       ...    ...    ...     ...    ...\n",
                        "851790  False  False  False   False  False\n",
                        "851791  False  False  False   False  False\n",
                        "851792  False  False  False   False  False\n",
                        "851793  False  False  False   False  False\n",
                        "851794  False  False  False   False  False\n",
                        "\n",
                        "[851795 rows x 5 columns] \n",
                        " <class 'pandas.core.frame.DataFrame'>\n",
                        "\n",
                        "Null sum for each column \n",
                        " name      0\n",
                        "title     0\n",
                        "year      0\n",
                        "rating    0\n",
                        "votes     0\n",
                        "dtype: int64 \n",
                        " <class 'pandas.core.series.Series'>\n"
                    ]
                }
            ],
            "source": [
                "#Info\n",
                "nulls=cast.isnull()\n",
                "print(nulls, \"\\n\", type(nulls))\n",
                "\n",
                "nullsum=nulls.sum()\n",
                "\n",
                "print(\"\\nNull sum for each column \\n\", nullsum, \"\\n\", type(nullsum))\n",
                "\n",
                "# print(\"\\nWe can slice these results to get the answer for x \\n\", nullsum.x)\n",
                "# type(nullsum.x)"
            ]
        },
        {
            "attachments": {},
            "cell_type": "markdown",
            "metadata": {},
            "source": [
                "## Summary statistics\n",
                "- To quickly obtain summary statistics on numerical values use the `describe` method.\n",
                "- You will get a warning if there are missing values."
            ]
        },
        {
            "cell_type": "code",
            "execution_count": 48,
            "metadata": {},
            "outputs": [
                {
                    "data": {
                        "text/html": [
                            "<div>\n",
                            "<style scoped>\n",
                            "    .dataframe tbody tr th:only-of-type {\n",
                            "        vertical-align: middle;\n",
                            "    }\n",
                            "\n",
                            "    .dataframe tbody tr th {\n",
                            "        vertical-align: top;\n",
                            "    }\n",
                            "\n",
                            "    .dataframe thead th {\n",
                            "        text-align: right;\n",
                            "    }\n",
                            "</style>\n",
                            "<table border=\"1\" class=\"dataframe\">\n",
                            "  <thead>\n",
                            "    <tr style=\"text-align: right;\">\n",
                            "      <th></th>\n",
                            "      <th>year</th>\n",
                            "      <th>rating</th>\n",
                            "      <th>votes</th>\n",
                            "    </tr>\n",
                            "  </thead>\n",
                            "  <tbody>\n",
                            "    <tr>\n",
                            "      <th>count</th>\n",
                            "      <td>851795.000000</td>\n",
                            "      <td>851795.000000</td>\n",
                            "      <td>8.517950e+05</td>\n",
                            "    </tr>\n",
                            "    <tr>\n",
                            "      <th>mean</th>\n",
                            "      <td>2002.935385</td>\n",
                            "      <td>6.032785</td>\n",
                            "      <td>4.104524e+03</td>\n",
                            "    </tr>\n",
                            "    <tr>\n",
                            "      <th>std</th>\n",
                            "      <td>14.500983</td>\n",
                            "      <td>1.390772</td>\n",
                            "      <td>3.673918e+04</td>\n",
                            "    </tr>\n",
                            "    <tr>\n",
                            "      <th>min</th>\n",
                            "      <td>1970.000000</td>\n",
                            "      <td>1.000000</td>\n",
                            "      <td>5.000000e+00</td>\n",
                            "    </tr>\n",
                            "    <tr>\n",
                            "      <th>25%</th>\n",
                            "      <td>1992.000000</td>\n",
                            "      <td>5.200000</td>\n",
                            "      <td>1.900000e+01</td>\n",
                            "    </tr>\n",
                            "    <tr>\n",
                            "      <th>50%</th>\n",
                            "      <td>2008.000000</td>\n",
                            "      <td>6.200000</td>\n",
                            "      <td>6.600000e+01</td>\n",
                            "    </tr>\n",
                            "    <tr>\n",
                            "      <th>75%</th>\n",
                            "      <td>2015.000000</td>\n",
                            "      <td>7.000000</td>\n",
                            "      <td>3.480000e+02</td>\n",
                            "    </tr>\n",
                            "    <tr>\n",
                            "      <th>max</th>\n",
                            "      <td>2021.000000</td>\n",
                            "      <td>10.000000</td>\n",
                            "      <td>2.476378e+06</td>\n",
                            "    </tr>\n",
                            "  </tbody>\n",
                            "</table>\n",
                            "</div>"
                        ],
                        "text/plain": [
                            "                year         rating         votes\n",
                            "count  851795.000000  851795.000000  8.517950e+05\n",
                            "mean     2002.935385       6.032785  4.104524e+03\n",
                            "std        14.500983       1.390772  3.673918e+04\n",
                            "min      1970.000000       1.000000  5.000000e+00\n",
                            "25%      1992.000000       5.200000  1.900000e+01\n",
                            "50%      2008.000000       6.200000  6.600000e+01\n",
                            "75%      2015.000000       7.000000  3.480000e+02\n",
                            "max      2021.000000      10.000000  2.476378e+06"
                        ]
                    },
                    "execution_count": 48,
                    "metadata": {},
                    "output_type": "execute_result"
                }
            ],
            "source": [
                "cast.describe()"
            ]
        },
        {
            "attachments": {},
            "cell_type": "markdown",
            "metadata": {},
            "source": [
                "### Data Types and shape\n",
                "- Each will have an inferred data type. "
            ]
        },
        {
            "cell_type": "code",
            "execution_count": 49,
            "metadata": {},
            "outputs": [
                {
                    "name": "stdout",
                    "output_type": "stream",
                    "text": [
                        "name       object\n",
                        "title      object\n",
                        "year        int64\n",
                        "rating    float64\n",
                        "votes       int64\n",
                        "dtype: object\n"
                    ]
                }
            ],
            "source": [
                "print(cast.dtypes)"
            ]
        },
        {
            "cell_type": "code",
            "execution_count": 50,
            "metadata": {},
            "outputs": [
                {
                    "name": "stdout",
                    "output_type": "stream",
                    "text": [
                        "(213665, 4)\n",
                        "213665\n"
                    ]
                }
            ],
            "source": [
                "# .shape gives the total number of rows and columns\n",
                "print(df.shape)\n",
                "# .len gives the total number of rows\n",
                "print(len(df))"
            ]
        },
        {
            "attachments": {},
            "cell_type": "markdown",
            "metadata": {},
            "source": [
                "# Accessing the Row and Column Labels\n",
                "\n",
                "- The row labels (index) can be accessed through `df.index`.\n",
                "- The column labels can be accessed through `df.columns`.\n"
            ]
        },
        {
            "cell_type": "code",
            "execution_count": 51,
            "metadata": {},
            "outputs": [
                {
                    "data": {
                        "text/plain": [
                            "RangeIndex(start=0, stop=851795, step=1)"
                        ]
                    },
                    "execution_count": 51,
                    "metadata": {},
                    "output_type": "execute_result"
                }
            ],
            "source": [
                "cast.index"
            ]
        },
        {
            "cell_type": "code",
            "execution_count": 52,
            "metadata": {},
            "outputs": [
                {
                    "data": {
                        "text/plain": [
                            "Index(['name', 'title', 'year', 'rating', 'votes'], dtype='object')"
                        ]
                    },
                    "execution_count": 52,
                    "metadata": {},
                    "output_type": "execute_result"
                }
            ],
            "source": [
                "cast.columns"
            ]
        },
        {
            "attachments": {},
            "cell_type": "markdown",
            "metadata": {},
            "source": [
                "## Indexing/Slicing Rows of DataFrames\n",
                "- Simple ways of selecting all rows and columns (`df[:]`)\n",
                "- Rows can be accessed via a key or a integer corresponding to the row number. \n",
                "- Omitting a value generally means *all values* before or after an item.\n",
                "- When we retrieve a single or mulitiple rows, the result is a Dataframe.\n",
                "- Several ways, either directly, with `iloc`, or with `loc`. (See Examples).\n",
                "- Read more [here](http://pandas.pydata.org/pandas-docs/stable/indexing.html)\n",
                "\n"
            ]
        },
        {
            "attachments": {},
            "cell_type": "markdown",
            "metadata": {},
            "source": [
                "## Selecting Rows\n",
                "- Similarly, we also might want to select out rows, and we can utilize the same syntax.\n",
                "- [iloc](https://pandas.pydata.org/pandas-docs/stable/generated/pandas.DataFrame.iloc.html)"
            ]
        },
        {
            "cell_type": "code",
            "execution_count": 53,
            "metadata": {},
            "outputs": [
                {
                    "name": "stdout",
                    "output_type": "stream",
                    "text": [
                        "                    title  year  rating  votes\n",
                        "0          Spanish Fiesta  2019     6.9     29\n",
                        "1  La tierra de los toros  2000     5.4     14\n",
                        "2           Dama de noche  1993     6.0     25\n",
                        "----------\n",
                        "                    title  year  rating  votes\n",
                        "0          Spanish Fiesta  2019     6.9     29\n",
                        "1  La tierra de los toros  2000     5.4     14\n",
                        "2           Dama de noche  1993     6.0     25\n",
                        "----------\n",
                        "                    title  year  rating  votes\n",
                        "0          Spanish Fiesta  2019     6.9     29\n",
                        "1  La tierra de los toros  2000     5.4     14\n",
                        "2           Dama de noche  1993     6.0     25\n",
                        "----------\n",
                        "                    title  year  rating  votes\n",
                        "0          Spanish Fiesta  2019     6.9     29\n",
                        "1  La tierra de los toros  2000     5.4     14\n",
                        "2           Dama de noche  1993     6.0     25\n",
                        "----------\n",
                        "                    title  year  rating  votes\n",
                        "0          Spanish Fiesta  2019     6.9     29\n",
                        "1  La tierra de los toros  2000     5.4     14\n",
                        "2           Dama de noche  1993     6.0     25\n"
                    ]
                }
            ],
            "source": [
                "\n",
                "## Selecting rows\n",
                "print (df[0:3])     #Select rows 1-3\n",
                "print (\"----------\")\n",
                "print (df.iloc[0:3,:])     #Select rows 1-3\n",
                "print (\"----------\")\n",
                "print (df.iloc[0:3,])      #Select rows 1-3\n",
                "print (\"----------\")\n",
                "print (df.iloc[0:3])       #Select rows 1-3\n",
                "print (\"----------\")\n",
                "print (df.iloc[[0,1,2]])   #Select rows 1, 2, and 4\n"
            ]
        },
        {
            "attachments": {},
            "cell_type": "markdown",
            "metadata": {},
            "source": [
                "## Selecting a particular column\n",
                "- We can filter a particular row by indexing it by name as `df['column_name']\n",
                "- If the column name is in lower case without spaces, we can call it as `df.column_name`"
            ]
        },
        {
            "cell_type": "code",
            "execution_count": 54,
            "metadata": {},
            "outputs": [
                {
                    "data": {
                        "text/plain": [
                            "0            Spanish Fiesta\n",
                            "1            Spanish Fiesta\n",
                            "2            Spanish Fiesta\n",
                            "3            Spanish Fiesta\n",
                            "4    La tierra de los toros\n",
                            "Name: title, dtype: object"
                        ]
                    },
                    "execution_count": 54,
                    "metadata": {},
                    "output_type": "execute_result"
                }
            ],
            "source": [
                "cast['title'].head()"
            ]
        },
        {
            "attachments": {},
            "cell_type": "markdown",
            "metadata": {},
            "source": [
                "## Pandas Series \n",
                "- A `dataframe` can be thought of as a collection of `series` objects.\n",
                "- You can distinguish between a `dataframe` and `series` by the formatting in a jupyter notebook.\n",
                "- Any column selected as `df['column_name']` will give you a series.\n",
                "- If you want a dataframe with a single column instead of a series, you can pass a single item list to a dataframe as `df[['column_name']]`\n",
                "![](https://storage.googleapis.com/lds-media/images/series-and-dataframe.original.png)"
            ]
        },
        {
            "cell_type": "code",
            "execution_count": 55,
            "metadata": {},
            "outputs": [
                {
                    "data": {
                        "text/html": [
                            "<div>\n",
                            "<style scoped>\n",
                            "    .dataframe tbody tr th:only-of-type {\n",
                            "        vertical-align: middle;\n",
                            "    }\n",
                            "\n",
                            "    .dataframe tbody tr th {\n",
                            "        vertical-align: top;\n",
                            "    }\n",
                            "\n",
                            "    .dataframe thead th {\n",
                            "        text-align: right;\n",
                            "    }\n",
                            "</style>\n",
                            "<table border=\"1\" class=\"dataframe\">\n",
                            "  <thead>\n",
                            "    <tr style=\"text-align: right;\">\n",
                            "      <th></th>\n",
                            "      <th>title</th>\n",
                            "      <th>year</th>\n",
                            "      <th>rating</th>\n",
                            "      <th>votes</th>\n",
                            "    </tr>\n",
                            "  </thead>\n",
                            "  <tbody>\n",
                            "    <tr>\n",
                            "      <th>0</th>\n",
                            "      <td>Spanish Fiesta</td>\n",
                            "      <td>2019</td>\n",
                            "      <td>6.9</td>\n",
                            "      <td>29</td>\n",
                            "    </tr>\n",
                            "    <tr>\n",
                            "      <th>1</th>\n",
                            "      <td>La tierra de los toros</td>\n",
                            "      <td>2000</td>\n",
                            "      <td>5.4</td>\n",
                            "      <td>14</td>\n",
                            "    </tr>\n",
                            "    <tr>\n",
                            "      <th>2</th>\n",
                            "      <td>Dama de noche</td>\n",
                            "      <td>1993</td>\n",
                            "      <td>6.0</td>\n",
                            "      <td>25</td>\n",
                            "    </tr>\n",
                            "    <tr>\n",
                            "      <th>3</th>\n",
                            "      <td>Frivolinas</td>\n",
                            "      <td>2014</td>\n",
                            "      <td>5.6</td>\n",
                            "      <td>19</td>\n",
                            "    </tr>\n",
                            "    <tr>\n",
                            "      <th>4</th>\n",
                            "      <td>Mya ga naing</td>\n",
                            "      <td>1996</td>\n",
                            "      <td>7.5</td>\n",
                            "      <td>21</td>\n",
                            "    </tr>\n",
                            "  </tbody>\n",
                            "</table>\n",
                            "</div>"
                        ],
                        "text/plain": [
                            "                    title  year  rating  votes\n",
                            "0          Spanish Fiesta  2019     6.9     29\n",
                            "1  La tierra de los toros  2000     5.4     14\n",
                            "2           Dama de noche  1993     6.0     25\n",
                            "3              Frivolinas  2014     5.6     19\n",
                            "4            Mya ga naing  1996     7.5     21"
                        ]
                    },
                    "execution_count": 55,
                    "metadata": {},
                    "output_type": "execute_result"
                }
            ],
            "source": [
                "df.head()"
            ]
        },
        {
            "cell_type": "code",
            "execution_count": 56,
            "metadata": {},
            "outputs": [
                {
                    "data": {
                        "text/plain": [
                            "0                   Spanish Fiesta\n",
                            "1           La tierra de los toros\n",
                            "2                    Dama de noche\n",
                            "3                       Frivolinas\n",
                            "4                     Mya ga naing\n",
                            "                    ...           \n",
                            "213660                   Safeguard\n",
                            "213661    Il talento del calabrone\n",
                            "213662                       Coven\n",
                            "213663         The Secret of China\n",
                            "213664         Kuambil Lagi Hatiku\n",
                            "Name: title, Length: 213665, dtype: object"
                        ]
                    },
                    "execution_count": 56,
                    "metadata": {},
                    "output_type": "execute_result"
                }
            ],
            "source": [
                "df['title']"
            ]
        },
        {
            "cell_type": "code",
            "execution_count": 57,
            "metadata": {},
            "outputs": [
                {
                    "data": {
                        "text/plain": [
                            "pandas.core.series.Series"
                        ]
                    },
                    "execution_count": 57,
                    "metadata": {},
                    "output_type": "execute_result"
                }
            ],
            "source": [
                "type(df['title'])"
            ]
        },
        {
            "cell_type": "code",
            "execution_count": 58,
            "metadata": {},
            "outputs": [
                {
                    "data": {
                        "text/plain": [
                            "pandas.core.frame.DataFrame"
                        ]
                    },
                    "execution_count": 58,
                    "metadata": {},
                    "output_type": "execute_result"
                }
            ],
            "source": [
                "type(df[['title']])"
            ]
        },
        {
            "attachments": {},
            "cell_type": "markdown",
            "metadata": {},
            "source": [
                "## Intro to Filters (Logical indexing)\n",
                "- Filters are the selection of rows based on criteria.\n",
                "- We can select based on specific criteria.\n",
                "- These criteria can be connected together.\n",
                "- Most of the time we won't specfically assign selection critia to a list. "
            ]
        },
        {
            "cell_type": "code",
            "execution_count": 59,
            "metadata": {},
            "outputs": [
                {
                    "name": "stdout",
                    "output_type": "stream",
                    "text": [
                        "                           title  year  rating  votes\n",
                        "0                 Spanish Fiesta  2019     6.9     29\n",
                        "1         La tierra de los toros  2000     5.4     14\n",
                        "2                  Dama de noche  1993     6.0     25\n",
                        "3                     Frivolinas  2014     5.6     19\n",
                        "4                   Mya ga naing  1996     7.5     21\n",
                        "...                          ...   ...     ...    ...\n",
                        "213660                 Safeguard  2020     3.5    225\n",
                        "213661  Il talento del calabrone  2020     5.8   1197\n",
                        "213662                     Coven  2020     6.4   4014\n",
                        "213663       The Secret of China  2019     3.8     14\n",
                        "213664       Kuambil Lagi Hatiku  2019     8.3      6\n",
                        "\n",
                        "[213665 rows x 4 columns]\n"
                    ]
                },
                {
                    "data": {
                        "text/plain": [
                            "0          True\n",
                            "1          True\n",
                            "2         False\n",
                            "3          True\n",
                            "4         False\n",
                            "          ...  \n",
                            "213660     True\n",
                            "213661     True\n",
                            "213662     True\n",
                            "213663     True\n",
                            "213664     True\n",
                            "Name: year, Length: 213665, dtype: bool"
                        ]
                    },
                    "execution_count": 59,
                    "metadata": {},
                    "output_type": "execute_result"
                }
            ],
            "source": [
                "# At the foundation of the filter is a boolean array based on some type of condition. \n",
                "print(df)\n",
                "df['year'] >= 2000"
            ]
        },
        {
            "cell_type": "code",
            "execution_count": 60,
            "metadata": {},
            "outputs": [
                {
                    "data": {
                        "text/html": [
                            "<div>\n",
                            "<style scoped>\n",
                            "    .dataframe tbody tr th:only-of-type {\n",
                            "        vertical-align: middle;\n",
                            "    }\n",
                            "\n",
                            "    .dataframe tbody tr th {\n",
                            "        vertical-align: top;\n",
                            "    }\n",
                            "\n",
                            "    .dataframe thead th {\n",
                            "        text-align: right;\n",
                            "    }\n",
                            "</style>\n",
                            "<table border=\"1\" class=\"dataframe\">\n",
                            "  <thead>\n",
                            "    <tr style=\"text-align: right;\">\n",
                            "      <th></th>\n",
                            "      <th>title</th>\n",
                            "      <th>year</th>\n",
                            "      <th>rating</th>\n",
                            "      <th>votes</th>\n",
                            "    </tr>\n",
                            "  </thead>\n",
                            "  <tbody>\n",
                            "    <tr>\n",
                            "      <th>0</th>\n",
                            "      <td>Spanish Fiesta</td>\n",
                            "      <td>2019</td>\n",
                            "      <td>6.9</td>\n",
                            "      <td>29</td>\n",
                            "    </tr>\n",
                            "    <tr>\n",
                            "      <th>1</th>\n",
                            "      <td>La tierra de los toros</td>\n",
                            "      <td>2000</td>\n",
                            "      <td>5.4</td>\n",
                            "      <td>14</td>\n",
                            "    </tr>\n",
                            "    <tr>\n",
                            "      <th>3</th>\n",
                            "      <td>Frivolinas</td>\n",
                            "      <td>2014</td>\n",
                            "      <td>5.6</td>\n",
                            "      <td>19</td>\n",
                            "    </tr>\n",
                            "    <tr>\n",
                            "      <th>6</th>\n",
                            "      <td>Kate &amp; Leopold</td>\n",
                            "      <td>2001</td>\n",
                            "      <td>6.4</td>\n",
                            "      <td>81684</td>\n",
                            "    </tr>\n",
                            "    <tr>\n",
                            "      <th>7</th>\n",
                            "      <td>Muhomatsu no issho</td>\n",
                            "      <td>2008</td>\n",
                            "      <td>7.3</td>\n",
                            "      <td>108</td>\n",
                            "    </tr>\n",
                            "    <tr>\n",
                            "      <th>...</th>\n",
                            "      <td>...</td>\n",
                            "      <td>...</td>\n",
                            "      <td>...</td>\n",
                            "      <td>...</td>\n",
                            "    </tr>\n",
                            "    <tr>\n",
                            "      <th>213660</th>\n",
                            "      <td>Safeguard</td>\n",
                            "      <td>2020</td>\n",
                            "      <td>3.5</td>\n",
                            "      <td>225</td>\n",
                            "    </tr>\n",
                            "    <tr>\n",
                            "      <th>213661</th>\n",
                            "      <td>Il talento del calabrone</td>\n",
                            "      <td>2020</td>\n",
                            "      <td>5.8</td>\n",
                            "      <td>1197</td>\n",
                            "    </tr>\n",
                            "    <tr>\n",
                            "      <th>213662</th>\n",
                            "      <td>Coven</td>\n",
                            "      <td>2020</td>\n",
                            "      <td>6.4</td>\n",
                            "      <td>4014</td>\n",
                            "    </tr>\n",
                            "    <tr>\n",
                            "      <th>213663</th>\n",
                            "      <td>The Secret of China</td>\n",
                            "      <td>2019</td>\n",
                            "      <td>3.8</td>\n",
                            "      <td>14</td>\n",
                            "    </tr>\n",
                            "    <tr>\n",
                            "      <th>213664</th>\n",
                            "      <td>Kuambil Lagi Hatiku</td>\n",
                            "      <td>2019</td>\n",
                            "      <td>8.3</td>\n",
                            "      <td>6</td>\n",
                            "    </tr>\n",
                            "  </tbody>\n",
                            "</table>\n",
                            "<p>145678 rows × 4 columns</p>\n",
                            "</div>"
                        ],
                        "text/plain": [
                            "                           title  year  rating  votes\n",
                            "0                 Spanish Fiesta  2019     6.9     29\n",
                            "1         La tierra de los toros  2000     5.4     14\n",
                            "3                     Frivolinas  2014     5.6     19\n",
                            "6                 Kate & Leopold  2001     6.4  81684\n",
                            "7             Muhomatsu no issho  2008     7.3    108\n",
                            "...                          ...   ...     ...    ...\n",
                            "213660                 Safeguard  2020     3.5    225\n",
                            "213661  Il talento del calabrone  2020     5.8   1197\n",
                            "213662                     Coven  2020     6.4   4014\n",
                            "213663       The Secret of China  2019     3.8     14\n",
                            "213664       Kuambil Lagi Hatiku  2019     8.3      6\n",
                            "\n",
                            "[145678 rows x 4 columns]"
                        ]
                    },
                    "execution_count": 60,
                    "metadata": {},
                    "output_type": "execute_result"
                }
            ],
            "source": [
                "#notice how the logical statement is inside the dataframe specification.  This creates an intermediate boolean array. \n",
                "df[df['year'] >= 2000]"
            ]
        },
        {
            "cell_type": "code",
            "execution_count": 61,
            "metadata": {},
            "outputs": [
                {
                    "data": {
                        "text/html": [
                            "<div>\n",
                            "<style scoped>\n",
                            "    .dataframe tbody tr th:only-of-type {\n",
                            "        vertical-align: middle;\n",
                            "    }\n",
                            "\n",
                            "    .dataframe tbody tr th {\n",
                            "        vertical-align: top;\n",
                            "    }\n",
                            "\n",
                            "    .dataframe thead th {\n",
                            "        text-align: right;\n",
                            "    }\n",
                            "</style>\n",
                            "<table border=\"1\" class=\"dataframe\">\n",
                            "  <thead>\n",
                            "    <tr style=\"text-align: right;\">\n",
                            "      <th></th>\n",
                            "      <th>title</th>\n",
                            "      <th>year</th>\n",
                            "      <th>rating</th>\n",
                            "      <th>votes</th>\n",
                            "    </tr>\n",
                            "  </thead>\n",
                            "  <tbody>\n",
                            "    <tr>\n",
                            "      <th>0</th>\n",
                            "      <td>Spanish Fiesta</td>\n",
                            "      <td>2019</td>\n",
                            "      <td>6.9</td>\n",
                            "      <td>29</td>\n",
                            "    </tr>\n",
                            "    <tr>\n",
                            "      <th>1</th>\n",
                            "      <td>La tierra de los toros</td>\n",
                            "      <td>2000</td>\n",
                            "      <td>5.4</td>\n",
                            "      <td>14</td>\n",
                            "    </tr>\n",
                            "    <tr>\n",
                            "      <th>3</th>\n",
                            "      <td>Frivolinas</td>\n",
                            "      <td>2014</td>\n",
                            "      <td>5.6</td>\n",
                            "      <td>19</td>\n",
                            "    </tr>\n",
                            "    <tr>\n",
                            "      <th>6</th>\n",
                            "      <td>Kate &amp; Leopold</td>\n",
                            "      <td>2001</td>\n",
                            "      <td>6.4</td>\n",
                            "      <td>81684</td>\n",
                            "    </tr>\n",
                            "    <tr>\n",
                            "      <th>7</th>\n",
                            "      <td>Muhomatsu no issho</td>\n",
                            "      <td>2008</td>\n",
                            "      <td>7.3</td>\n",
                            "      <td>108</td>\n",
                            "    </tr>\n",
                            "    <tr>\n",
                            "      <th>...</th>\n",
                            "      <td>...</td>\n",
                            "      <td>...</td>\n",
                            "      <td>...</td>\n",
                            "      <td>...</td>\n",
                            "    </tr>\n",
                            "    <tr>\n",
                            "      <th>213660</th>\n",
                            "      <td>Safeguard</td>\n",
                            "      <td>2020</td>\n",
                            "      <td>3.5</td>\n",
                            "      <td>225</td>\n",
                            "    </tr>\n",
                            "    <tr>\n",
                            "      <th>213661</th>\n",
                            "      <td>Il talento del calabrone</td>\n",
                            "      <td>2020</td>\n",
                            "      <td>5.8</td>\n",
                            "      <td>1197</td>\n",
                            "    </tr>\n",
                            "    <tr>\n",
                            "      <th>213662</th>\n",
                            "      <td>Coven</td>\n",
                            "      <td>2020</td>\n",
                            "      <td>6.4</td>\n",
                            "      <td>4014</td>\n",
                            "    </tr>\n",
                            "    <tr>\n",
                            "      <th>213663</th>\n",
                            "      <td>The Secret of China</td>\n",
                            "      <td>2019</td>\n",
                            "      <td>3.8</td>\n",
                            "      <td>14</td>\n",
                            "    </tr>\n",
                            "    <tr>\n",
                            "      <th>213664</th>\n",
                            "      <td>Kuambil Lagi Hatiku</td>\n",
                            "      <td>2019</td>\n",
                            "      <td>8.3</td>\n",
                            "      <td>6</td>\n",
                            "    </tr>\n",
                            "  </tbody>\n",
                            "</table>\n",
                            "<p>145678 rows × 4 columns</p>\n",
                            "</div>"
                        ],
                        "text/plain": [
                            "                           title  year  rating  votes\n",
                            "0                 Spanish Fiesta  2019     6.9     29\n",
                            "1         La tierra de los toros  2000     5.4     14\n",
                            "3                     Frivolinas  2014     5.6     19\n",
                            "6                 Kate & Leopold  2001     6.4  81684\n",
                            "7             Muhomatsu no issho  2008     7.3    108\n",
                            "...                          ...   ...     ...    ...\n",
                            "213660                 Safeguard  2020     3.5    225\n",
                            "213661  Il talento del calabrone  2020     5.8   1197\n",
                            "213662                     Coven  2020     6.4   4014\n",
                            "213663       The Secret of China  2019     3.8     14\n",
                            "213664       Kuambil Lagi Hatiku  2019     8.3      6\n",
                            "\n",
                            "[145678 rows x 4 columns]"
                        ]
                    },
                    "execution_count": 61,
                    "metadata": {},
                    "output_type": "execute_result"
                }
            ],
            "source": [
                "#This is an alternate method where we first set the boolean array. \n",
                "included=df['year'] >= 2000\n",
                "df[included]\n"
            ]
        },
        {
            "cell_type": "code",
            "execution_count": 62,
            "metadata": {},
            "outputs": [
                {
                    "name": "stdout",
                    "output_type": "stream",
                    "text": [
                        "0          True\n",
                        "1          True\n",
                        "2         False\n",
                        "3          True\n",
                        "4         False\n",
                        "          ...  \n",
                        "213660     True\n",
                        "213661     True\n",
                        "213662     True\n",
                        "213663     True\n",
                        "213664     True\n",
                        "Name: year, Length: 213665, dtype: bool <class 'pandas.core.series.Series'>\n",
                        "                           title  year  rating  votes\n",
                        "0                 Spanish Fiesta  2019     6.9     29\n",
                        "1         La tierra de los toros  2000     5.4     14\n",
                        "3                     Frivolinas  2014     5.6     19\n",
                        "6                 Kate & Leopold  2001     6.4  81684\n",
                        "7             Muhomatsu no issho  2008     7.3    108\n",
                        "...                          ...   ...     ...    ...\n",
                        "213660                 Safeguard  2020     3.5    225\n",
                        "213661  Il talento del calabrone  2020     5.8   1197\n",
                        "213662                     Coven  2020     6.4   4014\n",
                        "213663       The Secret of China  2019     3.8     14\n",
                        "213664       Kuambil Lagi Hatiku  2019     8.3      6\n",
                        "\n",
                        "[145678 rows x 4 columns]\n"
                    ]
                }
            ],
            "source": [
                "#We can now generate a vector based on a critera and then use this for selection\n",
                "select = df['year']>=2000\n",
                "print(select,type(select))\n",
                "#print(df.loc[select,:]) #Notice by including only one variable we are selecting rows and all columns.\n",
                "print(df[select]) #Notice by including only one variable we are selecting rows and all columns."
            ]
        },
        {
            "attachments": {},
            "cell_type": "markdown",
            "metadata": {},
            "source": [
                "## Operations on `Series` \n",
                "- By a single command, we can operate on all rows of a series.\n",
                "- For eg. to get the decade in which the movie is released, we could perform `df['year']//10 * 10`"
            ]
        },
        {
            "cell_type": "code",
            "execution_count": 63,
            "metadata": {},
            "outputs": [
                {
                    "data": {
                        "text/plain": [
                            "0         2010\n",
                            "1         2000\n",
                            "2         1990\n",
                            "3         2010\n",
                            "4         1990\n",
                            "          ... \n",
                            "213660    2020\n",
                            "213661    2020\n",
                            "213662    2020\n",
                            "213663    2010\n",
                            "213664    2010\n",
                            "Name: year, Length: 213665, dtype: int64"
                        ]
                    },
                    "execution_count": 63,
                    "metadata": {},
                    "output_type": "execute_result"
                }
            ],
            "source": [
                "# Operations on series\n",
                "(df.year //10 * 10)"
            ]
        },
        {
            "cell_type": "code",
            "execution_count": 64,
            "metadata": {},
            "outputs": [
                {
                    "data": {
                        "text/plain": [
                            "<Axes: xlabel='year'>"
                        ]
                    },
                    "execution_count": 64,
                    "metadata": {},
                    "output_type": "execute_result"
                },
                {
                    "data": {
                        "image/png": "[encoded data removed]",
                        "text/plain": [
                            "<Figure size 640x480 with 1 Axes>"
                        ]
                    },
                    "metadata": {},
                    "output_type": "display_data"
                }
            ],
            "source": [
                "# use value_counts() to aggregate decades\n",
                "c = (df.year//10 *10).value_counts()\n",
                "# use .sort_index() to get index sorted\n",
                "c = c.sort_index()\n",
                "c.head()\n",
                "# use .plot(kind='bar') to get a bar plot\n",
                "c.plot(kind = 'bar')"
            ]
        },
        {
            "attachments": {},
            "cell_type": "markdown",
            "metadata": {},
            "source": [
                "## Pandas indexing\n",
                "- We can drop the default numerical index by casting one of the columns as an index using `set_index()`.\n",
                "- We can then use `sort_index()` method which allows quick lookups of data."
            ]
        },
        {
            "cell_type": "code",
            "execution_count": 65,
            "metadata": {},
            "outputs": [
                {
                    "name": "stdout",
                    "output_type": "stream",
                    "text": [
                        "CPU times: total: 15.6 ms\n",
                        "Wall time: 36 ms\n"
                    ]
                },
                {
                    "data": {
                        "text/html": [
                            "<div>\n",
                            "<style scoped>\n",
                            "    .dataframe tbody tr th:only-of-type {\n",
                            "        vertical-align: middle;\n",
                            "    }\n",
                            "\n",
                            "    .dataframe tbody tr th {\n",
                            "        vertical-align: top;\n",
                            "    }\n",
                            "\n",
                            "    .dataframe thead th {\n",
                            "        text-align: right;\n",
                            "    }\n",
                            "</style>\n",
                            "<table border=\"1\" class=\"dataframe\">\n",
                            "  <thead>\n",
                            "    <tr style=\"text-align: right;\">\n",
                            "      <th></th>\n",
                            "      <th>name</th>\n",
                            "      <th>title</th>\n",
                            "      <th>year</th>\n",
                            "      <th>rating</th>\n",
                            "      <th>votes</th>\n",
                            "    </tr>\n",
                            "  </thead>\n",
                            "  <tbody>\n",
                            "    <tr>\n",
                            "      <th>56354</th>\n",
                            "      <td>Ralph Macchio</td>\n",
                            "      <td>The Karate Kid</td>\n",
                            "      <td>1984</td>\n",
                            "      <td>7.3</td>\n",
                            "      <td>209089</td>\n",
                            "    </tr>\n",
                            "    <tr>\n",
                            "      <th>56355</th>\n",
                            "      <td>Pat Morita</td>\n",
                            "      <td>The Karate Kid</td>\n",
                            "      <td>1984</td>\n",
                            "      <td>7.3</td>\n",
                            "      <td>209089</td>\n",
                            "    </tr>\n",
                            "    <tr>\n",
                            "      <th>56356</th>\n",
                            "      <td>Elisabeth Shue</td>\n",
                            "      <td>The Karate Kid</td>\n",
                            "      <td>1984</td>\n",
                            "      <td>7.3</td>\n",
                            "      <td>209089</td>\n",
                            "    </tr>\n",
                            "    <tr>\n",
                            "      <th>56357</th>\n",
                            "      <td>Martin Kove</td>\n",
                            "      <td>The Karate Kid</td>\n",
                            "      <td>1984</td>\n",
                            "      <td>7.3</td>\n",
                            "      <td>209089</td>\n",
                            "    </tr>\n",
                            "  </tbody>\n",
                            "</table>\n",
                            "</div>"
                        ],
                        "text/plain": [
                            "                 name           title  year  rating   votes\n",
                            "56354   Ralph Macchio  The Karate Kid  1984     7.3  209089\n",
                            "56355      Pat Morita  The Karate Kid  1984     7.3  209089\n",
                            "56356  Elisabeth Shue  The Karate Kid  1984     7.3  209089\n",
                            "56357     Martin Kove  The Karate Kid  1984     7.3  209089"
                        ]
                    },
                    "execution_count": 65,
                    "metadata": {},
                    "output_type": "execute_result"
                }
            ],
            "source": [
                "%%time\n",
                "cast[(cast.title=='The Karate Kid') & (cast.year == 1984)].head()"
            ]
        },
        {
            "cell_type": "code",
            "execution_count": 38,
            "metadata": {},
            "outputs": [
                {
                    "data": {
                        "text/html": [
                            "<div>\n",
                            "<style scoped>\n",
                            "    .dataframe tbody tr th:only-of-type {\n",
                            "        vertical-align: middle;\n",
                            "    }\n",
                            "\n",
                            "    .dataframe tbody tr th {\n",
                            "        vertical-align: top;\n",
                            "    }\n",
                            "\n",
                            "    .dataframe thead th {\n",
                            "        text-align: right;\n",
                            "    }\n",
                            "</style>\n",
                            "<table border=\"1\" class=\"dataframe\">\n",
                            "  <thead>\n",
                            "    <tr style=\"text-align: right;\">\n",
                            "      <th></th>\n",
                            "      <th>name</th>\n",
                            "      <th>year</th>\n",
                            "      <th>rating</th>\n",
                            "      <th>votes;;</th>\n",
                            "    </tr>\n",
                            "    <tr>\n",
                            "      <th>title</th>\n",
                            "      <th></th>\n",
                            "      <th></th>\n",
                            "      <th></th>\n",
                            "      <th></th>\n",
                            "    </tr>\n",
                            "  </thead>\n",
                            "  <tbody>\n",
                            "    <tr>\n",
                            "      <th>!Women Art Revolution</th>\n",
                            "      <td>Lynn Hershman-Leeson</td>\n",
                            "      <td>2010.0</td>\n",
                            "      <td>6.8</td>\n",
                            "      <td>243;;</td>\n",
                            "    </tr>\n",
                            "    <tr>\n",
                            "      <th>!Women Art Revolution</th>\n",
                            "      <td>B. Ruby Rich</td>\n",
                            "      <td>2010.0</td>\n",
                            "      <td>6.8</td>\n",
                            "      <td>243;;</td>\n",
                            "    </tr>\n",
                            "    <tr>\n",
                            "      <th>#1 Serial Killer</th>\n",
                            "      <td>Jason Tobin</td>\n",
                            "      <td>2013.0</td>\n",
                            "      <td>5.5</td>\n",
                            "      <td>57;;</td>\n",
                            "    </tr>\n",
                            "    <tr>\n",
                            "      <th>#1 Serial Killer</th>\n",
                            "      <td>Eugenia Yuan</td>\n",
                            "      <td>2013.0</td>\n",
                            "      <td>5.5</td>\n",
                            "      <td>57;;</td>\n",
                            "    </tr>\n",
                            "    <tr>\n",
                            "      <th>#1 Serial Killer</th>\n",
                            "      <td>Shoshana Bush</td>\n",
                            "      <td>2013.0</td>\n",
                            "      <td>5.5</td>\n",
                            "      <td>57;;</td>\n",
                            "    </tr>\n",
                            "  </tbody>\n",
                            "</table>\n",
                            "</div>"
                        ],
                        "text/plain": [
                            "                                       name    year  rating votes;;\n",
                            "title                                                              \n",
                            "!Women Art Revolution  Lynn Hershman-Leeson  2010.0     6.8   243;;\n",
                            "!Women Art Revolution          B. Ruby Rich  2010.0     6.8   243;;\n",
                            "#1 Serial Killer                Jason Tobin  2013.0     5.5    57;;\n",
                            "#1 Serial Killer               Eugenia Yuan  2013.0     5.5    57;;\n",
                            "#1 Serial Killer              Shoshana Bush  2013.0     5.5    57;;"
                        ]
                    },
                    "execution_count": 38,
                    "metadata": {},
                    "output_type": "execute_result"
                }
            ],
            "source": [
                "# Setting the index to movie titles and sorting it \n",
                "c = cast.set_index(['title']).sort_index()\n",
                "c.head()"
            ]
        },
        {
            "cell_type": "code",
            "execution_count": 39,
            "metadata": {},
            "outputs": [
                {
                    "name": "stdout",
                    "output_type": "stream",
                    "text": [
                        "CPU times: total: 109 ms\n",
                        "Wall time: 117 ms\n"
                    ]
                },
                {
                    "data": {
                        "text/html": [
                            "<div>\n",
                            "<style scoped>\n",
                            "    .dataframe tbody tr th:only-of-type {\n",
                            "        vertical-align: middle;\n",
                            "    }\n",
                            "\n",
                            "    .dataframe tbody tr th {\n",
                            "        vertical-align: top;\n",
                            "    }\n",
                            "\n",
                            "    .dataframe thead th {\n",
                            "        text-align: right;\n",
                            "    }\n",
                            "</style>\n",
                            "<table border=\"1\" class=\"dataframe\">\n",
                            "  <thead>\n",
                            "    <tr style=\"text-align: right;\">\n",
                            "      <th></th>\n",
                            "      <th>name</th>\n",
                            "      <th>year</th>\n",
                            "      <th>rating</th>\n",
                            "      <th>votes;;</th>\n",
                            "    </tr>\n",
                            "    <tr>\n",
                            "      <th>title</th>\n",
                            "      <th></th>\n",
                            "      <th></th>\n",
                            "      <th></th>\n",
                            "      <th></th>\n",
                            "    </tr>\n",
                            "  </thead>\n",
                            "  <tbody>\n",
                            "    <tr>\n",
                            "      <th>The Karate Kid</th>\n",
                            "      <td>Taraji P. Henson</td>\n",
                            "      <td>2010.0</td>\n",
                            "      <td>6.2</td>\n",
                            "      <td>171641;;</td>\n",
                            "    </tr>\n",
                            "    <tr>\n",
                            "      <th>The Karate Kid</th>\n",
                            "      <td>Jackie Chan</td>\n",
                            "      <td>2010.0</td>\n",
                            "      <td>6.2</td>\n",
                            "      <td>171641;;</td>\n",
                            "    </tr>\n",
                            "    <tr>\n",
                            "      <th>The Karate Kid</th>\n",
                            "      <td>Martin Kove</td>\n",
                            "      <td>1984.0</td>\n",
                            "      <td>7.3</td>\n",
                            "      <td>209089;;</td>\n",
                            "    </tr>\n",
                            "    <tr>\n",
                            "      <th>The Karate Kid</th>\n",
                            "      <td>Elisabeth Shue</td>\n",
                            "      <td>1984.0</td>\n",
                            "      <td>7.3</td>\n",
                            "      <td>209089;;</td>\n",
                            "    </tr>\n",
                            "    <tr>\n",
                            "      <th>The Karate Kid</th>\n",
                            "      <td>Pat Morita</td>\n",
                            "      <td>1984.0</td>\n",
                            "      <td>7.3</td>\n",
                            "      <td>209089;;</td>\n",
                            "    </tr>\n",
                            "    <tr>\n",
                            "      <th>The Karate Kid</th>\n",
                            "      <td>Ralph Macchio</td>\n",
                            "      <td>1984.0</td>\n",
                            "      <td>7.3</td>\n",
                            "      <td>209089;;</td>\n",
                            "    </tr>\n",
                            "    <tr>\n",
                            "      <th>The Karate Kid</th>\n",
                            "      <td>Wenwen Han</td>\n",
                            "      <td>2010.0</td>\n",
                            "      <td>6.2</td>\n",
                            "      <td>171641;;</td>\n",
                            "    </tr>\n",
                            "    <tr>\n",
                            "      <th>The Karate Kid</th>\n",
                            "      <td>Jaden Smith</td>\n",
                            "      <td>2010.0</td>\n",
                            "      <td>6.2</td>\n",
                            "      <td>171641;;</td>\n",
                            "    </tr>\n",
                            "  </tbody>\n",
                            "</table>\n",
                            "</div>"
                        ],
                        "text/plain": [
                            "                            name    year  rating   votes;;\n",
                            "title                                                     \n",
                            "The Karate Kid  Taraji P. Henson  2010.0     6.2  171641;;\n",
                            "The Karate Kid       Jackie Chan  2010.0     6.2  171641;;\n",
                            "The Karate Kid       Martin Kove  1984.0     7.3  209089;;\n",
                            "The Karate Kid    Elisabeth Shue  1984.0     7.3  209089;;\n",
                            "The Karate Kid        Pat Morita  1984.0     7.3  209089;;\n",
                            "The Karate Kid     Ralph Macchio  1984.0     7.3  209089;;\n",
                            "The Karate Kid        Wenwen Han  2010.0     6.2  171641;;\n",
                            "The Karate Kid       Jaden Smith  2010.0     6.2  171641;;"
                        ]
                    },
                    "execution_count": 39,
                    "metadata": {},
                    "output_type": "execute_result"
                }
            ],
            "source": [
                "%%time\n",
                "# Comparing its speed to the operation above \n",
                "c.loc['The Karate Kid']"
            ]
        },
        {
            "attachments": {},
            "cell_type": "markdown",
            "metadata": {},
            "source": [
                "## Groupby operations\n",
                "- Since it is so common to pull information from various columns, we have an aggregator method called `groupby()`\n",
                "- Using `groupby()` will return a `groupby` object. We can then use methods such as `size()`,`mean()`,`max()`,`min()` on this which will combine the remaining columns.\n",
                "- The output of a `groupby()` operation maybe a `Series` or a `Dataframe` depending on the number of columns after the operation. The input of `groupby()` could be any column, or even an operation on a particular column.\n",
                "![Example of a `groupby()` operation](https://miro.medium.com/max/1838/0*m-puRNwcnUl5zZ4O)"
            ]
        },
        {
            "cell_type": "code",
            "execution_count": 40,
            "metadata": {},
            "outputs": [
                {
                    "data": {
                        "text/plain": [
                            "year\n",
                            "1993.0    2\n",
                            "1995.0    3\n",
                            "1996.0    2\n",
                            "1997.0    1\n",
                            "1998.0    2\n",
                            "2000.0    1\n",
                            "2001.0    1\n",
                            "2002.0    2\n",
                            "2004.0    1\n",
                            "2006.0    2\n",
                            "2007.0    1\n",
                            "2008.0    3\n",
                            "2009.0    1\n",
                            "2010.0    4\n",
                            "2011.0    1\n",
                            "2012.0    2\n",
                            "2013.0    2\n",
                            "2015.0    1\n",
                            "2016.0    1\n",
                            "2017.0    1\n",
                            "2019.0    2\n",
                            "dtype: int64"
                        ]
                    },
                    "execution_count": 40,
                    "metadata": {},
                    "output_type": "execute_result"
                }
            ],
            "source": [
                "# Finding the total number of movies by Leonardo Dicaprio in each year\n",
                "c = cast[cast.name == 'Leonardo DiCaprio']\n",
                "c.groupby('year').size()"
            ]
        },
        {
            "cell_type": "code",
            "execution_count": 41,
            "metadata": {},
            "outputs": [
                {
                    "data": {
                        "text/plain": [
                            "year\n",
                            "1990.0    10\n",
                            "2000.0    12\n",
                            "2010.0    14\n",
                            "dtype: int64"
                        ]
                    },
                    "execution_count": 41,
                    "metadata": {},
                    "output_type": "execute_result"
                }
            ],
            "source": [
                "# Finding the total number of movies by Leonardo Dicaprio in each decade\n",
                "c = cast[cast.name == 'Leonardo DiCaprio']\n",
                "c.groupby(c.year//10*10).size()"
            ]
        },
        {
            "attachments": {},
            "cell_type": "markdown",
            "metadata": {},
            "source": [
                "## Merging Dataframes\n",
                "- Often you need to combine dataframes with similar information\n",
                "- We can use the `.merge()` method to do this.\n",
                "- Below we combine information from `cast.csv` and `release_dates.csv`."
            ]
        },
        {
            "cell_type": "code",
            "execution_count": 42,
            "metadata": {},
            "outputs": [
                {
                    "ename": "FileNotFoundError",
                    "evalue": "[Errno 2] No such file or directory: 'data/release_dates.zip'",
                    "output_type": "error",
                    "traceback": [
                        "\u001b[1;31m---------------------------------------------------------------------------\u001b[0m",
                        "\u001b[1;31mFileNotFoundError\u001b[0m                         Traceback (most recent call last)",
                        "Cell \u001b[1;32mIn[42], line 2\u001b[0m\n\u001b[0;32m      1\u001b[0m \u001b[39m# We call a new dataframe that gives us the release dates for each of the movies \u001b[39;00m\n\u001b[1;32m----> 2\u001b[0m release_dates \u001b[39m=\u001b[39m pd\u001b[39m.\u001b[39;49mread_csv(\u001b[39m'\u001b[39;49m\u001b[39mdata/release_dates.zip\u001b[39;49m\u001b[39m'\u001b[39;49m)\n\u001b[0;32m      3\u001b[0m release_dates\u001b[39m.\u001b[39mhead()\n",
                        "File \u001b[1;32mc:\\Users\\lajva\\AppData\\Local\\Programs\\Python\\Python311\\Lib\\site-packages\\pandas\\io\\parsers\\readers.py:912\u001b[0m, in \u001b[0;36mread_csv\u001b[1;34m(filepath_or_buffer, sep, delimiter, header, names, index_col, usecols, dtype, engine, converters, true_values, false_values, skipinitialspace, skiprows, skipfooter, nrows, na_values, keep_default_na, na_filter, verbose, skip_blank_lines, parse_dates, infer_datetime_format, keep_date_col, date_parser, date_format, dayfirst, cache_dates, iterator, chunksize, compression, thousands, decimal, lineterminator, quotechar, quoting, doublequote, escapechar, comment, encoding, encoding_errors, dialect, on_bad_lines, delim_whitespace, low_memory, memory_map, float_precision, storage_options, dtype_backend)\u001b[0m\n\u001b[0;32m    899\u001b[0m kwds_defaults \u001b[39m=\u001b[39m _refine_defaults_read(\n\u001b[0;32m    900\u001b[0m     dialect,\n\u001b[0;32m    901\u001b[0m     delimiter,\n\u001b[1;32m   (...)\u001b[0m\n\u001b[0;32m    908\u001b[0m     dtype_backend\u001b[39m=\u001b[39mdtype_backend,\n\u001b[0;32m    909\u001b[0m )\n\u001b[0;32m    910\u001b[0m kwds\u001b[39m.\u001b[39mupdate(kwds_defaults)\n\u001b[1;32m--> 912\u001b[0m \u001b[39mreturn\u001b[39;00m _read(filepath_or_buffer, kwds)\n",
                        "File \u001b[1;32mc:\\Users\\lajva\\AppData\\Local\\Programs\\Python\\Python311\\Lib\\site-packages\\pandas\\io\\parsers\\readers.py:577\u001b[0m, in \u001b[0;36m_read\u001b[1;34m(filepath_or_buffer, kwds)\u001b[0m\n\u001b[0;32m    574\u001b[0m _validate_names(kwds\u001b[39m.\u001b[39mget(\u001b[39m\"\u001b[39m\u001b[39mnames\u001b[39m\u001b[39m\"\u001b[39m, \u001b[39mNone\u001b[39;00m))\n\u001b[0;32m    576\u001b[0m \u001b[39m# Create the parser.\u001b[39;00m\n\u001b[1;32m--> 577\u001b[0m parser \u001b[39m=\u001b[39m TextFileReader(filepath_or_buffer, \u001b[39m*\u001b[39;49m\u001b[39m*\u001b[39;49mkwds)\n\u001b[0;32m    579\u001b[0m \u001b[39mif\u001b[39;00m chunksize \u001b[39mor\u001b[39;00m iterator:\n\u001b[0;32m    580\u001b[0m     \u001b[39mreturn\u001b[39;00m parser\n",
                        "File \u001b[1;32mc:\\Users\\lajva\\AppData\\Local\\Programs\\Python\\Python311\\Lib\\site-packages\\pandas\\io\\parsers\\readers.py:1407\u001b[0m, in \u001b[0;36mTextFileReader.__init__\u001b[1;34m(self, f, engine, **kwds)\u001b[0m\n\u001b[0;32m   1404\u001b[0m     \u001b[39mself\u001b[39m\u001b[39m.\u001b[39moptions[\u001b[39m\"\u001b[39m\u001b[39mhas_index_names\u001b[39m\u001b[39m\"\u001b[39m] \u001b[39m=\u001b[39m kwds[\u001b[39m\"\u001b[39m\u001b[39mhas_index_names\u001b[39m\u001b[39m\"\u001b[39m]\n\u001b[0;32m   1406\u001b[0m \u001b[39mself\u001b[39m\u001b[39m.\u001b[39mhandles: IOHandles \u001b[39m|\u001b[39m \u001b[39mNone\u001b[39;00m \u001b[39m=\u001b[39m \u001b[39mNone\u001b[39;00m\n\u001b[1;32m-> 1407\u001b[0m \u001b[39mself\u001b[39m\u001b[39m.\u001b[39m_engine \u001b[39m=\u001b[39m \u001b[39mself\u001b[39;49m\u001b[39m.\u001b[39;49m_make_engine(f, \u001b[39mself\u001b[39;49m\u001b[39m.\u001b[39;49mengine)\n",
                        "File \u001b[1;32mc:\\Users\\lajva\\AppData\\Local\\Programs\\Python\\Python311\\Lib\\site-packages\\pandas\\io\\parsers\\readers.py:1661\u001b[0m, in \u001b[0;36mTextFileReader._make_engine\u001b[1;34m(self, f, engine)\u001b[0m\n\u001b[0;32m   1659\u001b[0m     \u001b[39mif\u001b[39;00m \u001b[39m\"\u001b[39m\u001b[39mb\u001b[39m\u001b[39m\"\u001b[39m \u001b[39mnot\u001b[39;00m \u001b[39min\u001b[39;00m mode:\n\u001b[0;32m   1660\u001b[0m         mode \u001b[39m+\u001b[39m\u001b[39m=\u001b[39m \u001b[39m\"\u001b[39m\u001b[39mb\u001b[39m\u001b[39m\"\u001b[39m\n\u001b[1;32m-> 1661\u001b[0m \u001b[39mself\u001b[39m\u001b[39m.\u001b[39mhandles \u001b[39m=\u001b[39m get_handle(\n\u001b[0;32m   1662\u001b[0m     f,\n\u001b[0;32m   1663\u001b[0m     mode,\n\u001b[0;32m   1664\u001b[0m     encoding\u001b[39m=\u001b[39;49m\u001b[39mself\u001b[39;49m\u001b[39m.\u001b[39;49moptions\u001b[39m.\u001b[39;49mget(\u001b[39m\"\u001b[39;49m\u001b[39mencoding\u001b[39;49m\u001b[39m\"\u001b[39;49m, \u001b[39mNone\u001b[39;49;00m),\n\u001b[0;32m   1665\u001b[0m     compression\u001b[39m=\u001b[39;49m\u001b[39mself\u001b[39;49m\u001b[39m.\u001b[39;49moptions\u001b[39m.\u001b[39;49mget(\u001b[39m\"\u001b[39;49m\u001b[39mcompression\u001b[39;49m\u001b[39m\"\u001b[39;49m, \u001b[39mNone\u001b[39;49;00m),\n\u001b[0;32m   1666\u001b[0m     memory_map\u001b[39m=\u001b[39;49m\u001b[39mself\u001b[39;49m\u001b[39m.\u001b[39;49moptions\u001b[39m.\u001b[39;49mget(\u001b[39m\"\u001b[39;49m\u001b[39mmemory_map\u001b[39;49m\u001b[39m\"\u001b[39;49m, \u001b[39mFalse\u001b[39;49;00m),\n\u001b[0;32m   1667\u001b[0m     is_text\u001b[39m=\u001b[39;49mis_text,\n\u001b[0;32m   1668\u001b[0m     errors\u001b[39m=\u001b[39;49m\u001b[39mself\u001b[39;49m\u001b[39m.\u001b[39;49moptions\u001b[39m.\u001b[39;49mget(\u001b[39m\"\u001b[39;49m\u001b[39mencoding_errors\u001b[39;49m\u001b[39m\"\u001b[39;49m, \u001b[39m\"\u001b[39;49m\u001b[39mstrict\u001b[39;49m\u001b[39m\"\u001b[39;49m),\n\u001b[0;32m   1669\u001b[0m     storage_options\u001b[39m=\u001b[39;49m\u001b[39mself\u001b[39;49m\u001b[39m.\u001b[39;49moptions\u001b[39m.\u001b[39;49mget(\u001b[39m\"\u001b[39;49m\u001b[39mstorage_options\u001b[39;49m\u001b[39m\"\u001b[39;49m, \u001b[39mNone\u001b[39;49;00m),\n\u001b[0;32m   1670\u001b[0m )\n\u001b[0;32m   1671\u001b[0m \u001b[39massert\u001b[39;00m \u001b[39mself\u001b[39m\u001b[39m.\u001b[39mhandles \u001b[39mis\u001b[39;00m \u001b[39mnot\u001b[39;00m \u001b[39mNone\u001b[39;00m\n\u001b[0;32m   1672\u001b[0m f \u001b[39m=\u001b[39m \u001b[39mself\u001b[39m\u001b[39m.\u001b[39mhandles\u001b[39m.\u001b[39mhandle\n",
                        "File \u001b[1;32mc:\\Users\\lajva\\AppData\\Local\\Programs\\Python\\Python311\\Lib\\site-packages\\pandas\\io\\common.py:782\u001b[0m, in \u001b[0;36mget_handle\u001b[1;34m(path_or_buf, mode, encoding, compression, memory_map, is_text, errors, storage_options)\u001b[0m\n\u001b[0;32m    777\u001b[0m \u001b[39m# ZIP Compression\u001b[39;00m\n\u001b[0;32m    778\u001b[0m \u001b[39melif\u001b[39;00m compression \u001b[39m==\u001b[39m \u001b[39m\"\u001b[39m\u001b[39mzip\u001b[39m\u001b[39m\"\u001b[39m:\n\u001b[0;32m    779\u001b[0m     \u001b[39m# error: Argument 1 to \"_BytesZipFile\" has incompatible type\u001b[39;00m\n\u001b[0;32m    780\u001b[0m     \u001b[39m# \"Union[str, BaseBuffer]\"; expected \"Union[Union[str, PathLike[str]],\u001b[39;00m\n\u001b[0;32m    781\u001b[0m     \u001b[39m# ReadBuffer[bytes], WriteBuffer[bytes]]\"\u001b[39;00m\n\u001b[1;32m--> 782\u001b[0m     handle \u001b[39m=\u001b[39m _BytesZipFile(\n\u001b[0;32m    783\u001b[0m         handle, ioargs\u001b[39m.\u001b[39;49mmode, \u001b[39m*\u001b[39;49m\u001b[39m*\u001b[39;49mcompression_args  \u001b[39m# type: ignore[arg-type]\u001b[39;49;00m\n\u001b[0;32m    784\u001b[0m     )\n\u001b[0;32m    785\u001b[0m     \u001b[39mif\u001b[39;00m handle\u001b[39m.\u001b[39mbuffer\u001b[39m.\u001b[39mmode \u001b[39m==\u001b[39m \u001b[39m\"\u001b[39m\u001b[39mr\u001b[39m\u001b[39m\"\u001b[39m:\n\u001b[0;32m    786\u001b[0m         handles\u001b[39m.\u001b[39mappend(handle)\n",
                        "File \u001b[1;32mc:\\Users\\lajva\\AppData\\Local\\Programs\\Python\\Python311\\Lib\\site-packages\\pandas\\io\\common.py:1025\u001b[0m, in \u001b[0;36m_BytesZipFile.__init__\u001b[1;34m(self, file, mode, archive_name, **kwargs)\u001b[0m\n\u001b[0;32m   1021\u001b[0m kwargs\u001b[39m.\u001b[39msetdefault(\u001b[39m\"\u001b[39m\u001b[39mcompression\u001b[39m\u001b[39m\"\u001b[39m, zipfile\u001b[39m.\u001b[39mZIP_DEFLATED)\n\u001b[0;32m   1022\u001b[0m \u001b[39m# error: Argument 1 to \"ZipFile\" has incompatible type \"Union[\u001b[39;00m\n\u001b[0;32m   1023\u001b[0m \u001b[39m# Union[str, PathLike[str]], ReadBuffer[bytes], WriteBuffer[bytes]]\";\u001b[39;00m\n\u001b[0;32m   1024\u001b[0m \u001b[39m# expected \"Union[Union[str, PathLike[str]], IO[bytes]]\"\u001b[39;00m\n\u001b[1;32m-> 1025\u001b[0m \u001b[39mself\u001b[39m\u001b[39m.\u001b[39mbuffer \u001b[39m=\u001b[39m zipfile\u001b[39m.\u001b[39;49mZipFile(file, mode, \u001b[39m*\u001b[39;49m\u001b[39m*\u001b[39;49mkwargs)\n",
                        "File \u001b[1;32mc:\\Users\\lajva\\AppData\\Local\\Programs\\Python\\Python311\\Lib\\zipfile.py:1284\u001b[0m, in \u001b[0;36mZipFile.__init__\u001b[1;34m(self, file, mode, compression, allowZip64, compresslevel, strict_timestamps, metadata_encoding)\u001b[0m\n\u001b[0;32m   1282\u001b[0m \u001b[39mwhile\u001b[39;00m \u001b[39mTrue\u001b[39;00m:\n\u001b[0;32m   1283\u001b[0m     \u001b[39mtry\u001b[39;00m:\n\u001b[1;32m-> 1284\u001b[0m         \u001b[39mself\u001b[39m\u001b[39m.\u001b[39mfp \u001b[39m=\u001b[39m io\u001b[39m.\u001b[39;49mopen(file, filemode)\n\u001b[0;32m   1285\u001b[0m     \u001b[39mexcept\u001b[39;00m \u001b[39mOSError\u001b[39;00m:\n\u001b[0;32m   1286\u001b[0m         \u001b[39mif\u001b[39;00m filemode \u001b[39min\u001b[39;00m modeDict:\n",
                        "\u001b[1;31mFileNotFoundError\u001b[0m: [Errno 2] No such file or directory: 'data/release_dates.zip'"
                    ]
                }
            ],
            "source": [
                "# We call a new dataframe that gives us the release dates for each of the movies \n",
                "release_dates = pd.read_csv('data/release_dates.zip')\n",
                "release_dates.head()"
            ]
        },
        {
            "cell_type": "code",
            "execution_count": 167,
            "metadata": {},
            "outputs": [
                {
                    "data": {
                        "text/html": [
                            "<div>\n",
                            "<style scoped>\n",
                            "    .dataframe tbody tr th:only-of-type {\n",
                            "        vertical-align: middle;\n",
                            "    }\n",
                            "\n",
                            "    .dataframe tbody tr th {\n",
                            "        vertical-align: top;\n",
                            "    }\n",
                            "\n",
                            "    .dataframe thead th {\n",
                            "        text-align: right;\n",
                            "    }\n",
                            "</style>\n",
                            "<table border=\"1\" class=\"dataframe\">\n",
                            "  <thead>\n",
                            "    <tr style=\"text-align: right;\">\n",
                            "      <th></th>\n",
                            "      <th>title</th>\n",
                            "      <th>year</th>\n",
                            "      <th>name</th>\n",
                            "      <th>type</th>\n",
                            "      <th>character</th>\n",
                            "      <th>n</th>\n",
                            "    </tr>\n",
                            "  </thead>\n",
                            "  <tbody>\n",
                            "    <tr>\n",
                            "      <th>3033</th>\n",
                            "      <td>Blood Diamond</td>\n",
                            "      <td>2006</td>\n",
                            "      <td>Leonardo DiCaprio</td>\n",
                            "      <td>actor</td>\n",
                            "      <td>Danny Archer</td>\n",
                            "      <td>1.0</td>\n",
                            "    </tr>\n",
                            "    <tr>\n",
                            "      <th>3034</th>\n",
                            "      <td>Body of Lies</td>\n",
                            "      <td>2008</td>\n",
                            "      <td>Leonardo DiCaprio</td>\n",
                            "      <td>actor</td>\n",
                            "      <td>Roger Ferris</td>\n",
                            "      <td>1.0</td>\n",
                            "    </tr>\n",
                            "    <tr>\n",
                            "      <th>3035</th>\n",
                            "      <td>Catch Me If You Can</td>\n",
                            "      <td>2002</td>\n",
                            "      <td>Leonardo DiCaprio</td>\n",
                            "      <td>actor</td>\n",
                            "      <td>Frank Abagnale Jr.</td>\n",
                            "      <td>1.0</td>\n",
                            "    </tr>\n",
                            "    <tr>\n",
                            "      <th>3036</th>\n",
                            "      <td>Celebrity</td>\n",
                            "      <td>1998</td>\n",
                            "      <td>Leonardo DiCaprio</td>\n",
                            "      <td>actor</td>\n",
                            "      <td>Brandon Darrow</td>\n",
                            "      <td>93.0</td>\n",
                            "    </tr>\n",
                            "    <tr>\n",
                            "      <th>3037</th>\n",
                            "      <td>Django Unchained</td>\n",
                            "      <td>2012</td>\n",
                            "      <td>Leonardo DiCaprio</td>\n",
                            "      <td>actor</td>\n",
                            "      <td>Calvin Candie</td>\n",
                            "      <td>3.0</td>\n",
                            "    </tr>\n",
                            "  </tbody>\n",
                            "</table>\n",
                            "</div>"
                        ],
                        "text/plain": [
                            "                    title  year               name   type           character  \\\n",
                            "3033        Blood Diamond  2006  Leonardo DiCaprio  actor        Danny Archer   \n",
                            "3034         Body of Lies  2008  Leonardo DiCaprio  actor        Roger Ferris   \n",
                            "3035  Catch Me If You Can  2002  Leonardo DiCaprio  actor  Frank Abagnale Jr.   \n",
                            "3036            Celebrity  1998  Leonardo DiCaprio  actor      Brandon Darrow   \n",
                            "3037     Django Unchained  2012  Leonardo DiCaprio  actor       Calvin Candie   \n",
                            "\n",
                            "         n  \n",
                            "3033   1.0  \n",
                            "3034   1.0  \n",
                            "3035   1.0  \n",
                            "3036  93.0  \n",
                            "3037   3.0  "
                        ]
                    },
                    "execution_count": 167,
                    "metadata": {},
                    "output_type": "execute_result"
                }
            ],
            "source": [
                "# Selecting all roles in movies by Leonardo DiCaprio\n",
                "c = cast[cast.name == 'Leonardo DiCaprio']\n",
                "c.head()"
            ]
        },
        {
            "cell_type": "code",
            "execution_count": 168,
            "metadata": {},
            "outputs": [
                {
                    "data": {
                        "text/html": [
                            "<div>\n",
                            "<style scoped>\n",
                            "    .dataframe tbody tr th:only-of-type {\n",
                            "        vertical-align: middle;\n",
                            "    }\n",
                            "\n",
                            "    .dataframe tbody tr th {\n",
                            "        vertical-align: top;\n",
                            "    }\n",
                            "\n",
                            "    .dataframe thead th {\n",
                            "        text-align: right;\n",
                            "    }\n",
                            "</style>\n",
                            "<table border=\"1\" class=\"dataframe\">\n",
                            "  <thead>\n",
                            "    <tr style=\"text-align: right;\">\n",
                            "      <th></th>\n",
                            "      <th>title</th>\n",
                            "      <th>year</th>\n",
                            "      <th>name</th>\n",
                            "      <th>type</th>\n",
                            "      <th>character</th>\n",
                            "      <th>n</th>\n",
                            "      <th>country</th>\n",
                            "      <th>date</th>\n",
                            "    </tr>\n",
                            "  </thead>\n",
                            "  <tbody>\n",
                            "    <tr>\n",
                            "      <th>0</th>\n",
                            "      <td>Blood Diamond</td>\n",
                            "      <td>2006</td>\n",
                            "      <td>Leonardo DiCaprio</td>\n",
                            "      <td>actor</td>\n",
                            "      <td>Danny Archer</td>\n",
                            "      <td>1.0</td>\n",
                            "      <td>USA</td>\n",
                            "      <td>2006-12-08</td>\n",
                            "    </tr>\n",
                            "    <tr>\n",
                            "      <th>1</th>\n",
                            "      <td>Blood Diamond</td>\n",
                            "      <td>2006</td>\n",
                            "      <td>Leonardo DiCaprio</td>\n",
                            "      <td>actor</td>\n",
                            "      <td>Danny Archer</td>\n",
                            "      <td>1.0</td>\n",
                            "      <td>Australia</td>\n",
                            "      <td>2007-01-04</td>\n",
                            "    </tr>\n",
                            "    <tr>\n",
                            "      <th>2</th>\n",
                            "      <td>Blood Diamond</td>\n",
                            "      <td>2006</td>\n",
                            "      <td>Leonardo DiCaprio</td>\n",
                            "      <td>actor</td>\n",
                            "      <td>Danny Archer</td>\n",
                            "      <td>1.0</td>\n",
                            "      <td>Singapore</td>\n",
                            "      <td>2007-01-04</td>\n",
                            "    </tr>\n",
                            "    <tr>\n",
                            "      <th>3</th>\n",
                            "      <td>Blood Diamond</td>\n",
                            "      <td>2006</td>\n",
                            "      <td>Leonardo DiCaprio</td>\n",
                            "      <td>actor</td>\n",
                            "      <td>Danny Archer</td>\n",
                            "      <td>1.0</td>\n",
                            "      <td>Thailand</td>\n",
                            "      <td>2007-01-04</td>\n",
                            "    </tr>\n",
                            "    <tr>\n",
                            "      <th>4</th>\n",
                            "      <td>Blood Diamond</td>\n",
                            "      <td>2006</td>\n",
                            "      <td>Leonardo DiCaprio</td>\n",
                            "      <td>actor</td>\n",
                            "      <td>Danny Archer</td>\n",
                            "      <td>1.0</td>\n",
                            "      <td>Brazil</td>\n",
                            "      <td>2007-01-05</td>\n",
                            "    </tr>\n",
                            "  </tbody>\n",
                            "</table>\n",
                            "</div>"
                        ],
                        "text/plain": [
                            "           title  year               name   type     character    n  \\\n",
                            "0  Blood Diamond  2006  Leonardo DiCaprio  actor  Danny Archer  1.0   \n",
                            "1  Blood Diamond  2006  Leonardo DiCaprio  actor  Danny Archer  1.0   \n",
                            "2  Blood Diamond  2006  Leonardo DiCaprio  actor  Danny Archer  1.0   \n",
                            "3  Blood Diamond  2006  Leonardo DiCaprio  actor  Danny Archer  1.0   \n",
                            "4  Blood Diamond  2006  Leonardo DiCaprio  actor  Danny Archer  1.0   \n",
                            "\n",
                            "     country        date  \n",
                            "0        USA  2006-12-08  \n",
                            "1  Australia  2007-01-04  \n",
                            "2  Singapore  2007-01-04  \n",
                            "3   Thailand  2007-01-04  \n",
                            "4     Brazil  2007-01-05  "
                        ]
                    },
                    "execution_count": 168,
                    "metadata": {},
                    "output_type": "execute_result"
                }
            ],
            "source": [
                "# Merging with release_dates.csv to get information on the release dates of the above movies\n",
                "d = c.merge(release_dates)\n",
                "d.head()"
            ]
        },
        {
            "cell_type": "code",
            "execution_count": 169,
            "metadata": {},
            "outputs": [
                {
                    "data": {
                        "text/plain": [
                            "title         object\n",
                            "year           int64\n",
                            "name          object\n",
                            "type          object\n",
                            "character     object\n",
                            "n            float64\n",
                            "country       object\n",
                            "date          object\n",
                            "dtype: object"
                        ]
                    },
                    "execution_count": 169,
                    "metadata": {},
                    "output_type": "execute_result"
                }
            ],
            "source": [
                "# Checking the dtypes\n",
                "d.dtypes"
            ]
        },
        {
            "cell_type": "code",
            "execution_count": 170,
            "metadata": {},
            "outputs": [],
            "source": [
                "# Since the date column is not a datetime object by default, we will need to convert it\n",
                "d.date = pd.to_datetime(d.date)"
            ]
        },
        {
            "cell_type": "code",
            "execution_count": 171,
            "metadata": {},
            "outputs": [
                {
                    "data": {
                        "image/png": "[encoded data removed]",
                        "text/plain": [
                            "<Figure size 720x360 with 1 Axes>"
                        ]
                    },
                    "metadata": {
                        "needs_background": "light"
                    },
                    "output_type": "display_data"
                }
            ],
            "source": [
                "import matplotlib.pyplot as plt\n",
                "fig,ax = plt.subplots(figsize=(10,5))\n",
                "# color = ['#CDC8E1','#B9D6D9','#EA9A98']\n",
                "# d.groupby(['name',d.date.dt.month]).size().unstack(0).apply(lambda x: x / x.max()).plot(kind='bar',ax=ax,color = color,width=0.6)\n",
                "d.date.dt.month.value_counts().sort_index().plot(kind='bar',ax=ax,color = '#B9D6D9',label='Month')\n",
                "ax.set_xticklabels(['Jan', 'Feb', 'Mar', 'Apr', 'May', 'Jun', 'Jul', 'Aug', 'Sep', 'Oct', 'Nov', 'Dec'],rotation=0)\n",
                "ax.legend(fontsize=12)\n",
                "ax.spines['right'].set_visible(False)\n",
                "ax.spines['top'].set_visible(False)\n",
                "ax.patch.set_facecolor('None')\n",
                "ax.set_ylabel('Count',fontsize=14,rotation=0,labelpad=20);"
            ]
        },
        {
            "attachments": {},
            "cell_type": "markdown",
            "metadata": {},
            "source": [
                "## Saving Dataframes to disk\n",
                "- Often you need save your analysis to your system.\n",
                "- You can do this by using the `.to_csv()` method.\n",
                "- `.to_csv()` takes a filename as an argument and several optional arguments. More [here](https://pandas.pydata.org/docs/reference/api/pandas.DataFrame.to_csv.html)"
            ]
        },
        {
            "cell_type": "code",
            "execution_count": null,
            "metadata": {},
            "outputs": [],
            "source": [
                "# This will save the file to the disk at the location where the pandas file is used\n",
                "d.to_csv('filename.csv',index=False)"
            ]
        }
    ],
    "metadata": {
        "kernelspec": {
            "display_name": "Python 3 (ipykernel)",
            "language": "python",
            "name": "python3"
        },
        "language_info": {
            "codemirror_mode": {
                "name": "ipython",
                "version": 3
            },
            "file_extension": ".py",
            "mimetype": "text/x-python",
            "name": "python",
            "nbconvert_exporter": "python",
            "pygments_lexer": "ipython3",
            "version": "3.11.4"
        }
    },
    "nbformat": 4,
    "nbformat_minor": 4
}
